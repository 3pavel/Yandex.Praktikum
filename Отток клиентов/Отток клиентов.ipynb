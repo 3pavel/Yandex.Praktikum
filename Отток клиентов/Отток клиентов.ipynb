{
 "cells": [
  {
   "cell_type": "markdown",
   "metadata": {},
   "source": [
    "# Отток клиентов"
   ]
  },
  {
   "cell_type": "markdown",
   "metadata": {},
   "source": [
    "Из «Бета-Банка» стали уходить клиенты. Каждый месяц. Немного, но заметно. Банковские маркетологи посчитали: сохранять текущих клиентов дешевле, чем привлекать новых.\n",
    "\n",
    "Нужно спрогнозировать, уйдёт клиент из банка в ближайшее время или нет. Вам предоставлены исторические данные о поведении клиентов и расторжении договоров с банком. \n",
    "\n",
    "Постройте модель с предельно большим значением *F1*-меры. Чтобы сдать проект успешно, нужно довести метрику до 0.59. Проверьте *F1*-меру на тестовой выборке самостоятельно.\n",
    "\n",
    "Дополнительно измеряйте *AUC-ROC*, сравнивайте её значение с *F1*-мерой.\n",
    "\n",
    "Источник данных: [https://www.kaggle.com/barelydedicated/bank-customer-churn-modeling](https://www.kaggle.com/barelydedicated/bank-customer-churn-modeling)"
   ]
  },
  {
   "cell_type": "markdown",
   "metadata": {},
   "source": [
    "# Оглавление"
   ]
  },
  {
   "cell_type": "markdown",
   "metadata": {},
   "source": [
    "[Описание данных](#data) <br>\n",
    "[Откроем файл с данными и изучим общую информацию](#open)\n",
    "1. [Подготовка данных](#1)<br>\n",
    "    1.1 [Приведем названия столбцов в подобающий вид](#1-1)<br>\n",
    "    1.2 [Обработаем пропуски в данных](#1-2)<br>\n",
    "    1.3 [Преобразуем данные в нужные типы](#1-3)<br>\n",
    "    1.4 [Удаление ненужных столбцов](#1-4)<br>\n",
    "    1.5 [Кодирование категориальных признаков](#1-5)<br>\n",
    "    1.6 [Разобьем датафрейм](#1-6)<br>\n",
    "    1.7 [Масштабирование признаков](#1-7)<br>\n",
    "2. [Исследование задачи](#2)<br>\n",
    "    2.1 [Исследование баланса классов](#2-1)<br>\n",
    "    2.2 [Обучение модели без учёта дисбаланса](#2-2)<br>\n",
    "3. [Борьба с дисбалансом](#3)<br>\n",
    "    3.1 [Взвешивание классов](#3-1)<br>\n",
    "    3.2 [Увеличение выборки](#3-2)<br>\n",
    "    3.3 [Уменьшение выборки](#3-3)<br>\n",
    "4. [Тестирование модели](#4)<br>\n",
    "    4.1 [Проведем проверку модели на тестовой выборке](#4-1)<br>\n",
    "    4.2 [Метрика AUC-ROC](#4-2)<br>\n",
    "[Выводы](#end)<br>"
   ]
  },
  {
   "cell_type": "markdown",
   "metadata": {},
   "source": [
    "---\n",
    "<a id='data'></a>\n",
    "# Описание данных\n",
    "### 🧩 Признаки\n",
    "•\tRowNumber — индекс строки в данных <br>\n",
    "•\tCustomerId — уникальный идентификатор клиента <br>\n",
    "•\tSurname — фамилия <br>\n",
    "•\tCreditScore — кредитный рейтинг <br>\n",
    "•\tGeography — страна проживания <br>\n",
    "•\tGender — пол <br>\n",
    "•\tAge — возраст <br>\n",
    "•\tTenure — количество недвижимости у клиента <br>\n",
    "•\tBalance — баланс на счёте <br>\n",
    "•\tNumOfProducts — количество продуктов банка, используемых клиентом <br>\n",
    "•\tHasCrCard — наличие кредитной карты <br>\n",
    "•\tIsActiveMember — активность клиента <br>\n",
    "•\tEstimatedSalary — предполагаемая зарплата <br>\n",
    "### 🎯 Целевой признак\n",
    "•\tExited — факт ухода клиента\n",
    "\n",
    "❗️ __В нашем случае стоит задача классификации, так как целевой признак является категориальным__"
   ]
  },
  {
   "cell_type": "code",
   "execution_count": 1,
   "metadata": {},
   "outputs": [],
   "source": [
    "#   импорт необходимых библиотек\n",
    "from IPython.display import display\n",
    "import numpy as np\n",
    "import pandas as pd\n",
    "import matplotlib.pyplot as plt\n",
    "import seaborn as sns\n",
    "\n",
    "from sklearn.model_selection import train_test_split\n",
    "from sklearn.preprocessing import LabelEncoder, OneHotEncoder, StandardScaler\n",
    "from sklearn.tree import DecisionTreeClassifier\n",
    "from sklearn.ensemble import RandomForestClassifier\n",
    "from sklearn.linear_model import LogisticRegression\n",
    "from sklearn.metrics import f1_score, roc_auc_score, roc_curve\n",
    "from sklearn.utils import shuffle\n",
    "\n",
    "import warnings\n",
    "warnings.simplefilter('ignore')"
   ]
  },
  {
   "cell_type": "markdown",
   "metadata": {},
   "source": [
    "<a id='open'></a>\n",
    "# Откроем файл с данными и изучим общую информацию"
   ]
  },
  {
   "cell_type": "code",
   "execution_count": 2,
   "metadata": {},
   "outputs": [],
   "source": [
    "df_clients = pd.read_csv('.../datasets/Churn.csv')"
   ]
  },
  {
   "cell_type": "code",
   "execution_count": 3,
   "metadata": {},
   "outputs": [
    {
     "name": "stdout",
     "output_type": "stream",
     "text": [
      "Размер датафрейма: (10000, 14)\n"
     ]
    },
    {
     "data": {
      "text/html": [
       "<div>\n",
       "<style scoped>\n",
       "    .dataframe tbody tr th:only-of-type {\n",
       "        vertical-align: middle;\n",
       "    }\n",
       "\n",
       "    .dataframe tbody tr th {\n",
       "        vertical-align: top;\n",
       "    }\n",
       "\n",
       "    .dataframe thead th {\n",
       "        text-align: right;\n",
       "    }\n",
       "</style>\n",
       "<table border=\"1\" class=\"dataframe\">\n",
       "  <thead>\n",
       "    <tr style=\"text-align: right;\">\n",
       "      <th></th>\n",
       "      <th>RowNumber</th>\n",
       "      <th>CustomerId</th>\n",
       "      <th>Surname</th>\n",
       "      <th>CreditScore</th>\n",
       "      <th>Geography</th>\n",
       "      <th>Gender</th>\n",
       "      <th>Age</th>\n",
       "      <th>Tenure</th>\n",
       "      <th>Balance</th>\n",
       "      <th>NumOfProducts</th>\n",
       "      <th>HasCrCard</th>\n",
       "      <th>IsActiveMember</th>\n",
       "      <th>EstimatedSalary</th>\n",
       "      <th>Exited</th>\n",
       "    </tr>\n",
       "  </thead>\n",
       "  <tbody>\n",
       "    <tr>\n",
       "      <th>4832</th>\n",
       "      <td>4833</td>\n",
       "      <td>15808389</td>\n",
       "      <td>Iheatu</td>\n",
       "      <td>617</td>\n",
       "      <td>France</td>\n",
       "      <td>Female</td>\n",
       "      <td>79</td>\n",
       "      <td>7.0</td>\n",
       "      <td>0.00</td>\n",
       "      <td>1</td>\n",
       "      <td>1</td>\n",
       "      <td>1</td>\n",
       "      <td>160589.18</td>\n",
       "      <td>0</td>\n",
       "    </tr>\n",
       "    <tr>\n",
       "      <th>3440</th>\n",
       "      <td>3441</td>\n",
       "      <td>15745605</td>\n",
       "      <td>Trevisan</td>\n",
       "      <td>722</td>\n",
       "      <td>France</td>\n",
       "      <td>Female</td>\n",
       "      <td>47</td>\n",
       "      <td>2.0</td>\n",
       "      <td>88011.40</td>\n",
       "      <td>1</td>\n",
       "      <td>1</td>\n",
       "      <td>1</td>\n",
       "      <td>90655.94</td>\n",
       "      <td>1</td>\n",
       "    </tr>\n",
       "    <tr>\n",
       "      <th>8232</th>\n",
       "      <td>8233</td>\n",
       "      <td>15732704</td>\n",
       "      <td>Piazza</td>\n",
       "      <td>582</td>\n",
       "      <td>Spain</td>\n",
       "      <td>Male</td>\n",
       "      <td>25</td>\n",
       "      <td>9.0</td>\n",
       "      <td>148042.97</td>\n",
       "      <td>2</td>\n",
       "      <td>1</td>\n",
       "      <td>0</td>\n",
       "      <td>52341.15</td>\n",
       "      <td>0</td>\n",
       "    </tr>\n",
       "    <tr>\n",
       "      <th>2989</th>\n",
       "      <td>2990</td>\n",
       "      <td>15636428</td>\n",
       "      <td>Sutherland</td>\n",
       "      <td>703</td>\n",
       "      <td>Spain</td>\n",
       "      <td>Female</td>\n",
       "      <td>45</td>\n",
       "      <td>1.0</td>\n",
       "      <td>0.00</td>\n",
       "      <td>1</td>\n",
       "      <td>1</td>\n",
       "      <td>0</td>\n",
       "      <td>182784.11</td>\n",
       "      <td>1</td>\n",
       "    </tr>\n",
       "    <tr>\n",
       "      <th>3949</th>\n",
       "      <td>3950</td>\n",
       "      <td>15717937</td>\n",
       "      <td>Gibbons</td>\n",
       "      <td>554</td>\n",
       "      <td>Germany</td>\n",
       "      <td>Male</td>\n",
       "      <td>43</td>\n",
       "      <td>5.0</td>\n",
       "      <td>99906.89</td>\n",
       "      <td>1</td>\n",
       "      <td>0</td>\n",
       "      <td>0</td>\n",
       "      <td>24983.39</td>\n",
       "      <td>0</td>\n",
       "    </tr>\n",
       "  </tbody>\n",
       "</table>\n",
       "</div>"
      ],
      "text/plain": [
       "      RowNumber  CustomerId     Surname  CreditScore Geography  Gender  Age  \\\n",
       "4832       4833    15808389      Iheatu          617    France  Female   79   \n",
       "3440       3441    15745605    Trevisan          722    France  Female   47   \n",
       "8232       8233    15732704      Piazza          582     Spain    Male   25   \n",
       "2989       2990    15636428  Sutherland          703     Spain  Female   45   \n",
       "3949       3950    15717937     Gibbons          554   Germany    Male   43   \n",
       "\n",
       "      Tenure    Balance  NumOfProducts  HasCrCard  IsActiveMember  \\\n",
       "4832     7.0       0.00              1          1               1   \n",
       "3440     2.0   88011.40              1          1               1   \n",
       "8232     9.0  148042.97              2          1               0   \n",
       "2989     1.0       0.00              1          1               0   \n",
       "3949     5.0   99906.89              1          0               0   \n",
       "\n",
       "      EstimatedSalary  Exited  \n",
       "4832        160589.18       0  \n",
       "3440         90655.94       1  \n",
       "8232         52341.15       0  \n",
       "2989        182784.11       1  \n",
       "3949         24983.39       0  "
      ]
     },
     "metadata": {},
     "output_type": "display_data"
    },
    {
     "name": "stdout",
     "output_type": "stream",
     "text": [
      "<class 'pandas.core.frame.DataFrame'>\n",
      "RangeIndex: 10000 entries, 0 to 9999\n",
      "Data columns (total 14 columns):\n",
      " #   Column           Non-Null Count  Dtype  \n",
      "---  ------           --------------  -----  \n",
      " 0   RowNumber        10000 non-null  int64  \n",
      " 1   CustomerId       10000 non-null  int64  \n",
      " 2   Surname          10000 non-null  object \n",
      " 3   CreditScore      10000 non-null  int64  \n",
      " 4   Geography        10000 non-null  object \n",
      " 5   Gender           10000 non-null  object \n",
      " 6   Age              10000 non-null  int64  \n",
      " 7   Tenure           9091 non-null   float64\n",
      " 8   Balance          10000 non-null  float64\n",
      " 9   NumOfProducts    10000 non-null  int64  \n",
      " 10  HasCrCard        10000 non-null  int64  \n",
      " 11  IsActiveMember   10000 non-null  int64  \n",
      " 12  EstimatedSalary  10000 non-null  float64\n",
      " 13  Exited           10000 non-null  int64  \n",
      "dtypes: float64(3), int64(8), object(3)\n",
      "memory usage: 1.1+ MB\n"
     ]
    },
    {
     "data": {
      "text/html": [
       "<div>\n",
       "<style scoped>\n",
       "    .dataframe tbody tr th:only-of-type {\n",
       "        vertical-align: middle;\n",
       "    }\n",
       "\n",
       "    .dataframe tbody tr th {\n",
       "        vertical-align: top;\n",
       "    }\n",
       "\n",
       "    .dataframe thead th {\n",
       "        text-align: right;\n",
       "    }\n",
       "</style>\n",
       "<table border=\"1\" class=\"dataframe\">\n",
       "  <thead>\n",
       "    <tr style=\"text-align: right;\">\n",
       "      <th></th>\n",
       "      <th>RowNumber</th>\n",
       "      <th>CustomerId</th>\n",
       "      <th>CreditScore</th>\n",
       "      <th>Age</th>\n",
       "      <th>Tenure</th>\n",
       "      <th>Balance</th>\n",
       "      <th>NumOfProducts</th>\n",
       "      <th>HasCrCard</th>\n",
       "      <th>IsActiveMember</th>\n",
       "      <th>EstimatedSalary</th>\n",
       "      <th>Exited</th>\n",
       "    </tr>\n",
       "  </thead>\n",
       "  <tbody>\n",
       "    <tr>\n",
       "      <th>count</th>\n",
       "      <td>10000.00000</td>\n",
       "      <td>1.000000e+04</td>\n",
       "      <td>10000.000000</td>\n",
       "      <td>10000.000000</td>\n",
       "      <td>9091.000000</td>\n",
       "      <td>10000.000000</td>\n",
       "      <td>10000.000000</td>\n",
       "      <td>10000.00000</td>\n",
       "      <td>10000.000000</td>\n",
       "      <td>10000.000000</td>\n",
       "      <td>10000.000000</td>\n",
       "    </tr>\n",
       "    <tr>\n",
       "      <th>mean</th>\n",
       "      <td>5000.50000</td>\n",
       "      <td>1.569094e+07</td>\n",
       "      <td>650.528800</td>\n",
       "      <td>38.921800</td>\n",
       "      <td>4.997690</td>\n",
       "      <td>76485.889288</td>\n",
       "      <td>1.530200</td>\n",
       "      <td>0.70550</td>\n",
       "      <td>0.515100</td>\n",
       "      <td>100090.239881</td>\n",
       "      <td>0.203700</td>\n",
       "    </tr>\n",
       "    <tr>\n",
       "      <th>std</th>\n",
       "      <td>2886.89568</td>\n",
       "      <td>7.193619e+04</td>\n",
       "      <td>96.653299</td>\n",
       "      <td>10.487806</td>\n",
       "      <td>2.894723</td>\n",
       "      <td>62397.405202</td>\n",
       "      <td>0.581654</td>\n",
       "      <td>0.45584</td>\n",
       "      <td>0.499797</td>\n",
       "      <td>57510.492818</td>\n",
       "      <td>0.402769</td>\n",
       "    </tr>\n",
       "    <tr>\n",
       "      <th>min</th>\n",
       "      <td>1.00000</td>\n",
       "      <td>1.556570e+07</td>\n",
       "      <td>350.000000</td>\n",
       "      <td>18.000000</td>\n",
       "      <td>0.000000</td>\n",
       "      <td>0.000000</td>\n",
       "      <td>1.000000</td>\n",
       "      <td>0.00000</td>\n",
       "      <td>0.000000</td>\n",
       "      <td>11.580000</td>\n",
       "      <td>0.000000</td>\n",
       "    </tr>\n",
       "    <tr>\n",
       "      <th>25%</th>\n",
       "      <td>2500.75000</td>\n",
       "      <td>1.562853e+07</td>\n",
       "      <td>584.000000</td>\n",
       "      <td>32.000000</td>\n",
       "      <td>2.000000</td>\n",
       "      <td>0.000000</td>\n",
       "      <td>1.000000</td>\n",
       "      <td>0.00000</td>\n",
       "      <td>0.000000</td>\n",
       "      <td>51002.110000</td>\n",
       "      <td>0.000000</td>\n",
       "    </tr>\n",
       "    <tr>\n",
       "      <th>50%</th>\n",
       "      <td>5000.50000</td>\n",
       "      <td>1.569074e+07</td>\n",
       "      <td>652.000000</td>\n",
       "      <td>37.000000</td>\n",
       "      <td>5.000000</td>\n",
       "      <td>97198.540000</td>\n",
       "      <td>1.000000</td>\n",
       "      <td>1.00000</td>\n",
       "      <td>1.000000</td>\n",
       "      <td>100193.915000</td>\n",
       "      <td>0.000000</td>\n",
       "    </tr>\n",
       "    <tr>\n",
       "      <th>75%</th>\n",
       "      <td>7500.25000</td>\n",
       "      <td>1.575323e+07</td>\n",
       "      <td>718.000000</td>\n",
       "      <td>44.000000</td>\n",
       "      <td>7.000000</td>\n",
       "      <td>127644.240000</td>\n",
       "      <td>2.000000</td>\n",
       "      <td>1.00000</td>\n",
       "      <td>1.000000</td>\n",
       "      <td>149388.247500</td>\n",
       "      <td>0.000000</td>\n",
       "    </tr>\n",
       "    <tr>\n",
       "      <th>max</th>\n",
       "      <td>10000.00000</td>\n",
       "      <td>1.581569e+07</td>\n",
       "      <td>850.000000</td>\n",
       "      <td>92.000000</td>\n",
       "      <td>10.000000</td>\n",
       "      <td>250898.090000</td>\n",
       "      <td>4.000000</td>\n",
       "      <td>1.00000</td>\n",
       "      <td>1.000000</td>\n",
       "      <td>199992.480000</td>\n",
       "      <td>1.000000</td>\n",
       "    </tr>\n",
       "  </tbody>\n",
       "</table>\n",
       "</div>"
      ],
      "text/plain": [
       "         RowNumber    CustomerId   CreditScore           Age       Tenure  \\\n",
       "count  10000.00000  1.000000e+04  10000.000000  10000.000000  9091.000000   \n",
       "mean    5000.50000  1.569094e+07    650.528800     38.921800     4.997690   \n",
       "std     2886.89568  7.193619e+04     96.653299     10.487806     2.894723   \n",
       "min        1.00000  1.556570e+07    350.000000     18.000000     0.000000   \n",
       "25%     2500.75000  1.562853e+07    584.000000     32.000000     2.000000   \n",
       "50%     5000.50000  1.569074e+07    652.000000     37.000000     5.000000   \n",
       "75%     7500.25000  1.575323e+07    718.000000     44.000000     7.000000   \n",
       "max    10000.00000  1.581569e+07    850.000000     92.000000    10.000000   \n",
       "\n",
       "             Balance  NumOfProducts    HasCrCard  IsActiveMember  \\\n",
       "count   10000.000000   10000.000000  10000.00000    10000.000000   \n",
       "mean    76485.889288       1.530200      0.70550        0.515100   \n",
       "std     62397.405202       0.581654      0.45584        0.499797   \n",
       "min         0.000000       1.000000      0.00000        0.000000   \n",
       "25%         0.000000       1.000000      0.00000        0.000000   \n",
       "50%     97198.540000       1.000000      1.00000        1.000000   \n",
       "75%    127644.240000       2.000000      1.00000        1.000000   \n",
       "max    250898.090000       4.000000      1.00000        1.000000   \n",
       "\n",
       "       EstimatedSalary        Exited  \n",
       "count     10000.000000  10000.000000  \n",
       "mean     100090.239881      0.203700  \n",
       "std       57510.492818      0.402769  \n",
       "min          11.580000      0.000000  \n",
       "25%       51002.110000      0.000000  \n",
       "50%      100193.915000      0.000000  \n",
       "75%      149388.247500      0.000000  \n",
       "max      199992.480000      1.000000  "
      ]
     },
     "execution_count": 3,
     "metadata": {},
     "output_type": "execute_result"
    }
   ],
   "source": [
    "print('Размер датафрейма:', np.shape(df_clients))\n",
    "display(df_clients.sample(5))\n",
    "df_clients.info()\n",
    "df_clients.describe()"
   ]
  },
  {
   "cell_type": "markdown",
   "metadata": {},
   "source": [
    "📌 __Выводы после открытия файла__\n",
    "> - Необходимо переименовать названия столбцов\n",
    "> - Необходимо преобразовать данные в нужные типы\n",
    "> - Необходимо обработать пропуски и заполнить в случае необходимости\n",
    "\n",
    "📌 __Выводы по данным для обучения модели__ <br><br>\n",
    "> ⚠️ _Для обучения нам не потребуются следующие столбцы:_\n",
    "> - `RowNumber` — индекс строки в данных\n",
    "> - `CustomerId` — уникальный идентификатор клиента\n",
    "> - `Surname` — фамилия\n",
    "> \n",
    "> ⚠️ _Имеем категориальные столбцы_\n",
    "> - `Geography` — страна проживания\n",
    "> - `Gender` — пол"
   ]
  },
  {
   "cell_type": "markdown",
   "metadata": {},
   "source": [
    "<a id='1'></a>\n",
    "# 1. Подготовка данных"
   ]
  },
  {
   "cell_type": "markdown",
   "metadata": {},
   "source": [
    "<a id='1-1'></a>\n",
    "## 1.1 Приведем названия столбцов в подобающий вид"
   ]
  },
  {
   "cell_type": "markdown",
   "metadata": {},
   "source": [
    "📝 Для этого изменим формат названий столбоцов:\n",
    "- все буквы - строчные\n",
    "- слова разделены символом `_`"
   ]
  },
  {
   "cell_type": "code",
   "execution_count": 4,
   "metadata": {},
   "outputs": [],
   "source": [
    "old_columns = list(df_clients.columns)\n",
    "new_columns = []\n",
    "for column in old_columns:\n",
    "    per_str = ''\n",
    "    for i in column:\n",
    "        if ord(i) < 91:\n",
    "            per_str += ('_' + i.lower())\n",
    "        else:\n",
    "            per_str += i\n",
    "    per_str = per_str[1:]\n",
    "    new_columns.append(per_str)\n",
    "new_columns\n",
    "    \n",
    "df_clients.columns = new_columns"
   ]
  },
  {
   "cell_type": "code",
   "execution_count": 5,
   "metadata": {},
   "outputs": [
    {
     "name": "stdout",
     "output_type": "stream",
     "text": [
      "RowNumber -> row_number\n",
      "CustomerId -> customer_id\n",
      "Surname -> surname\n",
      "CreditScore -> credit_score\n",
      "Geography -> geography\n",
      "Gender -> gender\n",
      "Age -> age\n",
      "Tenure -> tenure\n",
      "Balance -> balance\n",
      "NumOfProducts -> num_of_products\n",
      "HasCrCard -> has_cr_card\n",
      "IsActiveMember -> is_active_member\n",
      "EstimatedSalary -> estimated_salary\n",
      "Exited -> exited\n"
     ]
    }
   ],
   "source": [
    "for i in range(len(old_columns)):\n",
    "    print(old_columns[i], '->', new_columns[i])"
   ]
  },
  {
   "cell_type": "markdown",
   "metadata": {},
   "source": [
    "<a id='1-2'></a>\n",
    "## 1.2 Обработаем пропуски в данных"
   ]
  },
  {
   "cell_type": "markdown",
   "metadata": {},
   "source": [
    "📝 Пропуски в данных присутствуют только в столбце `tenure`"
   ]
  },
  {
   "cell_type": "code",
   "execution_count": 6,
   "metadata": {},
   "outputs": [
    {
     "data": {
      "text/plain": [
       "Text(0.5, 1.0, 'Пропущеные значения')"
      ]
     },
     "execution_count": 6,
     "metadata": {},
     "output_type": "execute_result"
    },
    {
     "data": {
      "image/png": "[encoded data removed]",
      "text/plain": [
       "<Figure size 432x288 with 1 Axes>"
      ]
     },
     "metadata": {
      "needs_background": "light"
     },
     "output_type": "display_data"
    }
   ],
   "source": [
    "sns.heatmap(df_clients.isnull(), cbar = False).set_title(\"Пропущеные значения\")"
   ]
  },
  {
   "cell_type": "markdown",
   "metadata": {},
   "source": [
    "📝 Посмотрим какой процент записей не имеет информации в данной графе"
   ]
  },
  {
   "cell_type": "code",
   "execution_count": 7,
   "metadata": {},
   "outputs": [
    {
     "name": "stdout",
     "output_type": "stream",
     "text": [
      "Процент пустых значений: 9.09 %\n"
     ]
    }
   ],
   "source": [
    "print('Процент пустых значений:',\n",
    "      len(df_clients['tenure'].loc[df_clients['tenure'].isnull()]) / len(df_clients['tenure']) * 100,\n",
    "      '%')"
   ]
  },
  {
   "cell_type": "markdown",
   "metadata": {},
   "source": [
    "📝 Считаю, что следует удалить данные значения так как:\n",
    "- пропущены значения в признаке, который будет учавстовать в обучении и это может повлиять на результат \n",
    "- у нас достаточно большое кол-во данных, оставшихся должно хватить"
   ]
  },
  {
   "cell_type": "code",
   "execution_count": 8,
   "metadata": {},
   "outputs": [],
   "source": [
    "df_clients = df_clients.dropna()"
   ]
  },
  {
   "cell_type": "markdown",
   "metadata": {},
   "source": [
    "<a id='1-3'></a>\n",
    "## 1.3 Преобразуем данные в нужные типы"
   ]
  },
  {
   "cell_type": "markdown",
   "metadata": {},
   "source": [
    "📝 Исходя из первичного просмотра датафрэйма можно предположить, что столбец `Tenure` можно преобразовать в тип `int64` <br>\n",
    "Посмотрим это проверив значения"
   ]
  },
  {
   "cell_type": "code",
   "execution_count": 9,
   "metadata": {},
   "outputs": [
    {
     "name": "stdout",
     "output_type": "stream",
     "text": [
      "Сумма остатков = 0.0\n"
     ]
    }
   ],
   "source": [
    "int_or_float = df_clients['tenure'] % 1\n",
    "print('Сумма остатков =', int_or_float.sum())"
   ]
  },
  {
   "cell_type": "markdown",
   "metadata": {},
   "source": [
    "📝 Таким образом преобразуем столбец в тип `int64`"
   ]
  },
  {
   "cell_type": "code",
   "execution_count": 10,
   "metadata": {},
   "outputs": [
    {
     "data": {
      "text/plain": [
       "row_number            int64\n",
       "customer_id           int64\n",
       "surname              object\n",
       "credit_score          int64\n",
       "geography            object\n",
       "gender               object\n",
       "age                   int64\n",
       "tenure                int64\n",
       "balance             float64\n",
       "num_of_products       int64\n",
       "has_cr_card           int64\n",
       "is_active_member      int64\n",
       "estimated_salary    float64\n",
       "exited                int64\n",
       "dtype: object"
      ]
     },
     "execution_count": 10,
     "metadata": {},
     "output_type": "execute_result"
    }
   ],
   "source": [
    "df_clients['tenure'] = df_clients['tenure'].astype('int64')\n",
    "df_clients.dtypes"
   ]
  },
  {
   "cell_type": "markdown",
   "metadata": {},
   "source": [
    "<a id='1-4'></a>\n",
    "## 1.4 Удаление ненужных столбцов"
   ]
  },
  {
   "cell_type": "markdown",
   "metadata": {},
   "source": [
    "📝 Столбцы `row_number`, `customer_id` и `surname` не несут для нас полезной нагрузки для обучения, избавимся от них"
   ]
  },
  {
   "cell_type": "code",
   "execution_count": 11,
   "metadata": {},
   "outputs": [],
   "source": [
    "df_clients = df_clients.drop(['row_number', 'customer_id', 'surname'], axis=1)"
   ]
  },
  {
   "cell_type": "markdown",
   "metadata": {},
   "source": [
    "<a id='1-5'></a>\n",
    "## 1.5 Кодирование категориальных признаков"
   ]
  },
  {
   "cell_type": "markdown",
   "metadata": {},
   "source": [
    "📝 Так как текстовые данные плохо сочетаются с алгоритмами машинного обучения, преобразуем категориальные признаки (столбцы `geography` и `gender`) в числовые <br>\n",
    "- Для `gender` используем `Label Encoder` (так как у нас только 2 уникальных значения) <br>\n",
    "- Для `geography` используем `One-Hot Encoding` (3 уникальные страны)"
   ]
  },
  {
   "cell_type": "markdown",
   "metadata": {},
   "source": [
    "### 1.5.1 Столбец `gender`"
   ]
  },
  {
   "cell_type": "code",
   "execution_count": 12,
   "metadata": {
    "scrolled": true
   },
   "outputs": [
    {
     "name": "stdout",
     "output_type": "stream",
     "text": [
      "Уникальные значения \"gender\" ['Female' 'Male']\n"
     ]
    }
   ],
   "source": [
    "print('Уникальные значения \"gender\"', df_clients['gender'].unique())\n",
    "encoder = LabelEncoder()\n",
    "df_clients['gender'] = encoder.fit_transform(df_clients['gender'])"
   ]
  },
  {
   "cell_type": "markdown",
   "metadata": {},
   "source": [
    "📝 Переименуем стоблец `gender` в `is_male`, так как коды следующие: \n",
    "- `male` -> 1\n",
    "- `female` -> 0"
   ]
  },
  {
   "cell_type": "code",
   "execution_count": 13,
   "metadata": {},
   "outputs": [],
   "source": [
    "df_clients = df_clients.rename(columns={'gender': 'is_male'})"
   ]
  },
  {
   "cell_type": "markdown",
   "metadata": {},
   "source": [
    "### 1.5.2 Столбец `geography`"
   ]
  },
  {
   "cell_type": "code",
   "execution_count": 14,
   "metadata": {},
   "outputs": [],
   "source": [
    "df_clients = pd.get_dummies(df_clients, drop_first=True)"
   ]
  },
  {
   "cell_type": "code",
   "execution_count": 15,
   "metadata": {},
   "outputs": [
    {
     "data": {
      "text/html": [
       "<div>\n",
       "<style scoped>\n",
       "    .dataframe tbody tr th:only-of-type {\n",
       "        vertical-align: middle;\n",
       "    }\n",
       "\n",
       "    .dataframe tbody tr th {\n",
       "        vertical-align: top;\n",
       "    }\n",
       "\n",
       "    .dataframe thead th {\n",
       "        text-align: right;\n",
       "    }\n",
       "</style>\n",
       "<table border=\"1\" class=\"dataframe\">\n",
       "  <thead>\n",
       "    <tr style=\"text-align: right;\">\n",
       "      <th></th>\n",
       "      <th>credit_score</th>\n",
       "      <th>is_male</th>\n",
       "      <th>age</th>\n",
       "      <th>tenure</th>\n",
       "      <th>balance</th>\n",
       "      <th>num_of_products</th>\n",
       "      <th>has_cr_card</th>\n",
       "      <th>is_active_member</th>\n",
       "      <th>estimated_salary</th>\n",
       "      <th>exited</th>\n",
       "      <th>geography_germany</th>\n",
       "      <th>geography_spain</th>\n",
       "    </tr>\n",
       "  </thead>\n",
       "  <tbody>\n",
       "    <tr>\n",
       "      <th>1212</th>\n",
       "      <td>610</td>\n",
       "      <td>1</td>\n",
       "      <td>42</td>\n",
       "      <td>6</td>\n",
       "      <td>0.00</td>\n",
       "      <td>2</td>\n",
       "      <td>1</td>\n",
       "      <td>0</td>\n",
       "      <td>158302.59</td>\n",
       "      <td>1</td>\n",
       "      <td>0</td>\n",
       "      <td>1</td>\n",
       "    </tr>\n",
       "    <tr>\n",
       "      <th>584</th>\n",
       "      <td>647</td>\n",
       "      <td>0</td>\n",
       "      <td>51</td>\n",
       "      <td>1</td>\n",
       "      <td>119741.77</td>\n",
       "      <td>2</td>\n",
       "      <td>0</td>\n",
       "      <td>0</td>\n",
       "      <td>54954.51</td>\n",
       "      <td>1</td>\n",
       "      <td>1</td>\n",
       "      <td>0</td>\n",
       "    </tr>\n",
       "    <tr>\n",
       "      <th>6883</th>\n",
       "      <td>691</td>\n",
       "      <td>1</td>\n",
       "      <td>30</td>\n",
       "      <td>9</td>\n",
       "      <td>0.00</td>\n",
       "      <td>1</td>\n",
       "      <td>1</td>\n",
       "      <td>0</td>\n",
       "      <td>49594.02</td>\n",
       "      <td>0</td>\n",
       "      <td>0</td>\n",
       "      <td>0</td>\n",
       "    </tr>\n",
       "    <tr>\n",
       "      <th>1756</th>\n",
       "      <td>618</td>\n",
       "      <td>1</td>\n",
       "      <td>37</td>\n",
       "      <td>2</td>\n",
       "      <td>168178.21</td>\n",
       "      <td>2</td>\n",
       "      <td>0</td>\n",
       "      <td>1</td>\n",
       "      <td>101273.23</td>\n",
       "      <td>0</td>\n",
       "      <td>0</td>\n",
       "      <td>0</td>\n",
       "    </tr>\n",
       "    <tr>\n",
       "      <th>9722</th>\n",
       "      <td>679</td>\n",
       "      <td>0</td>\n",
       "      <td>36</td>\n",
       "      <td>3</td>\n",
       "      <td>0.00</td>\n",
       "      <td>2</td>\n",
       "      <td>1</td>\n",
       "      <td>1</td>\n",
       "      <td>2243.41</td>\n",
       "      <td>0</td>\n",
       "      <td>0</td>\n",
       "      <td>0</td>\n",
       "    </tr>\n",
       "  </tbody>\n",
       "</table>\n",
       "</div>"
      ],
      "text/plain": [
       "      credit_score  is_male  age  tenure    balance  num_of_products  \\\n",
       "1212           610        1   42       6       0.00                2   \n",
       "584            647        0   51       1  119741.77                2   \n",
       "6883           691        1   30       9       0.00                1   \n",
       "1756           618        1   37       2  168178.21                2   \n",
       "9722           679        0   36       3       0.00                2   \n",
       "\n",
       "      has_cr_card  is_active_member  estimated_salary  exited  \\\n",
       "1212            1                 0         158302.59       1   \n",
       "584             0                 0          54954.51       1   \n",
       "6883            1                 0          49594.02       0   \n",
       "1756            0                 1         101273.23       0   \n",
       "9722            1                 1           2243.41       0   \n",
       "\n",
       "      geography_germany  geography_spain  \n",
       "1212                  0                1  \n",
       "584                   1                0  \n",
       "6883                  0                0  \n",
       "1756                  0                0  \n",
       "9722                  0                0  "
      ]
     },
     "execution_count": 15,
     "metadata": {},
     "output_type": "execute_result"
    }
   ],
   "source": [
    "df_clients = df_clients.rename(columns={'geography_Germany': 'geography_germany',\n",
    "                                        'geography_Spain' : 'geography_spain'})\n",
    "df_clients.sample(5)"
   ]
  },
  {
   "cell_type": "markdown",
   "metadata": {},
   "source": [
    "<a id='1-6'></a>\n",
    "## 1.6 Разобьем датафрейм"
   ]
  },
  {
   "cell_type": "markdown",
   "metadata": {},
   "source": [
    "📝 Данные будем разбивать на три выборки: <br>\n",
    "- обучающую выборку - 60%\n",
    "- валидационную выборку - 20%\n",
    "- тестовую выборку - 20%"
   ]
  },
  {
   "cell_type": "code",
   "execution_count": 16,
   "metadata": {},
   "outputs": [
    {
     "name": "stdout",
     "output_type": "stream",
     "text": [
      "Общий размер df: (9091, 12)\n",
      "Размер обучающая выборки: (5454, 12)\n",
      "Размер валидационной выборки: (1818, 12)\n",
      "Размер тестовой выборки: (1819, 12)\n"
     ]
    }
   ],
   "source": [
    "df_train, df_others = train_test_split(df_clients, test_size=0.4, random_state=12345)\n",
    "df_valid, df_test = train_test_split(df_others, test_size=0.5, random_state=12345)\n",
    "print('Общий размер df:', df_clients.shape)\n",
    "print('Размер обучающая выборки:', df_train.shape)\n",
    "print('Размер валидационной выборки:', df_valid.shape)\n",
    "print('Размер тестовой выборки:', df_test.shape)"
   ]
  },
  {
   "cell_type": "markdown",
   "metadata": {},
   "source": [
    "📝 Разобъем по переменным признаки и целевые признаки"
   ]
  },
  {
   "cell_type": "code",
   "execution_count": 17,
   "metadata": {},
   "outputs": [],
   "source": [
    "#   Обучающая выборка\n",
    "features_train = df_train.drop(['exited'], axis=1)\n",
    "target_train = df_train['exited']\n",
    "\n",
    "#   Валидационная выборка\n",
    "features_valid = df_valid.drop(['exited'], axis=1)\n",
    "target_valid = df_valid['exited']\n",
    "\n",
    "#   Тестовая выборка\n",
    "features_test = df_test.drop(['exited'], axis=1)\n",
    "target_test = df_test['exited']"
   ]
  },
  {
   "cell_type": "markdown",
   "metadata": {},
   "source": [
    "<a id='1-7'></a>\n",
    "## 1.7 Масштабирование признаков"
   ]
  },
  {
   "cell_type": "markdown",
   "metadata": {},
   "source": [
    "📝 Произведем масштабирование численных признаков датафрейма"
   ]
  },
  {
   "cell_type": "code",
   "execution_count": 18,
   "metadata": {},
   "outputs": [],
   "source": [
    "numeric = ['credit_score', 'age', 'tenure', 'balance', 'num_of_products', 'estimated_salary']\n",
    "\n",
    "scaler = StandardScaler()\n",
    "scaler.fit(features_train[numeric])\n",
    "features_train[numeric] = scaler.transform(features_train[numeric])\n",
    "features_valid[numeric] = scaler.transform(features_valid[numeric])\n",
    "features_test[numeric] = scaler.transform(features_test[numeric])"
   ]
  },
  {
   "cell_type": "code",
   "execution_count": 19,
   "metadata": {},
   "outputs": [
    {
     "data": {
      "text/html": [
       "<div>\n",
       "<style scoped>\n",
       "    .dataframe tbody tr th:only-of-type {\n",
       "        vertical-align: middle;\n",
       "    }\n",
       "\n",
       "    .dataframe tbody tr th {\n",
       "        vertical-align: top;\n",
       "    }\n",
       "\n",
       "    .dataframe thead th {\n",
       "        text-align: right;\n",
       "    }\n",
       "</style>\n",
       "<table border=\"1\" class=\"dataframe\">\n",
       "  <thead>\n",
       "    <tr style=\"text-align: right;\">\n",
       "      <th></th>\n",
       "      <th>credit_score</th>\n",
       "      <th>is_male</th>\n",
       "      <th>age</th>\n",
       "      <th>tenure</th>\n",
       "      <th>balance</th>\n",
       "      <th>num_of_products</th>\n",
       "      <th>has_cr_card</th>\n",
       "      <th>is_active_member</th>\n",
       "      <th>estimated_salary</th>\n",
       "      <th>geography_germany</th>\n",
       "      <th>geography_spain</th>\n",
       "    </tr>\n",
       "  </thead>\n",
       "  <tbody>\n",
       "    <tr>\n",
       "      <th>3733</th>\n",
       "      <td>0.416757</td>\n",
       "      <td>1</td>\n",
       "      <td>2.631242</td>\n",
       "      <td>1.385532</td>\n",
       "      <td>1.299421</td>\n",
       "      <td>-0.908179</td>\n",
       "      <td>1</td>\n",
       "      <td>1</td>\n",
       "      <td>-0.013953</td>\n",
       "      <td>1</td>\n",
       "      <td>0</td>\n",
       "    </tr>\n",
       "    <tr>\n",
       "      <th>6907</th>\n",
       "      <td>-1.338353</td>\n",
       "      <td>1</td>\n",
       "      <td>-0.474624</td>\n",
       "      <td>0.007517</td>\n",
       "      <td>-1.237830</td>\n",
       "      <td>-0.908179</td>\n",
       "      <td>1</td>\n",
       "      <td>0</td>\n",
       "      <td>-0.547800</td>\n",
       "      <td>0</td>\n",
       "      <td>0</td>\n",
       "    </tr>\n",
       "  </tbody>\n",
       "</table>\n",
       "</div>"
      ],
      "text/plain": [
       "      credit_score  is_male       age    tenure   balance  num_of_products  \\\n",
       "3733      0.416757        1  2.631242  1.385532  1.299421        -0.908179   \n",
       "6907     -1.338353        1 -0.474624  0.007517 -1.237830        -0.908179   \n",
       "\n",
       "      has_cr_card  is_active_member  estimated_salary  geography_germany  \\\n",
       "3733            1                 1         -0.013953                  1   \n",
       "6907            1                 0         -0.547800                  0   \n",
       "\n",
       "      geography_spain  \n",
       "3733                0  \n",
       "6907                0  "
      ]
     },
     "metadata": {},
     "output_type": "display_data"
    },
    {
     "data": {
      "text/html": [
       "<div>\n",
       "<style scoped>\n",
       "    .dataframe tbody tr th:only-of-type {\n",
       "        vertical-align: middle;\n",
       "    }\n",
       "\n",
       "    .dataframe tbody tr th {\n",
       "        vertical-align: top;\n",
       "    }\n",
       "\n",
       "    .dataframe thead th {\n",
       "        text-align: right;\n",
       "    }\n",
       "</style>\n",
       "<table border=\"1\" class=\"dataframe\">\n",
       "  <thead>\n",
       "    <tr style=\"text-align: right;\">\n",
       "      <th></th>\n",
       "      <th>credit_score</th>\n",
       "      <th>is_male</th>\n",
       "      <th>age</th>\n",
       "      <th>tenure</th>\n",
       "      <th>balance</th>\n",
       "      <th>num_of_products</th>\n",
       "      <th>has_cr_card</th>\n",
       "      <th>is_active_member</th>\n",
       "      <th>estimated_salary</th>\n",
       "      <th>geography_germany</th>\n",
       "      <th>geography_spain</th>\n",
       "    </tr>\n",
       "  </thead>\n",
       "  <tbody>\n",
       "    <tr>\n",
       "      <th>7186</th>\n",
       "      <td>0.045086</td>\n",
       "      <td>1</td>\n",
       "      <td>0.466548</td>\n",
       "      <td>1.041028</td>\n",
       "      <td>-1.237830</td>\n",
       "      <td>0.809300</td>\n",
       "      <td>1</td>\n",
       "      <td>1</td>\n",
       "      <td>0.935454</td>\n",
       "      <td>0</td>\n",
       "      <td>0</td>\n",
       "    </tr>\n",
       "    <tr>\n",
       "      <th>5684</th>\n",
       "      <td>0.891669</td>\n",
       "      <td>0</td>\n",
       "      <td>-1.321678</td>\n",
       "      <td>-0.681491</td>\n",
       "      <td>0.243528</td>\n",
       "      <td>-0.908179</td>\n",
       "      <td>0</td>\n",
       "      <td>0</td>\n",
       "      <td>-1.237581</td>\n",
       "      <td>0</td>\n",
       "      <td>0</td>\n",
       "    </tr>\n",
       "  </tbody>\n",
       "</table>\n",
       "</div>"
      ],
      "text/plain": [
       "      credit_score  is_male       age    tenure   balance  num_of_products  \\\n",
       "7186      0.045086        1  0.466548  1.041028 -1.237830         0.809300   \n",
       "5684      0.891669        0 -1.321678 -0.681491  0.243528        -0.908179   \n",
       "\n",
       "      has_cr_card  is_active_member  estimated_salary  geography_germany  \\\n",
       "7186            1                 1          0.935454                  0   \n",
       "5684            0                 0         -1.237581                  0   \n",
       "\n",
       "      geography_spain  \n",
       "7186                0  \n",
       "5684                0  "
      ]
     },
     "metadata": {},
     "output_type": "display_data"
    },
    {
     "data": {
      "text/html": [
       "<div>\n",
       "<style scoped>\n",
       "    .dataframe tbody tr th:only-of-type {\n",
       "        vertical-align: middle;\n",
       "    }\n",
       "\n",
       "    .dataframe tbody tr th {\n",
       "        vertical-align: top;\n",
       "    }\n",
       "\n",
       "    .dataframe thead th {\n",
       "        text-align: right;\n",
       "    }\n",
       "</style>\n",
       "<table border=\"1\" class=\"dataframe\">\n",
       "  <thead>\n",
       "    <tr style=\"text-align: right;\">\n",
       "      <th></th>\n",
       "      <th>credit_score</th>\n",
       "      <th>is_male</th>\n",
       "      <th>age</th>\n",
       "      <th>tenure</th>\n",
       "      <th>balance</th>\n",
       "      <th>num_of_products</th>\n",
       "      <th>has_cr_card</th>\n",
       "      <th>is_active_member</th>\n",
       "      <th>estimated_salary</th>\n",
       "      <th>geography_germany</th>\n",
       "      <th>geography_spain</th>\n",
       "    </tr>\n",
       "  </thead>\n",
       "  <tbody>\n",
       "    <tr>\n",
       "      <th>6211</th>\n",
       "      <td>-1.513864</td>\n",
       "      <td>0</td>\n",
       "      <td>0.090079</td>\n",
       "      <td>0.696524</td>\n",
       "      <td>0.656761</td>\n",
       "      <td>-0.908179</td>\n",
       "      <td>0</td>\n",
       "      <td>0</td>\n",
       "      <td>1.652266</td>\n",
       "      <td>1</td>\n",
       "      <td>0</td>\n",
       "    </tr>\n",
       "    <tr>\n",
       "      <th>7926</th>\n",
       "      <td>-0.842793</td>\n",
       "      <td>0</td>\n",
       "      <td>1.407719</td>\n",
       "      <td>0.007517</td>\n",
       "      <td>0.253178</td>\n",
       "      <td>0.809300</td>\n",
       "      <td>1</td>\n",
       "      <td>0</td>\n",
       "      <td>1.003470</td>\n",
       "      <td>0</td>\n",
       "      <td>1</td>\n",
       "    </tr>\n",
       "  </tbody>\n",
       "</table>\n",
       "</div>"
      ],
      "text/plain": [
       "      credit_score  is_male       age    tenure   balance  num_of_products  \\\n",
       "6211     -1.513864        0  0.090079  0.696524  0.656761        -0.908179   \n",
       "7926     -0.842793        0  1.407719  0.007517  0.253178         0.809300   \n",
       "\n",
       "      has_cr_card  is_active_member  estimated_salary  geography_germany  \\\n",
       "6211            0                 0          1.652266                  1   \n",
       "7926            1                 0          1.003470                  0   \n",
       "\n",
       "      geography_spain  \n",
       "6211                0  \n",
       "7926                1  "
      ]
     },
     "metadata": {},
     "output_type": "display_data"
    }
   ],
   "source": [
    "display(features_train.sample(2))\n",
    "display(features_valid.sample(2))\n",
    "display(features_test.sample(2))"
   ]
  },
  {
   "cell_type": "markdown",
   "metadata": {},
   "source": [
    "📌 __Выводы по подготовке данных__\n",
    "> В процессе подготовки данных была проведена предобработка:\n",
    "> - столбцы были переименованы соответствующим образом\n",
    "> - обработаны пропуски (удалили значения т.к. их было не очень много)\n",
    "> - данные были преобразованны в соответствующие форматы\n",
    "> Дальше процесс подготовки данных был следующим:\n",
    "> - удалили признаки, которые нам не нужны при обучении (`row_number`, `customer_id`, `surname`)\n",
    "> - была произведена кодировка категориальных признаков (`gender` с помощью Label Encoder и `geography` используя One-Hot Encoding)\n",
    "> - также проведены разбиения:\n",
    ">> 1. на тестовую, валидационную и обучающую выборки\n",
    ">> 2. признаки и целевые признаки по переменным\n",
    "> - произведено масштабирование численных признаков датафрейма\n",
    "---"
   ]
  },
  {
   "cell_type": "markdown",
   "metadata": {},
   "source": [
    "<a id='2'></a>\n",
    "# 2. Исследование задачи"
   ]
  },
  {
   "cell_type": "markdown",
   "metadata": {},
   "source": [
    "__Функции, написанные для автоматизации__ <br>\n",
    "[⏬⏬⏬⏬SKIP⏬⏬⏬⏬](#2-1)"
   ]
  },
  {
   "cell_type": "code",
   "execution_count": 20,
   "metadata": {},
   "outputs": [],
   "source": [
    "def do_a_tree_f1(my_features_train, \n",
    "                 my_target_train, \n",
    "                 my_features_pred,\n",
    "                 my_target_pred,\n",
    "                 my_depth='default',\n",
    "                 balance=False):\n",
    "    if balance == False:\n",
    "        if my_depth == 'default':\n",
    "            model = DecisionTreeClassifier(random_state=12345)\n",
    "            model.fit(my_features_train, my_target_train)\n",
    "        else:\n",
    "            model = DecisionTreeClassifier(random_state=12345, max_depth=my_depth)\n",
    "            model.fit(my_features_train, my_target_train)\n",
    "    else:\n",
    "        if my_depth == 'default':\n",
    "            model = DecisionTreeClassifier(random_state=12345, class_weight='balanced')\n",
    "            model.fit(my_features_train, my_target_train)\n",
    "        else:\n",
    "            model = DecisionTreeClassifier(random_state=12345, max_depth=my_depth, class_weight='balanced')\n",
    "            model.fit(my_features_train, my_target_train)\n",
    "            \n",
    "    predictions = model.predict(my_features_pred)\n",
    "    \n",
    "    print('F1-метрика дерева решений (max_depth: {}): {}'.format(my_depth, f1_score(my_target_pred, predictions)))\n",
    "    return f1_score(my_target_pred, predictions)\n",
    "    \n",
    "    \n",
    "def do_a_rand_tree_f1(my_features_train, \n",
    "                      my_target_train, \n",
    "                      my_features_pred,\n",
    "                      my_target_pred,\n",
    "                      my_depth='default',\n",
    "                      my_est='default',\n",
    "                      balance=False):\n",
    "    if balance == False:\n",
    "        if (my_depth == 'default') and (my_est == 'default'):\n",
    "            model = RandomForestClassifier(random_state=12345)\n",
    "            model.fit(my_features_train, my_target_train)\n",
    "\n",
    "        elif my_est == 'default':\n",
    "            model = RandomForestClassifier(random_state=12345, max_depth=my_depth)\n",
    "            model.fit(my_features_train, my_target_train)\n",
    "\n",
    "        elif my_depth == 'default':\n",
    "            model = RandomForestClassifier(random_state=12345, n_estimators=my_est)\n",
    "            model.fit(my_features_train, my_target_train)\n",
    "            \n",
    "        else:\n",
    "            model = RandomForestClassifier(random_state=12345, max_depth=my_depth, n_estimators=my_est)\n",
    "            model.fit(my_features_train, my_target_train)\n",
    "    else:\n",
    "        if (my_depth == 'default') and (my_est == 'default'):\n",
    "            model = RandomForestClassifier(random_state=12345, class_weight='balanced')\n",
    "            model.fit(my_features_train, my_target_train)\n",
    "\n",
    "        elif my_est == 'default':\n",
    "            model = RandomForestClassifier(random_state=12345, max_depth=my_depth, class_weight='balanced')\n",
    "            model.fit(my_features_train, my_target_train)\n",
    "\n",
    "        elif my_depth == 'default':\n",
    "            model = RandomForestClassifier(random_state=12345, n_estimators=my_est, class_weight='balanced')\n",
    "            model.fit(my_features_train, my_target_train)\n",
    "            \n",
    "        else:\n",
    "            model = RandomForestClassifier(random_state=12345, max_depth=my_depth, n_estimators=my_est, class_weight='balanced')\n",
    "            model.fit(my_features_train, my_target_train)\n",
    "    \n",
    "    predictions = model.predict(my_features_pred)\n",
    "    \n",
    "    print('F1-метрика случайного леса (max_depth: {}): {}'.format(my_depth, f1_score(my_target_pred, predictions)))\n",
    "    return f1_score(my_target_pred, predictions)\n",
    "\n",
    "def upsample(features, target, repeat):\n",
    "    features_zeros = features[target == 0]\n",
    "    features_ones = features[target == 1]\n",
    "    target_zeros = target[target == 0]\n",
    "    target_ones = target[target == 1]\n",
    "\n",
    "    features_upsampled = pd.concat([features_zeros] + [features_ones] * repeat)\n",
    "    target_upsampled = pd.concat([target_zeros] + [target_ones] * repeat)\n",
    "    \n",
    "    features_upsampled, target_upsampled = shuffle(features_upsampled, \n",
    "                                                   target_upsampled, \n",
    "                                                   random_state=12345)\n",
    "    \n",
    "    return features_upsampled, target_upsampled\n",
    "\n",
    "\n",
    "def downsample(features, target, fraction):\n",
    "    features_zeros = features[target == 0]\n",
    "    features_ones = features[target == 1]\n",
    "    target_zeros = target[target == 0]\n",
    "    target_ones = target[target == 1]\n",
    "\n",
    "    features_downsampled = pd.concat([features_zeros.sample(frac=fraction, random_state=12345)] + [features_ones])\n",
    "    target_downsampled = pd.concat([target_zeros.sample(frac=fraction, random_state=12345)] + [target_ones])\n",
    "    \n",
    "    features_downsampled, target_downsampled = shuffle(features_downsampled, \n",
    "                                                       target_downsampled, \n",
    "                                                       random_state=12345)\n",
    "    \n",
    "    return features_downsampled, target_downsampled"
   ]
  },
  {
   "cell_type": "markdown",
   "metadata": {},
   "source": [
    "<a id='2-1'></a>\n",
    "## 2.1 Исследование баланса классов"
   ]
  },
  {
   "cell_type": "markdown",
   "metadata": {},
   "source": [
    "📝 Построим гистограмму целевого признака для определения баланса/дисбаланса классов"
   ]
  },
  {
   "cell_type": "code",
   "execution_count": 21,
   "metadata": {},
   "outputs": [
    {
     "name": "stdout",
     "output_type": "stream",
     "text": [
      "\"0\" больше чем единиц в ~ 4 раз(а)\n"
     ]
    },
    {
     "data": {
      "image/png": "[encoded data removed]",
      "text/plain": [
       "<Figure size 432x288 with 1 Axes>"
      ]
     },
     "metadata": {
      "needs_background": "light"
     },
     "output_type": "display_data"
    }
   ],
   "source": [
    "group_excited = df_clients.groupby('exited')['exited'].count()\n",
    "group_excited.plot(kind='bar')\n",
    "plt.title('Факт ухода клиента')\n",
    "print('\"0\" больше чем единиц в ~', round(group_excited.loc[0] / group_excited.loc[1]),'раз(а)')"
   ]
  },
  {
   "cell_type": "markdown",
   "metadata": {},
   "source": [
    "✅ Как видно из гистограммы, значительный перевес на стороне классов с целевым признаком \"0\" => они несбалансированы. Для корректного обучения модели мы будем балансировать их.<br>\n",
    "Однако, вначале будем обучать модель без учёта дисбаланса."
   ]
  },
  {
   "cell_type": "markdown",
   "metadata": {},
   "source": [
    "<a id='2-2'></a>\n",
    "## 2.2 Обучение модели без учёта дисбаланса"
   ]
  },
  {
   "cell_type": "markdown",
   "metadata": {},
   "source": [
    "### 2.2.1 Дерево решений"
   ]
  },
  {
   "cell_type": "markdown",
   "metadata": {},
   "source": [
    "📝 Вычислим метрику F1 для деревьев решений с максимальной глубиной в диапазоне [2, 20]"
   ]
  },
  {
   "cell_type": "code",
   "execution_count": 22,
   "metadata": {},
   "outputs": [
    {
     "name": "stdout",
     "output_type": "stream",
     "text": [
      "F1-метрика на валидационной выборке\n",
      "-----------------------------------\n",
      "F1-метрика дерева решений (max_depth: 2): 0.5304878048780488\n",
      "F1-метрика дерева решений (max_depth: 3): 0.3726708074534161\n",
      "F1-метрика дерева решений (max_depth: 4): 0.5414551607445008\n",
      "F1-метрика дерева решений (max_depth: 5): 0.5140712945590994\n",
      "F1-метрика дерева решений (max_depth: 6): 0.5606837606837607\n",
      "F1-метрика дерева решений (max_depth: 7): 0.5764331210191083\n",
      "F1-метрика дерева решений (max_depth: 8): 0.5457516339869282\n",
      "F1-метрика дерева решений (max_depth: 9): 0.5432098765432098\n",
      "F1-метрика дерева решений (max_depth: 10): 0.5178294573643412\n",
      "F1-метрика дерева решений (max_depth: 11): 0.5075528700906344\n",
      "F1-метрика дерева решений (max_depth: 12): 0.476878612716763\n",
      "F1-метрика дерева решений (max_depth: 13): 0.4851904090267983\n",
      "F1-метрика дерева решений (max_depth: 14): 0.4789115646258504\n",
      "F1-метрика дерева решений (max_depth: 15): 0.49595687331536387\n",
      "F1-метрика дерева решений (max_depth: 16): 0.4918478260869565\n",
      "F1-метрика дерева решений (max_depth: 17): 0.48183041722745623\n",
      "F1-метрика дерева решений (max_depth: 18): 0.47745358090185674\n",
      "F1-метрика дерева решений (max_depth: 19): 0.48605577689243035\n",
      "F1-метрика дерева решений (max_depth: 20): 0.4735449735449736\n"
     ]
    }
   ],
   "source": [
    "print('F1-метрика на валидационной выборке')\n",
    "print('-----------------------------------')\n",
    "for max_depth in range(2, 21):\n",
    "    predictions = do_a_tree_f1(features_train, target_train, features_valid, target_valid, max_depth)"
   ]
  },
  {
   "cell_type": "markdown",
   "metadata": {},
   "source": [
    "✅ Наилучший результат показала модель с максимальной глубиной решающего дерева 7: 0.5764331210191083"
   ]
  },
  {
   "cell_type": "markdown",
   "metadata": {},
   "source": [
    "### 2.2.2 Случайный лес"
   ]
  },
  {
   "cell_type": "markdown",
   "metadata": {},
   "source": [
    "📝 Гиперпараметры, которые мы будем менять тут:\n",
    "\n",
    "- количество деревьев: [10, 20] с шагом 2\n",
    "- максимальная глубина: [2, 10]"
   ]
  },
  {
   "cell_type": "code",
   "execution_count": 23,
   "metadata": {},
   "outputs": [
    {
     "name": "stdout",
     "output_type": "stream",
     "text": [
      "Кол-во деревьев в лесу: 10 -------------------------------------\n",
      "  F1-метрика случайного леса (max_depth: 2): 0.13366336633663367\n",
      "  F1-метрика случайного леса (max_depth: 3): 0.33839479392624733\n",
      "  F1-метрика случайного леса (max_depth: 4): 0.47892720306513403\n",
      "  F1-метрика случайного леса (max_depth: 5): 0.4806201550387597\n",
      "  F1-метрика случайного леса (max_depth: 6): 0.5411334552102377\n",
      "  F1-метрика случайного леса (max_depth: 7): 0.5506216696269983\n",
      "  F1-метрика случайного леса (max_depth: 8): 0.5831903945111492\n",
      "  F1-метрика случайного леса (max_depth: 9): 0.5699658703071673\n",
      "  F1-метрика случайного леса (max_depth: 10): 0.5565217391304348\n",
      "Кол-во деревьев в лесу: 12 -------------------------------------\n",
      "  F1-метрика случайного леса (max_depth: 2): 0.08142493638676844\n",
      "  F1-метрика случайного леса (max_depth: 3): 0.29017857142857145\n",
      "  F1-метрика случайного леса (max_depth: 4): 0.45275590551181105\n",
      "  F1-метрика случайного леса (max_depth: 5): 0.4728682170542636\n",
      "  F1-метрика случайного леса (max_depth: 6): 0.5428051001821493\n",
      "  F1-метрика случайного леса (max_depth: 7): 0.5563380281690141\n",
      "  F1-метрика случайного леса (max_depth: 8): 0.5738831615120275\n",
      "  F1-метрика случайного леса (max_depth: 9): 0.5840407470288624\n",
      "  F1-метрика случайного леса (max_depth: 10): 0.5674740484429066\n",
      "Кол-во деревьев в лесу: 14 -------------------------------------\n",
      "  F1-метрика случайного леса (max_depth: 2): 0.06169665809768638\n",
      "  F1-метрика случайного леса (max_depth: 3): 0.23665893271461722\n",
      "  F1-метрика случайного леса (max_depth: 4): 0.45703125000000006\n",
      "  F1-метрика случайного леса (max_depth: 5): 0.4776699029126214\n",
      "  F1-метрика случайного леса (max_depth: 6): 0.5457809694793537\n",
      "  F1-метрика случайного леса (max_depth: 7): 0.55929203539823\n",
      "  F1-метрика случайного леса (max_depth: 8): 0.5856164383561644\n",
      "  F1-метрика случайного леса (max_depth: 9): 0.5738831615120275\n",
      "  F1-метрика случайного леса (max_depth: 10): 0.5689655172413792\n",
      "Кол-во деревьев в лесу: 16 -------------------------------------\n",
      "  F1-метрика случайного леса (max_depth: 2): 0.10552763819095477\n",
      "  F1-метрика случайного леса (max_depth: 3): 0.21596244131455397\n",
      "  F1-метрика случайного леса (max_depth: 4): 0.44841269841269843\n",
      "  F1-метрика случайного леса (max_depth: 5): 0.46274509803921565\n",
      "  F1-метрика случайного леса (max_depth: 6): 0.5444646098003629\n",
      "  F1-метрика случайного леса (max_depth: 7): 0.5581395348837208\n",
      "  F1-метрика случайного леса (max_depth: 8): 0.5748709122203098\n",
      "  F1-метрика случайного леса (max_depth: 9): 0.5665529010238908\n",
      "  F1-метрика случайного леса (max_depth: 10): 0.5694444444444445\n",
      "Кол-во деревьев в лесу: 18 -------------------------------------\n",
      "  F1-метрика случайного леса (max_depth: 2): 0.11499999999999999\n",
      "  F1-метрика случайного леса (max_depth: 3): 0.26146788990825687\n",
      "  F1-метрика случайного леса (max_depth: 4): 0.46183953033268105\n",
      "  F1-метрика случайного леса (max_depth: 5): 0.47265624999999994\n",
      "  F1-метрика случайного леса (max_depth: 6): 0.5529622980251346\n",
      "  F1-метрика случайного леса (max_depth: 7): 0.5638297872340425\n",
      "  F1-метрика случайного леса (max_depth: 8): 0.5793103448275863\n",
      "  F1-метрика случайного леса (max_depth: 9): 0.5714285714285714\n",
      "  F1-метрика случайного леса (max_depth: 10): 0.5565217391304348\n",
      "Кол-во деревьев в лесу: 20 -------------------------------------\n",
      "  F1-метрика случайного леса (max_depth: 2): 0.10552763819095477\n",
      "  F1-метрика случайного леса (max_depth: 3): 0.2608695652173913\n",
      "  F1-метрика случайного леса (max_depth: 4): 0.450592885375494\n",
      "  F1-метрика случайного леса (max_depth: 5): 0.48169556840077077\n",
      "  F1-метрика случайного леса (max_depth: 6): 0.5477477477477477\n",
      "  F1-метрика случайного леса (max_depth: 7): 0.5602836879432624\n",
      "  F1-метрика случайного леса (max_depth: 8): 0.5768566493955095\n",
      "  F1-метрика случайного леса (max_depth: 9): 0.5734024179620034\n",
      "  F1-метрика случайного леса (max_depth: 10): 0.5609756097560976\n"
     ]
    }
   ],
   "source": [
    "for est in range(10, 21, 2):\n",
    "    print('Кол-во деревьев в лесу:', est, '-------------------------------------')\n",
    "    for max_depth in range(2, 11):\n",
    "        print('  ', end='')\n",
    "        prediction = do_a_rand_tree_f1(features_train, target_train, features_valid, target_valid, max_depth, est)"
   ]
  },
  {
   "cell_type": "markdown",
   "metadata": {},
   "source": [
    "✅ Наилучший результат показала модель с гиперпараметрами: <br>\n",
    "- кол-вом деревьев в лесу: 14\n",
    "- максимальной глубиной решающего дерева 8 \n",
    "\n",
    "__F1-метрика = 0.5856164383561644__"
   ]
  },
  {
   "cell_type": "markdown",
   "metadata": {},
   "source": [
    "### 2.2.3 Логистическая регрессия"
   ]
  },
  {
   "cell_type": "code",
   "execution_count": 24,
   "metadata": {},
   "outputs": [
    {
     "name": "stdout",
     "output_type": "stream",
     "text": [
      "Логистическая регрессия = 0.30400000000000005\n"
     ]
    }
   ],
   "source": [
    "model = LogisticRegression(random_state=12345)\n",
    "model.fit(features_train, target_train)\n",
    "predictions = model.predict(features_valid)\n",
    "print('Логистическая регрессия =', f1_score(target_valid, predictions))"
   ]
  },
  {
   "cell_type": "markdown",
   "metadata": {},
   "source": [
    "✅ Логистическая регрессия показала результат F1-метрики = 0.30400000000000005"
   ]
  },
  {
   "cell_type": "markdown",
   "metadata": {},
   "source": [
    "📌 __Выводы по обучению модели без учёта дисбаланса__\n",
    "> - лучший результат был достигнут случайным лесом (кол-во деревьев: 14 и максимальная глубина  8). __F1-метрика = 0.5856164383561644__ \n",
    "> - с помощью решающего дерева удалось достигнуть __F1-метрики = 0.5764331210191083__ с максимальной глубиной решающего дерева 7\n",
    "> - логистическая регрессия показала результат __F1-метрики = 0.30400000000000005__\n",
    "---"
   ]
  },
  {
   "cell_type": "markdown",
   "metadata": {},
   "source": [
    "<a id='3'></a>\n",
    "# 3. Борьба с дисбалансом"
   ]
  },
  {
   "cell_type": "markdown",
   "metadata": {},
   "source": [
    "<a id='3-1'></a>\n",
    "## 3.1 Взвешивание классов"
   ]
  },
  {
   "cell_type": "markdown",
   "metadata": {},
   "source": [
    "📝 Обучим модели с параметром `class_weight='balanced'`"
   ]
  },
  {
   "cell_type": "markdown",
   "metadata": {},
   "source": [
    "### 3.1.1 Дерево решений"
   ]
  },
  {
   "cell_type": "code",
   "execution_count": 25,
   "metadata": {},
   "outputs": [
    {
     "name": "stdout",
     "output_type": "stream",
     "text": [
      "F1-метрика на валидационной выборке\n",
      "-----------------------------------\n",
      "F1-метрика дерева решений (max_depth: 2): 0.5297619047619048\n",
      "F1-метрика дерева решений (max_depth: 3): 0.548936170212766\n",
      "F1-метрика дерева решений (max_depth: 4): 0.5461187214611872\n",
      "F1-метрика дерева решений (max_depth: 5): 0.5735449735449736\n",
      "F1-метрика дерева решений (max_depth: 6): 0.5630885122410546\n",
      "F1-метрика дерева решений (max_depth: 7): 0.5409990574929311\n",
      "F1-метрика дерева решений (max_depth: 8): 0.560344827586207\n",
      "F1-метрика дерева решений (max_depth: 9): 0.509933774834437\n",
      "F1-метрика дерева решений (max_depth: 10): 0.514161220043573\n",
      "F1-метрика дерева решений (max_depth: 11): 0.5107344632768361\n",
      "F1-метрика дерева решений (max_depth: 12): 0.5079754601226995\n",
      "F1-метрика дерева решений (max_depth: 13): 0.4857496902106567\n",
      "F1-метрика дерева решений (max_depth: 14): 0.48984771573604063\n",
      "F1-метрика дерева решений (max_depth: 15): 0.46675358539765316\n",
      "F1-метрика дерева решений (max_depth: 16): 0.46701846965699206\n",
      "F1-метрика дерева решений (max_depth: 17): 0.4696569920844327\n",
      "F1-метрика дерева решений (max_depth: 18): 0.45883940620782726\n",
      "F1-метрика дерева решений (max_depth: 19): 0.45318860244233383\n",
      "F1-метрика дерева решений (max_depth: 20): 0.4737550471063257\n"
     ]
    }
   ],
   "source": [
    "print('F1-метрика на валидационной выборке')\n",
    "print('-----------------------------------')\n",
    "for max_depth in range(2, 21):\n",
    "    predictions = do_a_tree_f1(features_train, target_train, features_valid, target_valid, max_depth, True)"
   ]
  },
  {
   "cell_type": "markdown",
   "metadata": {},
   "source": [
    "✅ Лучшее значение F1-метрики равно __0.5735449735449736__ при `max_depth = 5`"
   ]
  },
  {
   "cell_type": "markdown",
   "metadata": {},
   "source": [
    "### 3.1.2 Случайный лес"
   ]
  },
  {
   "cell_type": "code",
   "execution_count": 26,
   "metadata": {},
   "outputs": [
    {
     "name": "stdout",
     "output_type": "stream",
     "text": [
      "Кол-во деревьев в лесу: 10 -------------------------------------\n",
      "  F1-метрика случайного леса (max_depth: 2): 0.55\n",
      "  F1-метрика случайного леса (max_depth: 3): 0.5361620057859209\n",
      "  F1-метрика случайного леса (max_depth: 4): 0.5658031088082901\n",
      "  F1-метрика случайного леса (max_depth: 5): 0.5938494167550371\n",
      "  F1-метрика случайного леса (max_depth: 6): 0.6015037593984962\n",
      "  F1-метрика случайного леса (max_depth: 7): 0.6126526082130965\n",
      "  F1-метрика случайного леса (max_depth: 8): 0.6197183098591549\n",
      "  F1-метрика случайного леса (max_depth: 9): 0.6148325358851674\n",
      "  F1-метрика случайного леса (max_depth: 10): 0.6178010471204188\n",
      "Кол-во деревьев в лесу: 12 -------------------------------------\n",
      "  F1-метрика случайного леса (max_depth: 2): 0.5553319919517102\n",
      "  F1-метрика случайного леса (max_depth: 3): 0.5423387096774194\n",
      "  F1-метрика случайного леса (max_depth: 4): 0.5749741468459151\n",
      "  F1-метрика случайного леса (max_depth: 5): 0.6044538706256628\n",
      "  F1-метрика случайного леса (max_depth: 6): 0.6045503791982665\n",
      "  F1-метрика случайного леса (max_depth: 7): 0.6153846153846154\n",
      "  F1-метрика случайного леса (max_depth: 8): 0.6229116945107399\n",
      "  F1-метрика случайного леса (max_depth: 9): 0.6181818181818183\n",
      "  F1-метрика случайного леса (max_depth: 10): 0.6228646517739816\n",
      "Кол-во деревьев в лесу: 14 -------------------------------------\n",
      "  F1-метрика случайного леса (max_depth: 2): 0.5767634854771785\n",
      "  F1-метрика случайного леса (max_depth: 3): 0.5540950455005056\n",
      "  F1-метрика случайного леса (max_depth: 4): 0.5833333333333333\n",
      "  F1-метрика случайного леса (max_depth: 5): 0.6044538706256628\n",
      "  F1-метрика случайного леса (max_depth: 6): 0.5974025974025974\n",
      "  F1-метрика случайного леса (max_depth: 7): 0.6242905788876276\n",
      "  F1-метрика случайного леса (max_depth: 8): 0.6255924170616114\n",
      "  F1-метрика случайного леса (max_depth: 9): 0.6200980392156863\n",
      "  F1-метрика случайного леса (max_depth: 10): 0.6241699867197874\n",
      "Кол-во деревьев в лесу: 16 -------------------------------------\n",
      "  F1-метрика случайного леса (max_depth: 2): 0.5618661257606491\n",
      "  F1-метрика случайного леса (max_depth: 3): 0.5489795918367347\n",
      "  F1-метрика случайного леса (max_depth: 4): 0.5845511482254698\n",
      "  F1-метрика случайного леса (max_depth: 5): 0.5925925925925927\n",
      "  F1-метрика случайного леса (max_depth: 6): 0.6130434782608696\n",
      "  F1-метрика случайного леса (max_depth: 7): 0.6178128523111612\n",
      "  F1-метрика случайного леса (max_depth: 8): 0.6142857142857142\n",
      "  F1-метрика случайного леса (max_depth: 9): 0.6168910648714809\n",
      "  F1-метрика случайного леса (max_depth: 10): 0.6332453825857519\n",
      "Кол-во деревьев в лесу: 18 -------------------------------------\n",
      "  F1-метрика случайного леса (max_depth: 2): 0.5582822085889572\n",
      "  F1-метрика случайного леса (max_depth: 3): 0.5481927710843373\n",
      "  F1-метрика случайного леса (max_depth: 4): 0.5717321997874601\n",
      "  F1-метрика случайного леса (max_depth: 5): 0.5874867444326617\n",
      "  F1-метрика случайного леса (max_depth: 6): 0.6147091108671788\n",
      "  F1-метрика случайного леса (max_depth: 7): 0.6178489702517163\n",
      "  F1-метрика случайного леса (max_depth: 8): 0.6254458977407847\n",
      "  F1-метрика случайного леса (max_depth: 9): 0.6178266178266179\n",
      "  F1-метрика случайного леса (max_depth: 10): 0.6312997347480106\n",
      "Кол-во деревьев в лесу: 20 -------------------------------------\n",
      "  F1-метрика случайного леса (max_depth: 2): 0.5376984126984127\n",
      "  F1-метрика случайного леса (max_depth: 3): 0.5492957746478873\n",
      "  F1-метрика случайного леса (max_depth: 4): 0.5717277486910995\n",
      "  F1-метрика случайного леса (max_depth: 5): 0.5889830508474577\n",
      "  F1-метрика случайного леса (max_depth: 6): 0.6153846153846154\n",
      "  F1-метрика случайного леса (max_depth: 7): 0.6120591581342434\n",
      "  F1-метрика случайного леса (max_depth: 8): 0.6233766233766234\n",
      "  F1-метрика случайного леса (max_depth: 9): 0.6234718826405867\n",
      "  F1-метрика случайного леса (max_depth: 10): 0.6340819022457067\n"
     ]
    }
   ],
   "source": [
    "for est in range(10, 21, 2):\n",
    "    print('Кол-во деревьев в лесу:', est, '-------------------------------------')\n",
    "    for max_depth in range(2, 11):\n",
    "        print('  ', end='')\n",
    "        prediction = do_a_rand_tree_f1(features_train, target_train, features_valid, target_valid, max_depth, est, True)"
   ]
  },
  {
   "cell_type": "markdown",
   "metadata": {},
   "source": [
    "✅ F1-метрика случайного леса улучшилась при балансировке параметром. При количестве деревьев = 20 и макс.глубиной 10 __F1-метрика = 0.6340819022457067__"
   ]
  },
  {
   "cell_type": "markdown",
   "metadata": {},
   "source": [
    "### 3.1.3 Логистическая регрессия"
   ]
  },
  {
   "cell_type": "code",
   "execution_count": 27,
   "metadata": {},
   "outputs": [
    {
     "name": "stdout",
     "output_type": "stream",
     "text": [
      "Логистическая регрессия = 0.509731232622799\n"
     ]
    }
   ],
   "source": [
    "model = LogisticRegression(random_state=12345, class_weight='balanced')\n",
    "model.fit(features_train, target_train)\n",
    "predictions = model.predict(features_valid)\n",
    "print('Логистическая регрессия =', f1_score(target_valid, predictions))"
   ]
  },
  {
   "cell_type": "markdown",
   "metadata": {},
   "source": [
    "✅ Логистическая регрессия также при балансировке улучшила __F1-метрику = 0.509731232622799__"
   ]
  },
  {
   "cell_type": "markdown",
   "metadata": {},
   "source": [
    "📌 __Выводы по обучению модели с параметром `class_weight='balanced'`__\n",
    "> - Логистическая модель и случайный лес при балансеровке улучшили свои F1-метрики, дерево решений ухудшило\n",
    "> - Лучший результат _Случайный лес (кол-во деревьев=20, макс.глубина=10)_ __F1-метрика = 0.6340819022457067__"
   ]
  },
  {
   "cell_type": "markdown",
   "metadata": {},
   "source": [
    "<a id='3-2'></a>\n",
    "## 3.2 Увеличение выборки"
   ]
  },
  {
   "cell_type": "markdown",
   "metadata": {},
   "source": [
    "📝 Воспользуемся методом upsampling, для этого увеличим кол-во классов со значением целевого признака \"1\". Как нам известно, \"отстающие\" классы мы будем увеличивать в _4 раза_."
   ]
  },
  {
   "cell_type": "code",
   "execution_count": 28,
   "metadata": {},
   "outputs": [
    {
     "data": {
      "text/plain": [
       "<AxesSubplot:xlabel='exited'>"
      ]
     },
     "execution_count": 28,
     "metadata": {},
     "output_type": "execute_result"
    },
    {
     "data": {
      "image/png": "[encoded data removed]",
      "text/plain": [
       "<Figure size 432x288 with 1 Axes>"
      ]
     },
     "metadata": {
      "needs_background": "light"
     },
     "output_type": "display_data"
    }
   ],
   "source": [
    "df_features_upsampled, df_target_upsampled = upsample(features_train, target_train, 4)\n",
    "df_target_upsampled.groupby(df_target_upsampled).count().plot(kind='bar')"
   ]
  },
  {
   "cell_type": "markdown",
   "metadata": {},
   "source": [
    "✅ Классы были сбалансированны методом upsampling. Приступим к обучению"
   ]
  },
  {
   "cell_type": "markdown",
   "metadata": {},
   "source": [
    "### 3.2.1 Дерево решений"
   ]
  },
  {
   "cell_type": "code",
   "execution_count": 29,
   "metadata": {},
   "outputs": [
    {
     "name": "stdout",
     "output_type": "stream",
     "text": [
      "F1-метрика на валидационной выборке\n",
      "-----------------------------------\n",
      "F1-метрика дерева решений (max_depth: 2): 0.5297619047619048\n",
      "F1-метрика дерева решений (max_depth: 3): 0.548936170212766\n",
      "F1-метрика дерева решений (max_depth: 4): 0.5461187214611872\n",
      "F1-метрика дерева решений (max_depth: 5): 0.5735449735449736\n",
      "F1-метрика дерева решений (max_depth: 6): 0.5630885122410546\n",
      "F1-метрика дерева решений (max_depth: 7): 0.5437441204139228\n",
      "F1-метрика дерева решений (max_depth: 8): 0.5617740232312566\n",
      "F1-метрика дерева решений (max_depth: 9): 0.5127635960044394\n",
      "F1-метрика дерева решений (max_depth: 10): 0.5086956521739131\n",
      "F1-метрика дерева решений (max_depth: 11): 0.5095828635851184\n",
      "F1-метрика дерева решений (max_depth: 12): 0.5030525030525032\n",
      "F1-метрика дерева решений (max_depth: 13): 0.49066002490660027\n",
      "F1-метрика дерева решений (max_depth: 14): 0.4836272040302267\n",
      "F1-метрика дерева решений (max_depth: 15): 0.46640316205533594\n",
      "F1-метрика дерева решений (max_depth: 16): 0.4704336399474376\n",
      "F1-метрика дерева решений (max_depth: 17): 0.4688741721854305\n",
      "F1-метрика дерева решений (max_depth: 18): 0.47218453188602444\n",
      "F1-метрика дерева решений (max_depth: 19): 0.4682002706359945\n",
      "F1-метрика дерева решений (max_depth: 20): 0.47184986595174266\n"
     ]
    }
   ],
   "source": [
    "print('F1-метрика на валидационной выборке')\n",
    "print('-----------------------------------')\n",
    "for max_depth in range(2, 21):\n",
    "    predictions = do_a_tree_f1(df_features_upsampled, df_target_upsampled, features_valid, target_valid, max_depth)"
   ]
  },
  {
   "cell_type": "markdown",
   "metadata": {},
   "source": [
    "### 3.2.2 Случайный лес"
   ]
  },
  {
   "cell_type": "code",
   "execution_count": 30,
   "metadata": {},
   "outputs": [
    {
     "name": "stdout",
     "output_type": "stream",
     "text": [
      "Кол-во деревьев в лесу: 10 -------------------------------------\n",
      "  F1-метрика случайного леса (max_depth: 2): 0.536\n",
      "  F1-метрика случайного леса (max_depth: 3): 0.5344827586206896\n",
      "  F1-метрика случайного леса (max_depth: 4): 0.5768025078369906\n",
      "  F1-метрика случайного леса (max_depth: 5): 0.5764462809917356\n",
      "  F1-метрика случайного леса (max_depth: 6): 0.5952890792291221\n",
      "  F1-метрика случайного леса (max_depth: 7): 0.6060606060606061\n",
      "  F1-метрика случайного леса (max_depth: 8): 0.5928338762214983\n",
      "  F1-метрика случайного леса (max_depth: 9): 0.6102449888641427\n",
      "  F1-метрика случайного леса (max_depth: 10): 0.5977011494252874\n",
      "Кол-во деревьев в лесу: 12 -------------------------------------\n",
      "  F1-метрика случайного леса (max_depth: 2): 0.5350444225074038\n",
      "  F1-метрика случайного леса (max_depth: 3): 0.5333333333333334\n",
      "  F1-метрика случайного леса (max_depth: 4): 0.5714285714285715\n",
      "  F1-метрика случайного леса (max_depth: 5): 0.5824847250509165\n",
      "  F1-метрика случайного леса (max_depth: 6): 0.597676874340021\n",
      "  F1-метрика случайного леса (max_depth: 7): 0.6008869179600886\n",
      "  F1-метрика случайного леса (max_depth: 8): 0.6004415011037527\n",
      "  F1-метрика случайного леса (max_depth: 9): 0.6040268456375839\n",
      "  F1-метрика случайного леса (max_depth: 10): 0.6055684454756379\n",
      "Кол-во деревьев в лесу: 14 -------------------------------------\n",
      "  F1-метрика случайного леса (max_depth: 2): 0.5535714285714286\n",
      "  F1-метрика случайного леса (max_depth: 3): 0.551660516605166\n",
      "  F1-метрика случайного леса (max_depth: 4): 0.5814185814185814\n",
      "  F1-метрика случайного леса (max_depth: 5): 0.582995951417004\n",
      "  F1-метрика случайного леса (max_depth: 6): 0.5976520811099253\n",
      "  F1-метрика случайного леса (max_depth: 7): 0.6070640176600441\n",
      "  F1-метрика случайного леса (max_depth: 8): 0.6095661846496107\n",
      "  F1-метрика случайного леса (max_depth: 9): 0.6180159635119726\n",
      "  F1-метрика случайного леса (max_depth: 10): 0.6134259259259259\n",
      "Кол-во деревьев в лесу: 16 -------------------------------------\n",
      "  F1-метрика случайного леса (max_depth: 2): 0.5458128078817734\n",
      "  F1-метрика случайного леса (max_depth: 3): 0.553639846743295\n",
      "  F1-метрика случайного леса (max_depth: 4): 0.5787321063394683\n",
      "  F1-метрика случайного леса (max_depth: 5): 0.5860655737704917\n",
      "  F1-метрика случайного леса (max_depth: 6): 0.6012931034482758\n",
      "  F1-метрика случайного леса (max_depth: 7): 0.6082130965593785\n",
      "  F1-метрика случайного леса (max_depth: 8): 0.6133333333333333\n",
      "  F1-метрика случайного леса (max_depth: 9): 0.6220204313280364\n",
      "  F1-метрика случайного леса (max_depth: 10): 0.6155632984901278\n",
      "Кол-во деревьев в лесу: 18 -------------------------------------\n",
      "  F1-метрика случайного леса (max_depth: 2): 0.5283018867924529\n",
      "  F1-метрика случайного леса (max_depth: 3): 0.5438765670202507\n",
      "  F1-метрика случайного леса (max_depth: 4): 0.578238341968912\n",
      "  F1-метрика случайного леса (max_depth: 5): 0.5875\n",
      "  F1-метрика случайного леса (max_depth: 6): 0.6014877789585547\n",
      "  F1-метрика случайного леса (max_depth: 7): 0.6030701754385965\n",
      "  F1-метрика случайного леса (max_depth: 8): 0.6072607260726074\n",
      "  F1-метрика случайного леса (max_depth: 9): 0.6097838452787259\n",
      "  F1-метрика случайного леса (max_depth: 10): 0.6139534883720931\n",
      "Кол-во деревьев в лесу: 20 -------------------------------------\n",
      "  F1-метрика случайного леса (max_depth: 2): 0.528046421663443\n",
      "  F1-метрика случайного леса (max_depth: 3): 0.543330087633885\n",
      "  F1-метрика случайного леса (max_depth: 4): 0.5818561001042752\n",
      "  F1-метрика случайного леса (max_depth: 5): 0.5875\n",
      "  F1-метрика случайного леса (max_depth: 6): 0.6030042918454936\n",
      "  F1-метрика случайного леса (max_depth: 7): 0.6152149944873209\n",
      "  F1-метрика случайного леса (max_depth: 8): 0.6141906873614191\n",
      "  F1-метрика случайного леса (max_depth: 9): 0.6116838487972509\n",
      "  F1-метрика случайного леса (max_depth: 10): 0.6146682188591386\n"
     ]
    }
   ],
   "source": [
    "for est in range(10, 21, 2):\n",
    "    print('Кол-во деревьев в лесу:', est, '-------------------------------------')\n",
    "    for max_depth in range(2, 11):\n",
    "        print('  ', end='')\n",
    "        prediction = do_a_rand_tree_f1(df_features_upsampled, \n",
    "                                       df_target_upsampled, \n",
    "                                       features_valid, \n",
    "                                       target_valid, \n",
    "                                       max_depth, \n",
    "                                       est)"
   ]
  },
  {
   "cell_type": "markdown",
   "metadata": {},
   "source": [
    "### 3.2.3 Логистическая регрессия"
   ]
  },
  {
   "cell_type": "code",
   "execution_count": 31,
   "metadata": {},
   "outputs": [
    {
     "name": "stdout",
     "output_type": "stream",
     "text": [
      "Логистическая регрессия = 0.5085972850678734\n"
     ]
    }
   ],
   "source": [
    "model = LogisticRegression(random_state=12345)\n",
    "model.fit(df_features_upsampled, df_target_upsampled)\n",
    "predictions = model.predict(features_valid)\n",
    "print('Логистическая регрессия =', f1_score(target_valid, predictions))"
   ]
  },
  {
   "cell_type": "markdown",
   "metadata": {},
   "source": [
    "✅ Модели построенные на выбоках сбалансированных методом upsampling не показала лучших результатов, чем _Взвешивание классов_. __Лучшая F1-метрика при upsampling = 0.6220204313280364__"
   ]
  },
  {
   "cell_type": "markdown",
   "metadata": {},
   "source": [
    "<a id='3-3'></a>\n",
    "## 3.3 Уменьшение выборки"
   ]
  },
  {
   "cell_type": "markdown",
   "metadata": {},
   "source": [
    "📝 Воспользуемся методом downsampling, для этого уменьшим кол-во классов со значением целевого признака \"0\". Как нам известно, \"опережающие\" классы мы будем уменьшать в 4 раза."
   ]
  },
  {
   "cell_type": "code",
   "execution_count": 32,
   "metadata": {},
   "outputs": [
    {
     "data": {
      "text/plain": [
       "<AxesSubplot:xlabel='exited'>"
      ]
     },
     "execution_count": 32,
     "metadata": {},
     "output_type": "execute_result"
    },
    {
     "data": {
      "image/png": "[encoded data removed]",
      "text/plain": [
       "<Figure size 432x288 with 1 Axes>"
      ]
     },
     "metadata": {
      "needs_background": "light"
     },
     "output_type": "display_data"
    }
   ],
   "source": [
    "df_features_downsampled, df_target_downsampled = downsample(features_train, target_train, 0.25)\n",
    "df_target_downsampled.groupby(df_target_downsampled).count().plot(kind='bar')"
   ]
  },
  {
   "cell_type": "markdown",
   "metadata": {},
   "source": [
    "✅ Классы были сбалансированны методом downsampling. Приступим к обучению"
   ]
  },
  {
   "cell_type": "markdown",
   "metadata": {},
   "source": [
    "### 3.3.1 Дерево решений"
   ]
  },
  {
   "cell_type": "code",
   "execution_count": 33,
   "metadata": {},
   "outputs": [
    {
     "name": "stdout",
     "output_type": "stream",
     "text": [
      "F1-метрика на валидационной выборке\n",
      "-----------------------------------\n",
      "F1-метрика дерева решений (max_depth: 2): 0.5100788781770377\n",
      "F1-метрика дерева решений (max_depth: 3): 0.5100788781770377\n",
      "F1-метрика дерева решений (max_depth: 4): 0.5563173359451519\n",
      "F1-метрика дерева решений (max_depth: 5): 0.5543199315654406\n",
      "F1-метрика дерева решений (max_depth: 6): 0.5636704119850188\n",
      "F1-метрика дерева решений (max_depth: 7): 0.5547309833024119\n",
      "F1-метрика дерева решений (max_depth: 8): 0.548828125\n",
      "F1-метрика дерева решений (max_depth: 9): 0.5203405865657521\n",
      "F1-метрика дерева решений (max_depth: 10): 0.5\n",
      "F1-метрика дерева решений (max_depth: 11): 0.5146520146520146\n",
      "F1-метрика дерева решений (max_depth: 12): 0.491588785046729\n",
      "F1-метрика дерева решений (max_depth: 13): 0.5059578368469294\n",
      "F1-метрика дерева решений (max_depth: 14): 0.5\n",
      "F1-метрика дерева решений (max_depth: 15): 0.5022665457842248\n",
      "F1-метрика дерева решений (max_depth: 16): 0.49864498644986455\n",
      "F1-метрика дерева решений (max_depth: 17): 0.5054347826086957\n",
      "F1-метрика дерева решений (max_depth: 18): 0.5067873303167421\n",
      "F1-метрика дерева решений (max_depth: 19): 0.5067873303167421\n",
      "F1-метрика дерева решений (max_depth: 20): 0.5067873303167421\n"
     ]
    }
   ],
   "source": [
    "print('F1-метрика на валидационной выборке')\n",
    "print('-----------------------------------')\n",
    "for max_depth in range(2, 21):\n",
    "    predictions = do_a_tree_f1(df_features_downsampled, df_target_downsampled, features_valid, target_valid, max_depth)"
   ]
  },
  {
   "cell_type": "markdown",
   "metadata": {},
   "source": [
    "### 3.3.2 Случайный лес"
   ]
  },
  {
   "cell_type": "code",
   "execution_count": 34,
   "metadata": {},
   "outputs": [
    {
     "name": "stdout",
     "output_type": "stream",
     "text": [
      "Кол-во деревьев в лесу: 10 -------------------------------------\n",
      "  F1-метрика случайного леса (max_depth: 2): 0.5194570135746606\n",
      "  F1-метрика случайного леса (max_depth: 3): 0.5634365634365635\n",
      "  F1-метрика случайного леса (max_depth: 4): 0.5615763546798029\n",
      "  F1-метрика случайного леса (max_depth: 5): 0.5606936416184971\n",
      "  F1-метрика случайного леса (max_depth: 6): 0.5763747454175152\n",
      "  F1-метрика случайного леса (max_depth: 7): 0.5734265734265734\n",
      "  F1-метрика случайного леса (max_depth: 8): 0.5675413022351798\n",
      "  F1-метрика случайного леса (max_depth: 9): 0.5584045584045584\n",
      "  F1-метрика случайного леса (max_depth: 10): 0.5542635658914729\n",
      "Кол-во деревьев в лесу: 12 -------------------------------------\n",
      "  F1-метрика случайного леса (max_depth: 2): 0.5296803652968036\n",
      "  F1-метрика случайного леса (max_depth: 3): 0.5591397849462366\n",
      "  F1-метрика случайного леса (max_depth: 4): 0.5562015503875969\n",
      "  F1-метрика случайного леса (max_depth: 5): 0.5634075508228461\n",
      "  F1-метрика случайного леса (max_depth: 6): 0.590030518819939\n",
      "  F1-метрика случайного леса (max_depth: 7): 0.580259222333001\n",
      "  F1-метрика случайного леса (max_depth: 8): 0.5776031434184675\n",
      "  F1-метрика случайного леса (max_depth: 9): 0.5656759348034516\n",
      "  F1-метрика случайного леса (max_depth: 10): 0.5590778097982708\n",
      "Кол-во деревьев в лесу: 14 -------------------------------------\n",
      "  F1-метрика случайного леса (max_depth: 2): 0.5423423423423422\n",
      "  F1-метрика случайного леса (max_depth: 3): 0.5681159420289855\n",
      "  F1-метрика случайного леса (max_depth: 4): 0.5477099236641221\n",
      "  F1-метрика случайного леса (max_depth: 5): 0.5733990147783251\n",
      "  F1-метрика случайного леса (max_depth: 6): 0.5815602836879432\n",
      "  F1-метрика случайного леса (max_depth: 7): 0.5883514313919052\n",
      "  F1-метрика случайного леса (max_depth: 8): 0.5857002938295788\n",
      "  F1-метрика случайного леса (max_depth: 9): 0.5796545105566219\n",
      "  F1-метрика случайного леса (max_depth: 10): 0.5700575815738963\n",
      "Кол-во деревьев в лесу: 16 -------------------------------------\n",
      "  F1-метрика случайного леса (max_depth: 2): 0.533920704845815\n",
      "  F1-метрика случайного леса (max_depth: 3): 0.5651340996168582\n",
      "  F1-метрика случайного леса (max_depth: 4): 0.5645472061657033\n",
      "  F1-метрика случайного леса (max_depth: 5): 0.576808721506442\n",
      "  F1-метрика случайного леса (max_depth: 6): 0.5864197530864198\n",
      "  F1-метрика случайного леса (max_depth: 7): 0.58300395256917\n",
      "  F1-метрика случайного леса (max_depth: 8): 0.5841584158415841\n",
      "  F1-метрика случайного леса (max_depth: 9): 0.5904203323558163\n",
      "  F1-метрика случайного леса (max_depth: 10): 0.570334928229665\n",
      "Кол-во деревьев в лесу: 18 -------------------------------------\n",
      "  F1-метрика случайного леса (max_depth: 2): 0.5327272727272728\n",
      "  F1-метрика случайного леса (max_depth: 3): 0.5616438356164384\n",
      "  F1-метрика случайного леса (max_depth: 4): 0.5703048180924288\n",
      "  F1-метрика случайного леса (max_depth: 5): 0.5810945273631842\n",
      "  F1-метрика случайного леса (max_depth: 6): 0.5902992776057792\n",
      "  F1-метрика случайного леса (max_depth: 7): 0.5865865865865866\n",
      "  F1-метрика случайного леса (max_depth: 8): 0.5890547263681593\n",
      "  F1-метрика случайного леса (max_depth: 9): 0.5821782178217823\n",
      "  F1-метрика случайного леса (max_depth: 10): 0.5662188099808061\n",
      "Кол-во деревьев в лесу: 20 -------------------------------------\n",
      "  F1-метрика случайного леса (max_depth: 2): 0.529789184234647\n",
      "  F1-метрика случайного леса (max_depth: 3): 0.5565388397246804\n",
      "  F1-метрика случайного леса (max_depth: 4): 0.5637982195845698\n",
      "  F1-метрика случайного леса (max_depth: 5): 0.576204523107178\n",
      "  F1-метрика случайного леса (max_depth: 6): 0.588477366255144\n",
      "  F1-метрика случайного леса (max_depth: 7): 0.579940417080437\n",
      "  F1-метрика случайного леса (max_depth: 8): 0.5855588526211671\n",
      "  F1-метрика случайного леса (max_depth: 9): 0.5898709036742801\n",
      "  F1-метрика случайного леса (max_depth: 10): 0.5769603097773475\n"
     ]
    }
   ],
   "source": [
    "for est in range(10, 21, 2):\n",
    "    print('Кол-во деревьев в лесу:', est, '-------------------------------------')\n",
    "    for max_depth in range(2, 11):\n",
    "        print('  ', end='')\n",
    "        prediction = do_a_rand_tree_f1(df_features_downsampled, \n",
    "                                       df_target_downsampled, \n",
    "                                       features_valid, \n",
    "                                       target_valid, \n",
    "                                       max_depth, \n",
    "                                       est)"
   ]
  },
  {
   "cell_type": "markdown",
   "metadata": {},
   "source": [
    "### 3.3.3 Логистическая регрессия"
   ]
  },
  {
   "cell_type": "code",
   "execution_count": 35,
   "metadata": {},
   "outputs": [
    {
     "name": "stdout",
     "output_type": "stream",
     "text": [
      "Логистическая регрессия = 0.5044883303411131\n"
     ]
    }
   ],
   "source": [
    "model = LogisticRegression(random_state=12345)\n",
    "model.fit(df_features_downsampled, df_target_downsampled)\n",
    "predictions = model.predict(features_valid)\n",
    "print('Логистическая регрессия =', f1_score(target_valid, predictions))"
   ]
  },
  {
   "cell_type": "markdown",
   "metadata": {},
   "source": [
    "✅ Методика downsampling в данном случае показала хучший результат, если оценивать по метрике F1, __лучший результат = 0.5904203323558163__"
   ]
  },
  {
   "cell_type": "markdown",
   "metadata": {},
   "source": [
    "📌 __Выводы по обучению модели с учётом дисбаланса__\n",
    "> - лучший результат был достигнут взвешивание классов `class_weight='balanced'`. При количестве деревьев = 20 и макс.глубиной 10 __F1-метрика = 0.6340819022457067__\n",
    "> - Остальные методы (upsampled и downsampled) показали результаты хуже (0.6220204313280364 и 0.5904203323558163 соответственно)\n",
    "---"
   ]
  },
  {
   "cell_type": "markdown",
   "metadata": {},
   "source": [
    "<a id='4'></a>\n",
    "# 4. Тестирование модели"
   ]
  },
  {
   "cell_type": "markdown",
   "metadata": {},
   "source": [
    "<a id='4-1'></a>\n",
    "## 4.1 Проведем проверку модели на тестовой выборке"
   ]
  },
  {
   "cell_type": "markdown",
   "metadata": {},
   "source": [
    "📝 Для тестирования возьмем модель, которая показала наилучшую F1-метрику на валидационной выборке: \n",
    "- случайный лес\n",
    "- количество деревьев = 20 \n",
    "- макс.глубина = 10\n",
    "- взвешивание классов\n",
    "\n",
    "Проверим данную модель на тестовой выборке"
   ]
  },
  {
   "cell_type": "code",
   "execution_count": 36,
   "metadata": {},
   "outputs": [
    {
     "name": "stdout",
     "output_type": "stream",
     "text": [
      "Кол-во деревьев в лесу: 20 -------------------------------------\n",
      "F1-метрика случайного леса (max_depth: 10): 0.6022408963585433\n"
     ]
    }
   ],
   "source": [
    "print('Кол-во деревьев в лесу:', 20, '-------------------------------------')\n",
    "f1_rand_trees =do_a_rand_tree_f1(features_train, \n",
    "                                 target_train, \n",
    "                                 features_test, \n",
    "                                 target_test, \n",
    "                                 10, \n",
    "                                 20,\n",
    "                                 True)"
   ]
  },
  {
   "cell_type": "markdown",
   "metadata": {},
   "source": [
    "✅ Мы добилист __F1-метрики на тестовой выборке: 0.6022408963585433__, что __можно считать успехом__, т.к. это выше установленной заданием границы в 0.59"
   ]
  },
  {
   "cell_type": "markdown",
   "metadata": {},
   "source": [
    "<a id='4-2'></a>\n",
    "## 4.2 Метрика AUC-ROC"
   ]
  },
  {
   "cell_type": "markdown",
   "metadata": {},
   "source": [
    "📝 Построим ROC-кривую и посчитаем метрику AUC-ROC"
   ]
  },
  {
   "cell_type": "code",
   "execution_count": 37,
   "metadata": {},
   "outputs": [
    {
     "data": {
      "text/plain": [
       "<Figure size 432x288 with 0 Axes>"
      ]
     },
     "metadata": {},
     "output_type": "display_data"
    },
    {
     "data": {
      "image/png": "[encoded data removed]",
      "text/plain": [
       "<Figure size 432x288 with 1 Axes>"
      ]
     },
     "metadata": {
      "needs_background": "light"
     },
     "output_type": "display_data"
    },
    {
     "name": "stdout",
     "output_type": "stream",
     "text": [
      "Метрика AUC-ROC = 0.8460626314849747\n"
     ]
    }
   ],
   "source": [
    "model = RandomForestClassifier(random_state=12345, \n",
    "                               max_depth=10, \n",
    "                               n_estimators=20, \n",
    "                               class_weight='balanced')\n",
    "model.fit(features_train, target_train)\n",
    "\n",
    "probabilities_test = model.predict_proba(features_test)\n",
    "probabilities_one_test = probabilities_test[:, 1]\n",
    "\n",
    "fpr, tpr, thresholds = roc_curve(target_test, probabilities_one_test) \n",
    "\n",
    "plt.figure()\n",
    "\n",
    "plt.figure()\n",
    "plt.plot(fpr, tpr)\n",
    "plt.fill_between(fpr, tpr, color='#2dbad2', alpha=0.1)\n",
    "plt.plot([0, 1], [0, 1], linestyle='--')\n",
    "plt.xlim([0.0, 1.0])\n",
    "plt.ylim([0.0, 1.0])\n",
    "plt.xlabel('False Positive Rate')\n",
    "plt.ylabel('True Positive Rate')\n",
    "plt.title('ROC-кривая')\n",
    "plt.grid()\n",
    "plt.show() \n",
    "\n",
    "auc_roc = roc_auc_score(target_test, model.predict_proba(features_test)[:, 1])\n",
    "print('Метрика AUC-ROC =', auc_roc)"
   ]
  },
  {
   "cell_type": "markdown",
   "metadata": {},
   "source": [
    "✅ Построенная нами модель также хорошо себя показала в __AUC-ROC = 0.8460626314849747__. AUC-ROC случайной модели равна 0.5 => __наша метрика выше__."
   ]
  },
  {
   "cell_type": "markdown",
   "metadata": {},
   "source": [
    "<a id='end'></a>\n",
    "# Выводы\n",
    "🚩 __Цель проекта достигнута.__ Удалось построить такую модель F1-метрика которой выше 0.59 (F1-метрика случайного леса при взвешивании класов, количестве деревьев = 20 и макс.глубиной 10 = 0.6340819022457067 на валидационной выбоке, на тестовой выборке: 0.6022408963585433). При этом метрика AUC-ROC = 0.8460626314849747 <br>\n",
    "_Для этого было сделано следующее:_\n",
    "- осуществлена предобработка и подготовка данных (кодирование категориальных признаков, разбивка DF на выборки (обучающая, валидационная, тестовая) и признаки/целевые признаки и масштабирование колличественных данных)\n",
    "- проведено исследование баланса данных _(в целевом признаке значений \"клиент в системе\" было в ~4 раза больше, чем \"клиент ушел\"_\n",
    "- осуществленно обучение моделей \"Дерево решений\" и их анализ (подбираемые гиперпараметры: макс.глубина), \"Случайный лес\" (подбираемые гиперпараметры: макс.глубина, кол-во деревьев) и \"Логистическая регрессия\" с вариантами работы с дисбалансом:\n",
    "> - без учета дисбаланса\n",
    "> - взвешивая классы `class_weight='balanced'`\n",
    "> - увеличение выборки методом upsampling\n",
    "> - уменьшение выборки методом downsampling\n",
    "- проведено проверка наиболее удачной модели на тестовой выборке, были посчитаны:\n",
    "> - F1-метрика = 0.6022408963585433\n",
    "> - метрика AUC-ROC = 0.8460626314849747 (также построена ROC-кривая)"
   ]
  },
  {
   "cell_type": "markdown",
   "metadata": {},
   "source": [
    "# Чек-лист готовности проекта"
   ]
  },
  {
   "cell_type": "markdown",
   "metadata": {},
   "source": [
    "Поставьте 'x' в выполненных пунктах. Далее нажмите Shift+Enter."
   ]
  },
  {
   "cell_type": "markdown",
   "metadata": {},
   "source": [
    "- [x]  Jupyter Notebook открыт\n",
    "- [ ]  Весь код выполняется без ошибок\n",
    "- [ ]  Ячейки с кодом расположены в порядке исполнения\n",
    "- [ ]  Выполнен шаг 1: данные подготовлены\n",
    "- [ ]  Выполнен шаг 2: задача исследована\n",
    "    - [ ]  Исследован баланс классов\n",
    "    - [ ]  Изучены модели без учёта дисбаланса\n",
    "    - [ ]  Написаны выводы по результатам исследования\n",
    "- [ ]  Выполнен шаг 3: учтён дисбаланс\n",
    "    - [ ]  Применено несколько способов борьбы с дисбалансом\n",
    "    - [ ]  Написаны выводы по результатам исследования\n",
    "- [ ]  Выполнен шаг 4: проведено тестирование\n",
    "- [ ]  Удалось достичь *F1*-меры не менее 0.59\n",
    "- [ ]  Исследована метрика *AUC-ROC*"
   ]
  }
 ],
 "metadata": {
  "kernelspec": {
   "display_name": "Python 3",
   "language": "python",
   "name": "python3"
  },
  "language_info": {
   "codemirror_mode": {
    "name": "ipython",
    "version": 3
   },
   "file_extension": ".py",
   "mimetype": "text/x-python",
   "name": "python",
   "nbconvert_exporter": "python",
   "pygments_lexer": "ipython3",
   "version": "3.8.5"
  },
  "toc": {
   "base_numbering": 1,
   "nav_menu": {},
   "number_sections": true,
   "sideBar": true,
   "skip_h1_title": true,
   "title_cell": "Table of Contents",
   "title_sidebar": "Contents",
   "toc_cell": false,
   "toc_position": {},
   "toc_section_display": true,
   "toc_window_display": false
  }
 },
 "nbformat": 4,
 "nbformat_minor": 2
}
