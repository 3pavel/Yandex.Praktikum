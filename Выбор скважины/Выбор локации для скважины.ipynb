{
 "cells": [
  {
   "cell_type": "markdown",
   "metadata": {},
   "source": [
    "# Выбор локации для скважины"
   ]
  },
  {
   "cell_type": "markdown",
   "metadata": {},
   "source": [
    "# Оглавление"
   ]
  },
  {
   "cell_type": "markdown",
   "metadata": {},
   "source": [
    "[Описание пректа](#data) <br>\n",
    "1. [Загрузка и подготовка данных](#1)<br>\n",
    "2. [Обучение и проверка модели](#2)<br>\n",
    "3. [Подготовка к расчёту прибыли](#3)<br>\n",
    "4. [Расчёт прибыли и рисков](#4)<br>\n",
    "5. [Выводы](#end)<br>"
   ]
  },
  {
   "cell_type": "markdown",
   "metadata": {},
   "source": [
    "<a id='data'></a>\n",
    "## 📣 Описание пректа\n",
    "\n",
    "Допустим, вы работаете в добывающей компании «ГлавРосГосНефть». Нужно решить, где бурить новую скважину. <br>\n",
    "Шаги для выбора локации обычно такие:\n",
    "1. В избранном регионе собирают характеристики для скважин: качество нефти и объём её запасов;\n",
    "2. Строят модель для предсказания объёма запасов в новых скважинах;\n",
    "3. Выбирают скважины с самыми высокими оценками значений;\n",
    "4. Определяют регион с максимальной суммарной прибылью отобранных скважин.\n",
    "\n",
    "__Условия задачи:__\n",
    "- Для обучения модели подходит только линейная регрессия (остальные — недостаточно предсказуемые).\n",
    "- При разведке региона исследуют 500 точек, из которых с помощью машинного обучения выбирают 200 лучших для разработки.\n",
    "- Бюджет на разработку скважин в регионе — 10 млрд рублей.\n",
    "- При нынешних ценах один баррель сырья приносит 450 рублей дохода. Доход с каждой единицы продукта составляет 450 тыс. рублей, поскольку объём указан в тысячах баррелей.\n",
    "- После оценки рисков нужно оставить лишь те регионы, в которых вероятность убытков меньше 2.5%. Среди них выбирают регион с наибольшей средней прибылью.\n",
    "\n",
    "<br>\n",
    "\n",
    "_Вам предоставлены пробы нефти в трёх регионах. Характеристики для каждой скважины в регионе уже известны._ <br> <br>\n",
    "\n",
    "__Цели проекта:__ <br>\n",
    "🚩 Построить модель для определения региона, где добыча принесёт наибольшую прибыль. <br>\n",
    "🚩 Проанализировать возможную прибыль и риски техникой Bootstrap. <br>\n",
    "<br>\n",
    "\n",
    "__🧩 Описание данных:__<br>\n",
    "Данные геологоразведки трёх регионов находятся в файлах:<br>\n",
    "`geo_data_0.csv`<br>\n",
    "`geo_data_1.csv`<br>\n",
    "`geo_data_2.csv`<br>\n",
    "- id — уникальный идентификатор скважины;\n",
    "- f0, f1, f2 — три признака точек (неважно, что они означают, но сами признаки значимы);\n",
    "- product — объём запасов в скважине (тыс. баррелей)."
   ]
  },
  {
   "cell_type": "markdown",
   "metadata": {},
   "source": [
    "_Импорт необходимых библиотек, закрепление констант_"
   ]
  },
  {
   "cell_type": "code",
   "execution_count": 1,
   "metadata": {},
   "outputs": [],
   "source": [
    "const_state = 12345\n",
    "\n",
    "from numpy.random import RandomState\n",
    "state = RandomState(const_state) \n",
    "\n",
    "from IPython.display import display\n",
    "import pandas as pd\n",
    "import numpy as np\n",
    "import matplotlib.pyplot as plt\n",
    "import matplotlib\n",
    "import seaborn as sns\n",
    "\n",
    "from sklearn.linear_model import LinearRegression\n",
    "from sklearn.model_selection import train_test_split\n",
    "from sklearn.metrics import mean_squared_error\n",
    "from scipy import stats as st"
   ]
  },
  {
   "cell_type": "markdown",
   "metadata": {},
   "source": [
    "---\n",
    "<a id='1'></a>\n",
    "## Загрузка и подготовка данных"
   ]
  },
  {
   "cell_type": "markdown",
   "metadata": {},
   "source": [
    "### Откроем данные и предварительно изучим их"
   ]
  },
  {
   "cell_type": "code",
   "execution_count": 2,
   "metadata": {},
   "outputs": [],
   "source": [
    "df_region_0 = pd.read_csv('.../datasets/geo_data_0.csv')\n",
    "df_region_1 = pd.read_csv('.../datasets/geo_data_1.csv')\n",
    "df_region_2 = pd.read_csv('.../datasets/geo_data_2.csv')"
   ]
  },
  {
   "cell_type": "markdown",
   "metadata": {},
   "source": [
    "📝 Для удобства и автоматизации создадим список с элементами DataFrame"
   ]
  },
  {
   "cell_type": "code",
   "execution_count": 3,
   "metadata": {},
   "outputs": [],
   "source": [
    "df_list = [df_region_0, df_region_1, df_region_2]"
   ]
  },
  {
   "cell_type": "code",
   "execution_count": 4,
   "metadata": {
    "scrolled": true
   },
   "outputs": [
    {
     "name": "stdout",
     "output_type": "stream",
     "text": [
      "-------------------------------------------\n",
      "DataFrame регион 0\n"
     ]
    },
    {
     "data": {
      "text/html": [
       "<div>\n",
       "<style scoped>\n",
       "    .dataframe tbody tr th:only-of-type {\n",
       "        vertical-align: middle;\n",
       "    }\n",
       "\n",
       "    .dataframe tbody tr th {\n",
       "        vertical-align: top;\n",
       "    }\n",
       "\n",
       "    .dataframe thead th {\n",
       "        text-align: right;\n",
       "    }\n",
       "</style>\n",
       "<table border=\"1\" class=\"dataframe\">\n",
       "  <thead>\n",
       "    <tr style=\"text-align: right;\">\n",
       "      <th></th>\n",
       "      <th>id</th>\n",
       "      <th>f0</th>\n",
       "      <th>f1</th>\n",
       "      <th>f2</th>\n",
       "      <th>product</th>\n",
       "    </tr>\n",
       "  </thead>\n",
       "  <tbody>\n",
       "    <tr>\n",
       "      <th>71751</th>\n",
       "      <td>7Z2gx</td>\n",
       "      <td>0.94897</td>\n",
       "      <td>-0.057547</td>\n",
       "      <td>2.095727</td>\n",
       "      <td>10.038645</td>\n",
       "    </tr>\n",
       "  </tbody>\n",
       "</table>\n",
       "</div>"
      ],
      "text/plain": [
       "          id       f0        f1        f2    product\n",
       "71751  7Z2gx  0.94897 -0.057547  2.095727  10.038645"
      ]
     },
     "metadata": {},
     "output_type": "display_data"
    },
    {
     "name": "stdout",
     "output_type": "stream",
     "text": [
      "<class 'pandas.core.frame.DataFrame'>\n",
      "RangeIndex: 100000 entries, 0 to 99999\n",
      "Data columns (total 5 columns):\n",
      " #   Column   Non-Null Count   Dtype  \n",
      "---  ------   --------------   -----  \n",
      " 0   id       100000 non-null  object \n",
      " 1   f0       100000 non-null  float64\n",
      " 2   f1       100000 non-null  float64\n",
      " 3   f2       100000 non-null  float64\n",
      " 4   product  100000 non-null  float64\n",
      "dtypes: float64(4), object(1)\n",
      "memory usage: 3.8+ MB\n"
     ]
    },
    {
     "data": {
      "text/plain": [
       "None"
      ]
     },
     "metadata": {},
     "output_type": "display_data"
    },
    {
     "name": "stdout",
     "output_type": "stream",
     "text": [
      "-------------------------------------------\n",
      "DataFrame регион 1\n"
     ]
    },
    {
     "data": {
      "text/html": [
       "<div>\n",
       "<style scoped>\n",
       "    .dataframe tbody tr th:only-of-type {\n",
       "        vertical-align: middle;\n",
       "    }\n",
       "\n",
       "    .dataframe tbody tr th {\n",
       "        vertical-align: top;\n",
       "    }\n",
       "\n",
       "    .dataframe thead th {\n",
       "        text-align: right;\n",
       "    }\n",
       "</style>\n",
       "<table border=\"1\" class=\"dataframe\">\n",
       "  <thead>\n",
       "    <tr style=\"text-align: right;\">\n",
       "      <th></th>\n",
       "      <th>id</th>\n",
       "      <th>f0</th>\n",
       "      <th>f1</th>\n",
       "      <th>f2</th>\n",
       "      <th>product</th>\n",
       "    </tr>\n",
       "  </thead>\n",
       "  <tbody>\n",
       "    <tr>\n",
       "      <th>71751</th>\n",
       "      <td>aTbUt</td>\n",
       "      <td>-0.371866</td>\n",
       "      <td>-1.862494</td>\n",
       "      <td>3.00221</td>\n",
       "      <td>80.859783</td>\n",
       "    </tr>\n",
       "  </tbody>\n",
       "</table>\n",
       "</div>"
      ],
      "text/plain": [
       "          id        f0        f1       f2    product\n",
       "71751  aTbUt -0.371866 -1.862494  3.00221  80.859783"
      ]
     },
     "metadata": {},
     "output_type": "display_data"
    },
    {
     "name": "stdout",
     "output_type": "stream",
     "text": [
      "<class 'pandas.core.frame.DataFrame'>\n",
      "RangeIndex: 100000 entries, 0 to 99999\n",
      "Data columns (total 5 columns):\n",
      " #   Column   Non-Null Count   Dtype  \n",
      "---  ------   --------------   -----  \n",
      " 0   id       100000 non-null  object \n",
      " 1   f0       100000 non-null  float64\n",
      " 2   f1       100000 non-null  float64\n",
      " 3   f2       100000 non-null  float64\n",
      " 4   product  100000 non-null  float64\n",
      "dtypes: float64(4), object(1)\n",
      "memory usage: 3.8+ MB\n"
     ]
    },
    {
     "data": {
      "text/plain": [
       "None"
      ]
     },
     "metadata": {},
     "output_type": "display_data"
    },
    {
     "name": "stdout",
     "output_type": "stream",
     "text": [
      "-------------------------------------------\n",
      "DataFrame регион 2\n"
     ]
    },
    {
     "data": {
      "text/html": [
       "<div>\n",
       "<style scoped>\n",
       "    .dataframe tbody tr th:only-of-type {\n",
       "        vertical-align: middle;\n",
       "    }\n",
       "\n",
       "    .dataframe tbody tr th {\n",
       "        vertical-align: top;\n",
       "    }\n",
       "\n",
       "    .dataframe thead th {\n",
       "        text-align: right;\n",
       "    }\n",
       "</style>\n",
       "<table border=\"1\" class=\"dataframe\">\n",
       "  <thead>\n",
       "    <tr style=\"text-align: right;\">\n",
       "      <th></th>\n",
       "      <th>id</th>\n",
       "      <th>f0</th>\n",
       "      <th>f1</th>\n",
       "      <th>f2</th>\n",
       "      <th>product</th>\n",
       "    </tr>\n",
       "  </thead>\n",
       "  <tbody>\n",
       "    <tr>\n",
       "      <th>71751</th>\n",
       "      <td>DMlgl</td>\n",
       "      <td>-1.444717</td>\n",
       "      <td>-3.861599</td>\n",
       "      <td>2.225805</td>\n",
       "      <td>61.212375</td>\n",
       "    </tr>\n",
       "  </tbody>\n",
       "</table>\n",
       "</div>"
      ],
      "text/plain": [
       "          id        f0        f1        f2    product\n",
       "71751  DMlgl -1.444717 -3.861599  2.225805  61.212375"
      ]
     },
     "metadata": {},
     "output_type": "display_data"
    },
    {
     "name": "stdout",
     "output_type": "stream",
     "text": [
      "<class 'pandas.core.frame.DataFrame'>\n",
      "RangeIndex: 100000 entries, 0 to 99999\n",
      "Data columns (total 5 columns):\n",
      " #   Column   Non-Null Count   Dtype  \n",
      "---  ------   --------------   -----  \n",
      " 0   id       100000 non-null  object \n",
      " 1   f0       100000 non-null  float64\n",
      " 2   f1       100000 non-null  float64\n",
      " 3   f2       100000 non-null  float64\n",
      " 4   product  100000 non-null  float64\n",
      "dtypes: float64(4), object(1)\n",
      "memory usage: 3.8+ MB\n"
     ]
    },
    {
     "data": {
      "text/plain": [
       "None"
      ]
     },
     "metadata": {},
     "output_type": "display_data"
    }
   ],
   "source": [
    "for i in range(len(df_list)):\n",
    "    print('-------------------------------------------')\n",
    "    print('DataFrame регион', i)\n",
    "    display(df_list[i].sample(random_state=const_state))\n",
    "    display(df_list[i].info())"
   ]
  },
  {
   "cell_type": "markdown",
   "metadata": {},
   "source": [
    "### Подготовка данных"
   ]
  },
  {
   "cell_type": "markdown",
   "metadata": {},
   "source": [
    "📝 В нашем случае подготовка данных представляет из себя разбивку датафреймов на <br>\n",
    "- 📖 обучающую выборку\n",
    "- 📘 валидационную выборку\n",
    "\n",
    "и\n",
    "\n",
    "- 🧩 Признаки (`id`, `f0`, `f1`, `f2`)\n",
    "- 🎯 Целевой признак (`product`)\n",
    "\n",
    "📝 Для начала проведем разбивку на обучающие выборки и валидационные <br>\n",
    "Разбивка будет происходить в слудющем соотношении: <br>\n",
    "- обучающая выборку - 75%\n",
    "- валидационная выборку - 25%\n",
    "\n",
    "Для этого создадим 2 списка"
   ]
  },
  {
   "cell_type": "code",
   "execution_count": 5,
   "metadata": {},
   "outputs": [],
   "source": [
    "train_list = []\n",
    "valid_list = []\n",
    "\n",
    "for region in df_list:\n",
    "    train_per, valid_per = train_test_split(region, \n",
    "                                            test_size=0.25, \n",
    "                                            random_state=const_state)\n",
    "    train_list.append(train_per)\n",
    "    valid_list.append(valid_per)\n",
    "    \n",
    "train_list = pd.Series(train_list)\n",
    "valid_list = pd.Series(valid_list)"
   ]
  },
  {
   "cell_type": "markdown",
   "metadata": {},
   "source": [
    "📝 Создадим списоки с разделением по признакам и целевому признаку следующего формата <br> \n",
    "`[[id, признаки, целевой признак df0],`<br>\n",
    "`[id, признаки, целевой признак df1],`<br>\n",
    "`[id, признаки, целевой признак df2]]`<br>"
   ]
  },
  {
   "cell_type": "code",
   "execution_count": 6,
   "metadata": {},
   "outputs": [],
   "source": [
    "feat_targ_train = []\n",
    "feat_targ_valid = []\n",
    "\n",
    "for region in train_list:\n",
    "    per_list = []\n",
    "    per_list.append(region['id'])\n",
    "    per_list.append(region.drop(['product', 'id'], axis=1))\n",
    "    per_list.append(region['product'])\n",
    "    feat_targ_train.append(pd.Series(per_list))\n",
    "for region in valid_list:\n",
    "    per_list = []\n",
    "    per_list.append(region['id'])\n",
    "    per_list.append(region.drop(['product', 'id'], axis=1))\n",
    "    per_list.append(region['product'])\n",
    "    feat_targ_valid.append(pd.Series(per_list))"
   ]
  },
  {
   "cell_type": "markdown",
   "metadata": {},
   "source": [
    "📍 __Выводы__<br>\n",
    "> ✅ Данные в предобработке не нуждаются <br>\n",
    "> ✅ Датафреймы были разделены по (признакам и целевому признаку) и (выборки на валидационную и обучающую)\n",
    "---"
   ]
  },
  {
   "cell_type": "markdown",
   "metadata": {},
   "source": [
    "<a id='2'></a>\n",
    "## Обучение и проверка модели"
   ]
  },
  {
   "cell_type": "markdown",
   "metadata": {},
   "source": [
    "📝 Произведем обучение в отдельности для каждого региона, посчитаем "
   ]
  },
  {
   "cell_type": "code",
   "execution_count": 7,
   "metadata": {
    "scrolled": true
   },
   "outputs": [
    {
     "data": {
      "text/html": [
       "<div>\n",
       "<style scoped>\n",
       "    .dataframe tbody tr th:only-of-type {\n",
       "        vertical-align: middle;\n",
       "    }\n",
       "\n",
       "    .dataframe tbody tr th {\n",
       "        vertical-align: top;\n",
       "    }\n",
       "\n",
       "    .dataframe thead th {\n",
       "        text-align: right;\n",
       "    }\n",
       "</style>\n",
       "<table border=\"1\" class=\"dataframe\">\n",
       "  <thead>\n",
       "    <tr style=\"text-align: right;\">\n",
       "      <th></th>\n",
       "      <th>mean</th>\n",
       "      <th>rmse</th>\n",
       "    </tr>\n",
       "  </thead>\n",
       "  <tbody>\n",
       "    <tr>\n",
       "      <th>2_region</th>\n",
       "      <td>94.965</td>\n",
       "      <td>40.0297</td>\n",
       "    </tr>\n",
       "    <tr>\n",
       "      <th>1_region</th>\n",
       "      <td>68.7285</td>\n",
       "      <td>0.893099</td>\n",
       "    </tr>\n",
       "    <tr>\n",
       "      <th>0_region</th>\n",
       "      <td>92.5926</td>\n",
       "      <td>37.5794</td>\n",
       "    </tr>\n",
       "  </tbody>\n",
       "</table>\n",
       "</div>"
      ],
      "text/plain": [
       "             mean      rmse\n",
       "2_region   94.965   40.0297\n",
       "1_region  68.7285  0.893099\n",
       "0_region  92.5926   37.5794"
      ]
     },
     "execution_count": 7,
     "metadata": {},
     "output_type": "execute_result"
    }
   ],
   "source": [
    "predictions_valid = []\n",
    "model = LinearRegression()\n",
    "\n",
    "prediction_df_mean_rmse = pd.DataFrame(index={'0_region', \n",
    "                                              '1_region', \n",
    "                                              '2_region'},\n",
    "                                       columns={'rmse', \n",
    "                                                'mean'})\n",
    "\n",
    "for region in range(len(feat_targ_train)):\n",
    "    model.fit(feat_targ_train[region][1], feat_targ_train[region][2])\n",
    "    predictions = model.predict(feat_targ_valid[region][1])\n",
    "    predictions = pd.Series(predictions)\n",
    "    predictions.index = feat_targ_valid[region][1].index\n",
    "    predictions_valid.append(predictions)\n",
    "    prediction_df_mean_rmse.loc[(str(region) + '_region'), 'rmse'] = mean_squared_error(feat_targ_valid[region][2],\n",
    "                                                                                   predictions, \n",
    "                                                                                   squared=False)\n",
    "    prediction_df_mean_rmse.loc[(str(region) + '_region'), 'mean'] = predictions.mean()\n",
    "    \n",
    "prediction_df_mean_rmse"
   ]
  },
  {
   "cell_type": "markdown",
   "metadata": {},
   "source": [
    "📝 Результат на валидационной выборке линейной регрессии показал, что: _чем выше среднее значение предсказанного объема месторождения, тем больше ошибка и наоборот_ <br> В регтонах регион 2 и 0 модель предсказала достаточно большой средний объем месторождения, однако, они имеют тостаточно большую RMSE-метрику. Регион 1 имеет меньший средний объем месторождений, однако средняя квадратическая ошибка меньше единицы. <br>\n",
    "📝 Для того, чтобы понять почему так выходит попробуем построить графики по объемам месторождений."
   ]
  },
  {
   "cell_type": "code",
   "execution_count": 8,
   "metadata": {},
   "outputs": [],
   "source": [
    "def do_2plots(s1, s2, title):\n",
    "    sns.kdeplot(s1, \n",
    "                shade=True, \n",
    "                color=\"skyblue\",\n",
    "                alpha=.3)\n",
    "    sns.kdeplot(s2, \n",
    "                shade=True, \n",
    "                color=\"lightcoral\",\n",
    "                alpha=.3)\n",
    "    plt.ylabel('Плотность')\n",
    "    plt.xlabel('Объем')\n",
    "    plt.title(title)\n",
    "    \n",
    "    name_of_colors = {\n",
    "    'Целевой признак': 'skyblue',\n",
    "    'Предсказания': 'lightcoral'\n",
    "    }\n",
    "    patches = [matplotlib.patches.Patch(color=v, label=k) for k,v in name_of_colors.items()]\n",
    "    plt.legend(handles=patches)"
   ]
  },
  {
   "cell_type": "markdown",
   "metadata": {},
   "source": [
    "__📈 Регионы__"
   ]
  },
  {
   "cell_type": "code",
   "execution_count": 9,
   "metadata": {
    "scrolled": false
   },
   "outputs": [
    {
     "data": {
      "image/png": "[encoded data removed]",
      "text/plain": [
       "<Figure size 576x864 with 3 Axes>"
      ]
     },
     "metadata": {
      "needs_background": "light"
     },
     "output_type": "display_data"
    }
   ],
   "source": [
    "plt.figure(figsize=(8, 12))\n",
    "plt.subplots_adjust(hspace=0.4)\n",
    "\n",
    "plt.subplot(3,1,1)\n",
    "do_2plots(df_region_0['product'], predictions_valid[0], 'Регион 0')\n",
    "plt.subplot(3,1,2)\n",
    "do_2plots(df_region_1['product'], predictions_valid[1], 'Регион 1')\n",
    "plt.subplot(3,1,3)\n",
    "do_2plots(df_region_2['product'], predictions_valid[2], 'Регион 2')"
   ]
  },
  {
   "cell_type": "markdown",
   "metadata": {},
   "source": [
    "📝 Как мы видим, в регионах 0 и 2 графики целевого признака и предсказаний достаточно сильно отличаются. Предсказания являются нормальным распределениям, а целевой признак \"усечен\". <br>\n",
    "В регионе 1 же напротив и целевой признак, и предсказания представляют из себя синусоиду и достаточно сильно совпадают.<br>\n",
    "📝 Изучим корреляцию признаков:"
   ]
  },
  {
   "cell_type": "code",
   "execution_count": 10,
   "metadata": {},
   "outputs": [],
   "source": [
    "def do_heatmap(data, title):\n",
    "    sns.heatmap(data,\n",
    "                annot=True, \n",
    "                cmap='Spectral', \n",
    "                center=0,\n",
    "                vmin=-1, \n",
    "                vmax=1)\n",
    "    plt.title(title)"
   ]
  },
  {
   "cell_type": "code",
   "execution_count": 11,
   "metadata": {},
   "outputs": [
    {
     "data": {
      "image/png": "[encoded data removed]",
      "text/plain": [
       "<Figure size 1224x302.4 with 6 Axes>"
      ]
     },
     "metadata": {
      "needs_background": "light"
     },
     "output_type": "display_data"
    }
   ],
   "source": [
    "plt.figure(figsize=(17, 4.2))\n",
    "plt.subplots_adjust(hspace=0.4)\n",
    "\n",
    "plt.subplot(1,3,1)\n",
    "do_heatmap(df_list[0].drop('id', axis=1).corr(), 'Регион 0')\n",
    "plt.subplot(1,3,2)\n",
    "do_heatmap(df_list[1].drop('id', axis=1).corr(), 'Регион 1')\n",
    "plt.subplot(1,3,3)\n",
    "do_heatmap(df_list[2].drop('id', axis=1).corr(), 'Регион 2')"
   ]
  },
  {
   "cell_type": "markdown",
   "metadata": {},
   "source": [
    "📝 Корреляция показала откуда такая точность модели в регионе 1. Мы видим корреляцию равную 1 между объемом и признаком `f2`, что показывает однозначную зависимость. В остальных регионах такой явной зависимости не наблюдается."
   ]
  },
  {
   "cell_type": "markdown",
   "metadata": {},
   "source": [
    "📍 __Выводы__<br>\n",
    "> ✅ Были обучены модели машинного обучения типа \"линейная регрессия\" на выборках из 3х регионов <br>\n",
    "> ✅ Наибольшую точность показала модель обученная на Регионе 1. Дальнейший анализ показал причину таких показателей (корреляция `product & f2` равна 1) <br>\n",
    "> ✅ Возможно, линейная регрессия не очень хорошо подходит в регионах 0 и 1 и стоит воспользоваться более подходящей моделью"
   ]
  },
  {
   "cell_type": "markdown",
   "metadata": {},
   "source": [
    "---\n",
    "<a id='3'></a>\n",
    "## Подготовка к расчёту прибыли"
   ]
  },
  {
   "cell_type": "markdown",
   "metadata": {},
   "source": [
    "📝 Присвоим значения необходимым для расчета переменным"
   ]
  },
  {
   "cell_type": "code",
   "execution_count": 12,
   "metadata": {},
   "outputs": [],
   "source": [
    "number_reservoirs = 500\n",
    "total_budget = 10**10\n",
    "total_reservoirs = 200\n",
    "one_reservoirs_cost = total_budget / total_reservoirs\n",
    "k_barrel_cost = 45 * 10**4\n",
    "сonfidence_interval = 0.95"
   ]
  },
  {
   "cell_type": "markdown",
   "metadata": {},
   "source": [
    "📝 Раcсчитаем достаточный объём сырья для безубыточной разработки новой скважины и сравним с предсказаниями модели."
   ]
  },
  {
   "cell_type": "code",
   "execution_count": 13,
   "metadata": {},
   "outputs": [
    {
     "name": "stdout",
     "output_type": "stream",
     "text": [
      "Минимальный объем нефтерождения = 111.11111111111111 тыс. баррелей\n",
      "Регион 0: cредний объем месторождения = 92.59256778438008\n",
      "Регион 1: cредний объем месторождения = 68.7285468954458\n",
      "Регион 2: cредний объем месторождения = 94.96504596800506\n"
     ]
    }
   ],
   "source": [
    "petrol_vol_enought = one_reservoirs_cost / k_barrel_cost\n",
    "print('Минимальный объем нефтерождения =', petrol_vol_enought, 'тыс. баррелей')\n",
    "print('Регион 0: cредний объем месторождения =', predictions_valid[0].mean())\n",
    "print('Регион 1: cредний объем месторождения =', predictions_valid[1].mean())\n",
    "print('Регион 2: cредний объем месторождения =', predictions_valid[2].mean())"
   ]
  },
  {
   "cell_type": "markdown",
   "metadata": {},
   "source": [
    "📝 Функция расчета прибыли"
   ]
  },
  {
   "cell_type": "code",
   "execution_count": 14,
   "metadata": {},
   "outputs": [],
   "source": [
    "def revenue(target, probabilities, count):\n",
    "    probs_sorted = probabilities.sort_values(ascending=False)\n",
    "    selected = target[probs_sorted.index][:count]\n",
    "    total_proceeds = (selected * k_barrel_cost).sum()\n",
    "    return total_proceeds - total_budget"
   ]
  },
  {
   "cell_type": "markdown",
   "metadata": {},
   "source": [
    "📍 __Выводы__<br>\n",
    "> ✅ Переменным были присвоины необходимые значения <br>\n",
    "> ✅ Средние показатели по запасам нефти в регионам ниже необходимого минимума объема одной скаважины <br>\n",
    "> ✅ Написана функция расчёта прибыли"
   ]
  },
  {
   "cell_type": "markdown",
   "metadata": {},
   "source": [
    "---\n",
    "<a id='4'></a>\n",
    "## Расчёт прибыли и рисков "
   ]
  },
  {
   "cell_type": "markdown",
   "metadata": {},
   "source": [
    "📝 Для начала применим метод Bootstrap для каждого из регионов и создадим ДатаФрэйм из полученных данных."
   ]
  },
  {
   "cell_type": "code",
   "execution_count": 15,
   "metadata": {},
   "outputs": [],
   "source": [
    "result = []\n",
    "\n",
    "for region in range(3):\n",
    "    values = []\n",
    "    for i in range(1000):\n",
    "        target_subsample = feat_targ_valid[region][2].sample(n=number_reservoirs, \n",
    "                                                        replace=True, \n",
    "                                                        random_state=state)\n",
    "        probs_subsample = predictions_valid[region].loc[target_subsample.index]\n",
    "        values.append(revenue(target_subsample, probs_subsample, total_reservoirs))\n",
    "    result.append(pd.Series(values))"
   ]
  },
  {
   "cell_type": "markdown",
   "metadata": {},
   "source": [
    "📝 Теперь посчитаем итоговые параметры по регионам: \n",
    "- средняя прибыль\n",
    "- доверительный интервал\n",
    "- риск убытков"
   ]
  },
  {
   "cell_type": "code",
   "execution_count": 16,
   "metadata": {
    "scrolled": true
   },
   "outputs": [
    {
     "data": {
      "text/html": [
       "<div>\n",
       "<style scoped>\n",
       "    .dataframe tbody tr th:only-of-type {\n",
       "        vertical-align: middle;\n",
       "    }\n",
       "\n",
       "    .dataframe tbody tr th {\n",
       "        vertical-align: top;\n",
       "    }\n",
       "\n",
       "    .dataframe thead th {\n",
       "        text-align: right;\n",
       "    }\n",
       "</style>\n",
       "<table border=\"1\" class=\"dataframe\">\n",
       "  <thead>\n",
       "    <tr style=\"text-align: right;\">\n",
       "      <th></th>\n",
       "      <th>средняя прибыль</th>\n",
       "      <th>доверительный интервал</th>\n",
       "      <th>риск убытков</th>\n",
       "    </tr>\n",
       "  </thead>\n",
       "  <tbody>\n",
       "    <tr>\n",
       "      <th>Регион 2</th>\n",
       "      <td>4.20194e+08</td>\n",
       "      <td>(-115852609.16000956, 989629939.8445758)</td>\n",
       "      <td>0.062</td>\n",
       "    </tr>\n",
       "    <tr>\n",
       "      <th>Регион 1</th>\n",
       "      <td>5.18259e+08</td>\n",
       "      <td>(128123231.4330864, 953612982.0669086)</td>\n",
       "      <td>0.003</td>\n",
       "    </tr>\n",
       "    <tr>\n",
       "      <th>Регион 0</th>\n",
       "      <td>4.25939e+08</td>\n",
       "      <td>(-102090094.8379384, 947976353.3583671)</td>\n",
       "      <td>0.06</td>\n",
       "    </tr>\n",
       "  </tbody>\n",
       "</table>\n",
       "</div>"
      ],
      "text/plain": [
       "         средняя прибыль                    доверительный интервал  \\\n",
       "Регион 2     4.20194e+08  (-115852609.16000956, 989629939.8445758)   \n",
       "Регион 1     5.18259e+08    (128123231.4330864, 953612982.0669086)   \n",
       "Регион 0     4.25939e+08   (-102090094.8379384, 947976353.3583671)   \n",
       "\n",
       "         риск убытков  \n",
       "Регион 2        0.062  \n",
       "Регион 1        0.003  \n",
       "Регион 0         0.06  "
      ]
     },
     "execution_count": 16,
     "metadata": {},
     "output_type": "execute_result"
    }
   ],
   "source": [
    "fital_result_table = pd.DataFrame(columns={'средняя прибыль', 'доверительный интервал', 'риск убытков'},\n",
    "                                  index={'Регион 0', 'Регион 1', 'Регион 2'})\n",
    "fital_result_table.loc['Регион 0',        'средняя прибыль'] = result[0].mean()\n",
    "fital_result_table.loc['Регион 0', 'доверительный интервал'] = (result[0].quantile(0.025), result[0].quantile(0.975))\n",
    "fital_result_table.loc['Регион 0',           'риск убытков'] = (result[0] < 0).mean()\n",
    "\n",
    "fital_result_table.loc['Регион 1',        'средняя прибыль'] = result[1].mean()\n",
    "fital_result_table.loc['Регион 1', 'доверительный интервал'] = (result[1].quantile(0.025), result[1].quantile(0.975))\n",
    "fital_result_table.loc['Регион 1',           'риск убытков'] = (result[1] < 0).mean()\n",
    "\n",
    "fital_result_table.loc['Регион 2',        'средняя прибыль'] = result[2].mean()\n",
    "fital_result_table.loc['Регион 2', 'доверительный интервал'] = (result[2].quantile(0.025), result[2].quantile(0.975))\n",
    "fital_result_table.loc['Регион 2',         'риск убытков'] = (result[2] < 0).mean()\n",
    "\n",
    "fital_result_table"
   ]
  },
  {
   "cell_type": "markdown",
   "metadata": {},
   "source": [
    "📝 Построим графики"
   ]
  },
  {
   "cell_type": "code",
   "execution_count": 17,
   "metadata": {
    "scrolled": false
   },
   "outputs": [
    {
     "data": {
      "text/plain": [
       "<matplotlib.legend.Legend at 0x28ad3c28be0>"
      ]
     },
     "execution_count": 17,
     "metadata": {},
     "output_type": "execute_result"
    },
    {
     "data": {
      "image/png": "[encoded data removed]",
      "text/plain": [
       "<Figure size 1224x360 with 1 Axes>"
      ]
     },
     "metadata": {
      "needs_background": "light"
     },
     "output_type": "display_data"
    }
   ],
   "source": [
    "plot_data = [[result[0], \"lightcoral\"],\n",
    "             [result[1], \"skyblue\"],\n",
    "             [result[2], \"palegreen\"],]\n",
    "\n",
    "plt.figure(figsize=(17, 5))\n",
    "for column, col in plot_data:\n",
    "    sns.kdeplot(column, \n",
    "                shade=True, \n",
    "                color=col,\n",
    "                alpha=.3)\n",
    "plt.ylabel('Плотность')\n",
    "plt.xlabel('Прибыль, десятки млрд. руб.')\n",
    "plt.title('Итоги применения метода Bootstrap ')\n",
    "    \n",
    "name_of_colors = {\n",
    "'Регион 1': 'skyblue',\n",
    "'Регион 0': 'lightcoral',\n",
    "'Регион 2': 'palegreen'\n",
    "}\n",
    "patches = [matplotlib.patches.Patch(color=v, label=k) for k,v in name_of_colors.items()]\n",
    "plt.legend(handles=patches)"
   ]
  },
  {
   "cell_type": "markdown",
   "metadata": {},
   "source": [
    "📍 __Выводы__<br>\n",
    "> ✅ По каждому региону был проведен Bootstrap <br>\n",
    "> ✅ Были расчитаны риск убытков, средняя прибыль, доверительный интервал для каждого из 3х регионов <br>"
   ]
  },
  {
   "cell_type": "markdown",
   "metadata": {},
   "source": [
    "---\n",
    "<a id='end'></a>\n",
    "# Выводы"
   ]
  },
  {
   "cell_type": "markdown",
   "metadata": {},
   "source": [
    "🏁 По итогу проекта можно заключить, что наиболее перспективный вариант это разработка нефтерождений в __регионе 1__, так как результаты исследования показали в данном регионе:\n",
    "- наивысшая средняя прибыль среди регионов ~ 10 426 млн. руб.\n",
    "- наилучший показатель вероятности убытков ~ 0.3%\n",
    "- наиболее узкий 95% доверительный интервал среди регионов, узкий указывает указывает на более точную оценку."
   ]
  },
  {
   "cell_type": "code",
   "execution_count": null,
   "metadata": {},
   "outputs": [],
   "source": []
  }
 ],
 "metadata": {
  "kernelspec": {
   "display_name": "Python 3",
   "language": "python",
   "name": "python3"
  },
  "language_info": {
   "codemirror_mode": {
    "name": "ipython",
    "version": 3
   },
   "file_extension": ".py",
   "mimetype": "text/x-python",
   "name": "python",
   "nbconvert_exporter": "python",
   "pygments_lexer": "ipython3",
   "version": "3.8.5"
  },
  "toc": {
   "base_numbering": 1,
   "nav_menu": {},
   "number_sections": true,
   "sideBar": true,
   "skip_h1_title": true,
   "title_cell": "Table of Contents",
   "title_sidebar": "Contents",
   "toc_cell": false,
   "toc_position": {},
   "toc_section_display": true,
   "toc_window_display": false
  }
 },
 "nbformat": 4,
 "nbformat_minor": 2
}
