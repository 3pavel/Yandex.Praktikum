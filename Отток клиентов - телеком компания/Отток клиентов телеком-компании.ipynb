{
 "cells": [
  {
   "cell_type": "markdown",
   "metadata": {
    "id": "xWScCmzqk7iI"
   },
   "source": [
    "# 📞 Отток клиентов телеком-компании\n",
    "\n",
    "Оператору связи необходимо спрогнозировать отток клиентов. Если выяснится, что пользователь собирается уйти, ему будут предложены специальные условия.\n",
    "\n",
    "### Описание услуг\n",
    "\n",
    "Оператор предоставляет два основных типа услуг: \n",
    "\n",
    "1. Стационарную телефонную связь. Возможно подключение телефонного аппарата к нескольким линиям одновременно.\n",
    "2. Интернет. Подключение может быть двух типов: через телефонную линию (DSL*,* от англ. *digital subscriber line*, «цифровая абонентская линия») или оптоволоконный кабель (*Fiber optic*).  \n",
    "\n",
    "Также доступны такие услуги:\n",
    "\n",
    "- Интернет-безопасность: антивирус (*DeviceProtection*) и блокировка небезопасных сайтов (*OnlineSecurity*);\n",
    "- Выделенная линия технической поддержки (*TechSupport*);\n",
    "- Облачное хранилище файлов для резервного копирования данных (*OnlineBackup*);\n",
    "- Стриминговое телевидение (*StreamingTV*) и каталог фильмов (*StreamingMovies*).\n",
    "\n",
    "За услуги клиенты могут платить каждый месяц или заключить договор на 1–2 года. Доступны различные способы расчёта и возможность получения электронного чека.\n",
    "\n",
    "### Описание данных\n",
    "\n",
    "Данные состоят из файлов, полученных из разных источников:\n",
    "\n",
    "- `contract.csv` — информация о договоре;\n",
    "- `personal.csv` — персональные данные клиента;\n",
    "- `internet.csv` — информация об интернет-услугах;\n",
    "- `phone.csv` — информация об услугах телефонии.\n",
    "\n",
    "Во всех файлах столбец `customerID` содержит код клиента.\n",
    "\n",
    "Информация о договорах актуальна на 1 февраля 2020."
   ]
  },
  {
   "cell_type": "code",
   "execution_count": 1,
   "metadata": {
    "id": "jIkjRGqzk3LJ"
   },
   "outputs": [],
   "source": [
    "RND = 12345\n",
    "\n",
    "import time\n",
    "# import numpy as np\n",
    "import pandas as pd\n",
    "import seaborn as sns\n",
    "sns.set_theme(style=\"ticks\")\n",
    "import warnings\n",
    "warnings.filterwarnings('ignore')\n",
    "import matplotlib.pyplot as plt\n",
    "import matplotlib\n",
    "matplotlib.rcParams['figure.figsize'] = (10.0, 5.0)\n",
    "matplotlib.rcParams['figure.subplot.wspace'] = 0.2\n",
    "matplotlib.rcParams['figure.subplot.hspace'] = 0.2\n",
    "from IPython.display import display\n",
    "from sklearn.preprocessing import StandardScaler \n",
    "from sklearn.model_selection import train_test_split\n",
    "from sklearn.metrics import roc_auc_score, roc_curve\n",
    "import lightgbm\n",
    "from sklearn.linear_model import LogisticRegression\n",
    "\n",
    "from tqdm import tqdm"
   ]
  },
  {
   "cell_type": "code",
   "execution_count": 2,
   "metadata": {
    "id": "b4ukJoHfoxJa"
   },
   "outputs": [],
   "source": [
    "def missing_values(data, show_plot=True):\n",
    "    print('Пропущенные значения по признакам:')\n",
    "    print(data.isna().sum())\n",
    "    if show_plot == True:\n",
    "      sns.heatmap(data.isnull(), \n",
    "                  cbar = False, \n",
    "                  cmap='cividis').set_title(\"Тепловая карта пропущенных значений\")"
   ]
  },
  {
   "cell_type": "markdown",
   "metadata": {
    "id": "MvjeDK9EnmwJ"
   },
   "source": [
    "## Загрузка данных и предпросмотр данных"
   ]
  },
  {
   "cell_type": "code",
   "execution_count": null,
   "metadata": {
    "id": "rfuTDzFCnScC"
   },
   "outputs": [],
   "source": [
    "contract = pd.read_csv('/content/drive/MyDrive/Yandex/final_project/data/final_provider/contract.csv')\n",
    "personal = pd.read_csv('/content/drive/MyDrive/Yandex/final_project/data/final_provider/personal.csv')\n",
    "internet = pd.read_csv('/content/drive/MyDrive/Yandex/final_project/data/final_provider/internet.csv')\n",
    "phone = pd.read_csv('/content/drive/MyDrive/Yandex/final_project/data/final_provider/phone.csv')"
   ]
  },
  {
   "cell_type": "code",
   "execution_count": 4,
   "metadata": {
    "colab": {
     "base_uri": "https://localhost:8080/",
     "height": 694
    },
    "id": "XppNK3-1ois0",
    "outputId": "8a1444dc-f6c6-49ce-837e-e1ec18c4fd80"
   },
   "outputs": [
    {
     "name": "stdout",
     "output_type": "stream",
     "text": [
      "contract:\n"
     ]
    },
    {
     "data": {
      "text/html": [
       "<div>\n",
       "<style scoped>\n",
       "    .dataframe tbody tr th:only-of-type {\n",
       "        vertical-align: middle;\n",
       "    }\n",
       "\n",
       "    .dataframe tbody tr th {\n",
       "        vertical-align: top;\n",
       "    }\n",
       "\n",
       "    .dataframe thead th {\n",
       "        text-align: right;\n",
       "    }\n",
       "</style>\n",
       "<table border=\"1\" class=\"dataframe\">\n",
       "  <thead>\n",
       "    <tr style=\"text-align: right;\">\n",
       "      <th></th>\n",
       "      <th>customerID</th>\n",
       "      <th>BeginDate</th>\n",
       "      <th>EndDate</th>\n",
       "      <th>Type</th>\n",
       "      <th>PaperlessBilling</th>\n",
       "      <th>PaymentMethod</th>\n",
       "      <th>MonthlyCharges</th>\n",
       "      <th>TotalCharges</th>\n",
       "    </tr>\n",
       "  </thead>\n",
       "  <tbody>\n",
       "    <tr>\n",
       "      <th>0</th>\n",
       "      <td>7590-VHVEG</td>\n",
       "      <td>2020-01-01</td>\n",
       "      <td>No</td>\n",
       "      <td>Month-to-month</td>\n",
       "      <td>Yes</td>\n",
       "      <td>Electronic check</td>\n",
       "      <td>29.85</td>\n",
       "      <td>29.85</td>\n",
       "    </tr>\n",
       "    <tr>\n",
       "      <th>1</th>\n",
       "      <td>5575-GNVDE</td>\n",
       "      <td>2017-04-01</td>\n",
       "      <td>No</td>\n",
       "      <td>One year</td>\n",
       "      <td>No</td>\n",
       "      <td>Mailed check</td>\n",
       "      <td>56.95</td>\n",
       "      <td>1889.5</td>\n",
       "    </tr>\n",
       "    <tr>\n",
       "      <th>2</th>\n",
       "      <td>3668-QPYBK</td>\n",
       "      <td>2019-10-01</td>\n",
       "      <td>2019-12-01 00:00:00</td>\n",
       "      <td>Month-to-month</td>\n",
       "      <td>Yes</td>\n",
       "      <td>Mailed check</td>\n",
       "      <td>53.85</td>\n",
       "      <td>108.15</td>\n",
       "    </tr>\n",
       "  </tbody>\n",
       "</table>\n",
       "</div>"
      ],
      "text/plain": [
       "   customerID   BeginDate              EndDate            Type  \\\n",
       "0  7590-VHVEG  2020-01-01                   No  Month-to-month   \n",
       "1  5575-GNVDE  2017-04-01                   No        One year   \n",
       "2  3668-QPYBK  2019-10-01  2019-12-01 00:00:00  Month-to-month   \n",
       "\n",
       "  PaperlessBilling     PaymentMethod  MonthlyCharges TotalCharges  \n",
       "0              Yes  Electronic check           29.85        29.85  \n",
       "1               No      Mailed check           56.95       1889.5  \n",
       "2              Yes      Mailed check           53.85       108.15  "
      ]
     },
     "metadata": {},
     "output_type": "display_data"
    },
    {
     "name": "stdout",
     "output_type": "stream",
     "text": [
      "<class 'pandas.core.frame.DataFrame'>\n",
      "RangeIndex: 7043 entries, 0 to 7042\n",
      "Data columns (total 8 columns):\n",
      " #   Column            Non-Null Count  Dtype  \n",
      "---  ------            --------------  -----  \n",
      " 0   customerID        7043 non-null   object \n",
      " 1   BeginDate         7043 non-null   object \n",
      " 2   EndDate           7043 non-null   object \n",
      " 3   Type              7043 non-null   object \n",
      " 4   PaperlessBilling  7043 non-null   object \n",
      " 5   PaymentMethod     7043 non-null   object \n",
      " 6   MonthlyCharges    7043 non-null   float64\n",
      " 7   TotalCharges      7043 non-null   object \n",
      "dtypes: float64(1), object(7)\n",
      "memory usage: 440.3+ KB\n"
     ]
    },
    {
     "data": {
      "text/html": [
       "<div>\n",
       "<style scoped>\n",
       "    .dataframe tbody tr th:only-of-type {\n",
       "        vertical-align: middle;\n",
       "    }\n",
       "\n",
       "    .dataframe tbody tr th {\n",
       "        vertical-align: top;\n",
       "    }\n",
       "\n",
       "    .dataframe thead th {\n",
       "        text-align: right;\n",
       "    }\n",
       "</style>\n",
       "<table border=\"1\" class=\"dataframe\">\n",
       "  <thead>\n",
       "    <tr style=\"text-align: right;\">\n",
       "      <th></th>\n",
       "      <th>MonthlyCharges</th>\n",
       "    </tr>\n",
       "  </thead>\n",
       "  <tbody>\n",
       "    <tr>\n",
       "      <th>count</th>\n",
       "      <td>7043.000000</td>\n",
       "    </tr>\n",
       "    <tr>\n",
       "      <th>mean</th>\n",
       "      <td>64.761692</td>\n",
       "    </tr>\n",
       "    <tr>\n",
       "      <th>std</th>\n",
       "      <td>30.090047</td>\n",
       "    </tr>\n",
       "    <tr>\n",
       "      <th>min</th>\n",
       "      <td>18.250000</td>\n",
       "    </tr>\n",
       "    <tr>\n",
       "      <th>25%</th>\n",
       "      <td>35.500000</td>\n",
       "    </tr>\n",
       "    <tr>\n",
       "      <th>50%</th>\n",
       "      <td>70.350000</td>\n",
       "    </tr>\n",
       "    <tr>\n",
       "      <th>75%</th>\n",
       "      <td>89.850000</td>\n",
       "    </tr>\n",
       "    <tr>\n",
       "      <th>max</th>\n",
       "      <td>118.750000</td>\n",
       "    </tr>\n",
       "  </tbody>\n",
       "</table>\n",
       "</div>"
      ],
      "text/plain": [
       "       MonthlyCharges\n",
       "count     7043.000000\n",
       "mean        64.761692\n",
       "std         30.090047\n",
       "min         18.250000\n",
       "25%         35.500000\n",
       "50%         70.350000\n",
       "75%         89.850000\n",
       "max        118.750000"
      ]
     },
     "execution_count": 4,
     "metadata": {},
     "output_type": "execute_result"
    }
   ],
   "source": [
    "print('contract:')\n",
    "display(contract.head(3))\n",
    "contract.info()\n",
    "contract.describe()"
   ]
  },
  {
   "cell_type": "code",
   "execution_count": 5,
   "metadata": {
    "colab": {
     "base_uri": "https://localhost:8080/",
     "height": 204
    },
    "id": "pR3SKpMBGkwP",
    "outputId": "3e6a1cf1-6d22-4518-ab31-feadab6f6ef4"
   },
   "outputs": [
    {
     "data": {
      "text/html": [
       "<div>\n",
       "<style scoped>\n",
       "    .dataframe tbody tr th:only-of-type {\n",
       "        vertical-align: middle;\n",
       "    }\n",
       "\n",
       "    .dataframe tbody tr th {\n",
       "        vertical-align: top;\n",
       "    }\n",
       "\n",
       "    .dataframe thead th {\n",
       "        text-align: right;\n",
       "    }\n",
       "</style>\n",
       "<table border=\"1\" class=\"dataframe\">\n",
       "  <thead>\n",
       "    <tr style=\"text-align: right;\">\n",
       "      <th></th>\n",
       "      <th>customerID</th>\n",
       "      <th>BeginDate</th>\n",
       "      <th>EndDate</th>\n",
       "      <th>Type</th>\n",
       "      <th>PaperlessBilling</th>\n",
       "      <th>PaymentMethod</th>\n",
       "      <th>MonthlyCharges</th>\n",
       "      <th>TotalCharges</th>\n",
       "    </tr>\n",
       "  </thead>\n",
       "  <tbody>\n",
       "    <tr>\n",
       "      <th>488</th>\n",
       "      <td>4472-LVYGI</td>\n",
       "      <td>2020-02-01</td>\n",
       "      <td>No</td>\n",
       "      <td>Two year</td>\n",
       "      <td>Yes</td>\n",
       "      <td>Bank transfer (automatic)</td>\n",
       "      <td>52.55</td>\n",
       "      <td></td>\n",
       "    </tr>\n",
       "    <tr>\n",
       "      <th>753</th>\n",
       "      <td>3115-CZMZD</td>\n",
       "      <td>2020-02-01</td>\n",
       "      <td>No</td>\n",
       "      <td>Two year</td>\n",
       "      <td>No</td>\n",
       "      <td>Mailed check</td>\n",
       "      <td>20.25</td>\n",
       "      <td></td>\n",
       "    </tr>\n",
       "    <tr>\n",
       "      <th>936</th>\n",
       "      <td>5709-LVOEQ</td>\n",
       "      <td>2020-02-01</td>\n",
       "      <td>No</td>\n",
       "      <td>Two year</td>\n",
       "      <td>No</td>\n",
       "      <td>Mailed check</td>\n",
       "      <td>80.85</td>\n",
       "      <td></td>\n",
       "    </tr>\n",
       "    <tr>\n",
       "      <th>1082</th>\n",
       "      <td>4367-NUYAO</td>\n",
       "      <td>2020-02-01</td>\n",
       "      <td>No</td>\n",
       "      <td>Two year</td>\n",
       "      <td>No</td>\n",
       "      <td>Mailed check</td>\n",
       "      <td>25.75</td>\n",
       "      <td></td>\n",
       "    </tr>\n",
       "    <tr>\n",
       "      <th>1340</th>\n",
       "      <td>1371-DWPAZ</td>\n",
       "      <td>2020-02-01</td>\n",
       "      <td>No</td>\n",
       "      <td>Two year</td>\n",
       "      <td>No</td>\n",
       "      <td>Credit card (automatic)</td>\n",
       "      <td>56.05</td>\n",
       "      <td></td>\n",
       "    </tr>\n",
       "  </tbody>\n",
       "</table>\n",
       "</div>"
      ],
      "text/plain": [
       "      customerID   BeginDate EndDate      Type PaperlessBilling  \\\n",
       "488   4472-LVYGI  2020-02-01      No  Two year              Yes   \n",
       "753   3115-CZMZD  2020-02-01      No  Two year               No   \n",
       "936   5709-LVOEQ  2020-02-01      No  Two year               No   \n",
       "1082  4367-NUYAO  2020-02-01      No  Two year               No   \n",
       "1340  1371-DWPAZ  2020-02-01      No  Two year               No   \n",
       "\n",
       "                  PaymentMethod  MonthlyCharges TotalCharges  \n",
       "488   Bank transfer (automatic)           52.55               \n",
       "753                Mailed check           20.25               \n",
       "936                Mailed check           80.85               \n",
       "1082               Mailed check           25.75               \n",
       "1340    Credit card (automatic)           56.05               "
      ]
     },
     "execution_count": 5,
     "metadata": {},
     "output_type": "execute_result"
    }
   ],
   "source": [
    "contract[contract['TotalCharges']==' '].head()"
   ]
  },
  {
   "cell_type": "markdown",
   "metadata": {
    "id": "yfKX0X92Gvkh"
   },
   "source": [
    "❗ Есть пропуски, представленные пробелом"
   ]
  },
  {
   "cell_type": "code",
   "execution_count": 6,
   "metadata": {
    "colab": {
     "base_uri": "https://localhost:8080/",
     "height": 363
    },
    "id": "hOMnAMpso5Dz",
    "outputId": "14009932-4907-40ed-f477-fa9a9b1bfd7f"
   },
   "outputs": [
    {
     "name": "stdout",
     "output_type": "stream",
     "text": [
      "personal:\n"
     ]
    },
    {
     "data": {
      "text/html": [
       "<div>\n",
       "<style scoped>\n",
       "    .dataframe tbody tr th:only-of-type {\n",
       "        vertical-align: middle;\n",
       "    }\n",
       "\n",
       "    .dataframe tbody tr th {\n",
       "        vertical-align: top;\n",
       "    }\n",
       "\n",
       "    .dataframe thead th {\n",
       "        text-align: right;\n",
       "    }\n",
       "</style>\n",
       "<table border=\"1\" class=\"dataframe\">\n",
       "  <thead>\n",
       "    <tr style=\"text-align: right;\">\n",
       "      <th></th>\n",
       "      <th>customerID</th>\n",
       "      <th>gender</th>\n",
       "      <th>SeniorCitizen</th>\n",
       "      <th>Partner</th>\n",
       "      <th>Dependents</th>\n",
       "    </tr>\n",
       "  </thead>\n",
       "  <tbody>\n",
       "    <tr>\n",
       "      <th>0</th>\n",
       "      <td>7590-VHVEG</td>\n",
       "      <td>Female</td>\n",
       "      <td>0</td>\n",
       "      <td>Yes</td>\n",
       "      <td>No</td>\n",
       "    </tr>\n",
       "    <tr>\n",
       "      <th>1</th>\n",
       "      <td>5575-GNVDE</td>\n",
       "      <td>Male</td>\n",
       "      <td>0</td>\n",
       "      <td>No</td>\n",
       "      <td>No</td>\n",
       "    </tr>\n",
       "    <tr>\n",
       "      <th>2</th>\n",
       "      <td>3668-QPYBK</td>\n",
       "      <td>Male</td>\n",
       "      <td>0</td>\n",
       "      <td>No</td>\n",
       "      <td>No</td>\n",
       "    </tr>\n",
       "  </tbody>\n",
       "</table>\n",
       "</div>"
      ],
      "text/plain": [
       "   customerID  gender  SeniorCitizen Partner Dependents\n",
       "0  7590-VHVEG  Female              0     Yes         No\n",
       "1  5575-GNVDE    Male              0      No         No\n",
       "2  3668-QPYBK    Male              0      No         No"
      ]
     },
     "metadata": {},
     "output_type": "display_data"
    },
    {
     "name": "stdout",
     "output_type": "stream",
     "text": [
      "<class 'pandas.core.frame.DataFrame'>\n",
      "RangeIndex: 7043 entries, 0 to 7042\n",
      "Data columns (total 5 columns):\n",
      " #   Column         Non-Null Count  Dtype \n",
      "---  ------         --------------  ----- \n",
      " 0   customerID     7043 non-null   object\n",
      " 1   gender         7043 non-null   object\n",
      " 2   SeniorCitizen  7043 non-null   int64 \n",
      " 3   Partner        7043 non-null   object\n",
      " 4   Dependents     7043 non-null   object\n",
      "dtypes: int64(1), object(4)\n",
      "memory usage: 275.2+ KB\n"
     ]
    }
   ],
   "source": [
    "print('personal:')\n",
    "display(personal.head(3))\n",
    "personal.info()"
   ]
  },
  {
   "cell_type": "code",
   "execution_count": 7,
   "metadata": {
    "colab": {
     "base_uri": "https://localhost:8080/",
     "height": 414
    },
    "id": "na9KTPG381I-",
    "outputId": "ea91bf26-372b-4085-dd1b-2ea70c87e3de"
   },
   "outputs": [
    {
     "name": "stdout",
     "output_type": "stream",
     "text": [
      "internet:\n"
     ]
    },
    {
     "data": {
      "text/html": [
       "<div>\n",
       "<style scoped>\n",
       "    .dataframe tbody tr th:only-of-type {\n",
       "        vertical-align: middle;\n",
       "    }\n",
       "\n",
       "    .dataframe tbody tr th {\n",
       "        vertical-align: top;\n",
       "    }\n",
       "\n",
       "    .dataframe thead th {\n",
       "        text-align: right;\n",
       "    }\n",
       "</style>\n",
       "<table border=\"1\" class=\"dataframe\">\n",
       "  <thead>\n",
       "    <tr style=\"text-align: right;\">\n",
       "      <th></th>\n",
       "      <th>customerID</th>\n",
       "      <th>InternetService</th>\n",
       "      <th>OnlineSecurity</th>\n",
       "      <th>OnlineBackup</th>\n",
       "      <th>DeviceProtection</th>\n",
       "      <th>TechSupport</th>\n",
       "      <th>StreamingTV</th>\n",
       "      <th>StreamingMovies</th>\n",
       "    </tr>\n",
       "  </thead>\n",
       "  <tbody>\n",
       "    <tr>\n",
       "      <th>0</th>\n",
       "      <td>7590-VHVEG</td>\n",
       "      <td>DSL</td>\n",
       "      <td>No</td>\n",
       "      <td>Yes</td>\n",
       "      <td>No</td>\n",
       "      <td>No</td>\n",
       "      <td>No</td>\n",
       "      <td>No</td>\n",
       "    </tr>\n",
       "    <tr>\n",
       "      <th>1</th>\n",
       "      <td>5575-GNVDE</td>\n",
       "      <td>DSL</td>\n",
       "      <td>Yes</td>\n",
       "      <td>No</td>\n",
       "      <td>Yes</td>\n",
       "      <td>No</td>\n",
       "      <td>No</td>\n",
       "      <td>No</td>\n",
       "    </tr>\n",
       "    <tr>\n",
       "      <th>2</th>\n",
       "      <td>3668-QPYBK</td>\n",
       "      <td>DSL</td>\n",
       "      <td>Yes</td>\n",
       "      <td>Yes</td>\n",
       "      <td>No</td>\n",
       "      <td>No</td>\n",
       "      <td>No</td>\n",
       "      <td>No</td>\n",
       "    </tr>\n",
       "  </tbody>\n",
       "</table>\n",
       "</div>"
      ],
      "text/plain": [
       "   customerID InternetService OnlineSecurity OnlineBackup DeviceProtection  \\\n",
       "0  7590-VHVEG             DSL             No          Yes               No   \n",
       "1  5575-GNVDE             DSL            Yes           No              Yes   \n",
       "2  3668-QPYBK             DSL            Yes          Yes               No   \n",
       "\n",
       "  TechSupport StreamingTV StreamingMovies  \n",
       "0          No          No              No  \n",
       "1          No          No              No  \n",
       "2          No          No              No  "
      ]
     },
     "metadata": {},
     "output_type": "display_data"
    },
    {
     "name": "stdout",
     "output_type": "stream",
     "text": [
      "<class 'pandas.core.frame.DataFrame'>\n",
      "RangeIndex: 5517 entries, 0 to 5516\n",
      "Data columns (total 8 columns):\n",
      " #   Column            Non-Null Count  Dtype \n",
      "---  ------            --------------  ----- \n",
      " 0   customerID        5517 non-null   object\n",
      " 1   InternetService   5517 non-null   object\n",
      " 2   OnlineSecurity    5517 non-null   object\n",
      " 3   OnlineBackup      5517 non-null   object\n",
      " 4   DeviceProtection  5517 non-null   object\n",
      " 5   TechSupport       5517 non-null   object\n",
      " 6   StreamingTV       5517 non-null   object\n",
      " 7   StreamingMovies   5517 non-null   object\n",
      "dtypes: object(8)\n",
      "memory usage: 344.9+ KB\n"
     ]
    }
   ],
   "source": [
    "print('internet:')\n",
    "display(internet.head(3))\n",
    "internet.info()"
   ]
  },
  {
   "cell_type": "code",
   "execution_count": 8,
   "metadata": {
    "colab": {
     "base_uri": "https://localhost:8080/",
     "height": 312
    },
    "id": "65A-d_Am83-O",
    "outputId": "e5ba3d56-6a73-4036-a8ec-128e3d370fd7"
   },
   "outputs": [
    {
     "name": "stdout",
     "output_type": "stream",
     "text": [
      "phone:\n"
     ]
    },
    {
     "data": {
      "text/html": [
       "<div>\n",
       "<style scoped>\n",
       "    .dataframe tbody tr th:only-of-type {\n",
       "        vertical-align: middle;\n",
       "    }\n",
       "\n",
       "    .dataframe tbody tr th {\n",
       "        vertical-align: top;\n",
       "    }\n",
       "\n",
       "    .dataframe thead th {\n",
       "        text-align: right;\n",
       "    }\n",
       "</style>\n",
       "<table border=\"1\" class=\"dataframe\">\n",
       "  <thead>\n",
       "    <tr style=\"text-align: right;\">\n",
       "      <th></th>\n",
       "      <th>customerID</th>\n",
       "      <th>MultipleLines</th>\n",
       "    </tr>\n",
       "  </thead>\n",
       "  <tbody>\n",
       "    <tr>\n",
       "      <th>0</th>\n",
       "      <td>5575-GNVDE</td>\n",
       "      <td>No</td>\n",
       "    </tr>\n",
       "    <tr>\n",
       "      <th>1</th>\n",
       "      <td>3668-QPYBK</td>\n",
       "      <td>No</td>\n",
       "    </tr>\n",
       "    <tr>\n",
       "      <th>2</th>\n",
       "      <td>9237-HQITU</td>\n",
       "      <td>No</td>\n",
       "    </tr>\n",
       "  </tbody>\n",
       "</table>\n",
       "</div>"
      ],
      "text/plain": [
       "   customerID MultipleLines\n",
       "0  5575-GNVDE            No\n",
       "1  3668-QPYBK            No\n",
       "2  9237-HQITU            No"
      ]
     },
     "metadata": {},
     "output_type": "display_data"
    },
    {
     "name": "stdout",
     "output_type": "stream",
     "text": [
      "<class 'pandas.core.frame.DataFrame'>\n",
      "RangeIndex: 6361 entries, 0 to 6360\n",
      "Data columns (total 2 columns):\n",
      " #   Column         Non-Null Count  Dtype \n",
      "---  ------         --------------  ----- \n",
      " 0   customerID     6361 non-null   object\n",
      " 1   MultipleLines  6361 non-null   object\n",
      "dtypes: object(2)\n",
      "memory usage: 99.5+ KB\n"
     ]
    }
   ],
   "source": [
    "print('phone:')\n",
    "display(phone.head(3))\n",
    "phone.info()"
   ]
  },
  {
   "cell_type": "markdown",
   "metadata": {
    "id": "rpUwybx1Agrs"
   },
   "source": [
    "### 📍 Выводы \n",
    "__Файлы загружены и открыты, проведен предварительный просмотр__ <br>\n",
    "🔍 _После предпросмотра мы можем сказать следующее:_\n",
    "1. Есть пропуски представленные пробелом.\n",
    "2. Необходимо привести некоторые признаки к соответствующим классам (`BeginDate`, `TotalCharges`)\n",
    "3. Необходимо проверить на дубликаты."
   ]
  },
  {
   "cell_type": "markdown",
   "metadata": {
    "id": "GvYHktbhBJz0"
   },
   "source": [
    "\n",
    "\n",
    "---\n",
    "\n",
    "\n",
    "\n",
    "---\n",
    "\n",
    "\n",
    "## Предобработка данных"
   ]
  },
  {
   "cell_type": "markdown",
   "metadata": {
    "id": "4KkOQ-4xG73X"
   },
   "source": [
    "### Обработка пропусков"
   ]
  },
  {
   "cell_type": "markdown",
   "metadata": {
    "id": "z-Hlj3tnHCbP"
   },
   "source": [
    "📝Так как у нас есть пропуски данных методом заполнения пробелом, просмотрим `contract.TotalCharges` на предмет данных пропусков, также просмотрим и другие признаки во всех таблицах типа `object`"
   ]
  },
  {
   "cell_type": "code",
   "execution_count": 9,
   "metadata": {
    "colab": {
     "base_uri": "https://localhost:8080/"
    },
    "id": "ZtFzE6ZoHBOh",
    "outputId": "42a5f665-e8b5-4309-c9b4-e3b3e722f165"
   },
   "outputs": [
    {
     "name": "stdout",
     "output_type": "stream",
     "text": [
      "Пропусков в TotalCharges: Процент от общего количества:  0.001561834445548772\n"
     ]
    }
   ],
   "source": [
    "print('Пропусков в TotalCharges: ', end='')\n",
    "contract[contract['TotalCharges'] == ' '].count()[6]\n",
    "print('Процент от общего количества: ', contract[contract['TotalCharges'] == ' '].count()[6] / len(contract))"
   ]
  },
  {
   "cell_type": "markdown",
   "metadata": {
    "id": "tW0JEU8wIeBd"
   },
   "source": [
    "📝Процент данных с пропусками ничтожен => мужем удалить данные классы"
   ]
  },
  {
   "cell_type": "code",
   "execution_count": 10,
   "metadata": {
    "id": "S8MMczyKInX8"
   },
   "outputs": [],
   "source": [
    "contract = contract[contract['TotalCharges'] != ' ']"
   ]
  },
  {
   "cell_type": "code",
   "execution_count": 11,
   "metadata": {
    "colab": {
     "base_uri": "https://localhost:8080/"
    },
    "id": "IU4R18K8KjFQ",
    "outputId": "ff9fcba5-e999-4f49-d38b-77db7806fe0f"
   },
   "outputs": [
    {
     "name": "stdout",
     "output_type": "stream",
     "text": [
      "BeginDate\n",
      "['2020-01-01' '2017-04-01' '2019-10-01' '2016-05-01' '2019-09-01'\n",
      " '2019-03-01' '2018-04-01' '2019-04-01' '2017-07-01' '2014-12-01'\n",
      " '2019-01-01' '2018-10-01' '2015-04-01' '2015-09-01' '2018-01-01'\n",
      " '2014-05-01' '2015-10-01' '2014-03-01' '2018-05-01' '2019-11-01'\n",
      " '2019-02-01' '2016-01-01' '2017-08-01' '2015-12-01' '2014-02-01'\n",
      " '2018-06-01' '2019-12-01' '2017-11-01' '2019-06-01' '2016-04-01'\n",
      " '2017-02-01' '2018-12-01' '2014-04-01' '2018-09-01' '2014-11-01'\n",
      " '2016-07-01' '2015-02-01' '2018-07-01' '2014-08-01' '2016-03-01'\n",
      " '2018-08-01' '2014-10-01' '2015-06-01' '2016-08-01' '2019-05-01'\n",
      " '2017-03-01' '2016-02-01' '2017-09-01' '2014-09-01' '2017-12-01'\n",
      " '2016-12-01' '2017-06-01' '2015-05-01' '2016-10-01' '2016-09-01'\n",
      " '2019-08-01' '2019-07-01' '2017-05-01' '2017-10-01' '2014-07-01'\n",
      " '2018-03-01' '2015-01-01' '2018-11-01' '2015-03-01' '2018-02-01'\n",
      " '2016-06-01' '2015-08-01' '2015-11-01' '2014-06-01' '2017-01-01'\n",
      " '2015-07-01' '2016-11-01' '2013-11-01' '2014-01-01' '2013-10-01'\n",
      " '2013-12-01']\n",
      "\n",
      "EndDate\n",
      "['No' '2019-12-01 00:00:00' '2019-11-01 00:00:00' '2019-10-01 00:00:00'\n",
      " '2020-01-01 00:00:00']\n",
      "\n",
      "Type\n",
      "['Month-to-month' 'One year' 'Two year']\n",
      "\n",
      "PaperlessBilling\n",
      "['Yes' 'No']\n",
      "\n",
      "PaymentMethod\n",
      "['Electronic check' 'Mailed check' 'Bank transfer (automatic)'\n",
      " 'Credit card (automatic)']\n",
      "\n",
      "TotalCharges\n",
      "['29.85' '1889.5' '108.15' ... '346.45' '306.6' '6844.5']\n",
      "\n",
      "gender\n",
      "['Female' 'Male']\n",
      "\n",
      "Partner\n",
      "['Yes' 'No']\n",
      "\n",
      "Dependents\n",
      "['No' 'Yes']\n",
      "\n",
      "InternetService\n",
      "['DSL' 'Fiber optic']\n",
      "\n",
      "OnlineSecurity\n",
      "['No' 'Yes']\n",
      "\n",
      "OnlineBackup\n",
      "['Yes' 'No']\n",
      "\n",
      "DeviceProtection\n",
      "['No' 'Yes']\n",
      "\n",
      "TechSupport\n",
      "['No' 'Yes']\n",
      "\n",
      "StreamingTV\n",
      "['No' 'Yes']\n",
      "\n",
      "StreamingMovies\n",
      "['No' 'Yes']\n",
      "\n",
      "MultipleLines\n",
      "['No' 'Yes']\n",
      "\n"
     ]
    }
   ],
   "source": [
    "for df in [contract, personal, internet, phone]:\n",
    "  for column in df.columns:\n",
    "    if df[column].dtype == 'O' and column != 'customerID':\n",
    "      print(column)\n",
    "      print(df[column].unique())\n",
    "      print()"
   ]
  },
  {
   "cell_type": "markdown",
   "metadata": {
    "id": "dZAiG7AeNPnn"
   },
   "source": [
    "📝Исходя из найденных уникальных значений признаков, пропусков больше нет"
   ]
  },
  {
   "cell_type": "markdown",
   "metadata": {
    "id": "X2UYMaXnCZYy"
   },
   "source": [
    "### Изменение типов данных\n",
    "Приведем следующие столбцы у необходимым типам:\n",
    "- `contract.BeginDate` ➡ `datetime`\n",
    "- `contract.TotalCharges` ➡ `float`"
   ]
  },
  {
   "cell_type": "code",
   "execution_count": 12,
   "metadata": {
    "id": "IMtHX3zsAhOu"
   },
   "outputs": [],
   "source": [
    "contract['BeginDate_new'] = pd.to_datetime(\n",
    "    contract['BeginDate'], format='%Y-%m-%d')\n",
    "contract.drop('BeginDate', axis=1, inplace=True)"
   ]
  },
  {
   "cell_type": "code",
   "execution_count": 13,
   "metadata": {
    "id": "BEdrPbBsE3w3"
   },
   "outputs": [],
   "source": [
    "contract['TotalCharges'] = contract['TotalCharges'].astype('float64')"
   ]
  },
  {
   "cell_type": "code",
   "execution_count": 14,
   "metadata": {
    "colab": {
     "base_uri": "https://localhost:8080/"
    },
    "id": "OMSvl3KTE6hv",
    "outputId": "e6d88e99-ab61-41ba-e389-3d21b3a28e48"
   },
   "outputs": [
    {
     "name": "stdout",
     "output_type": "stream",
     "text": [
      "<class 'pandas.core.frame.DataFrame'>\n",
      "Int64Index: 7032 entries, 0 to 7042\n",
      "Data columns (total 8 columns):\n",
      " #   Column            Non-Null Count  Dtype         \n",
      "---  ------            --------------  -----         \n",
      " 0   customerID        7032 non-null   object        \n",
      " 1   EndDate           7032 non-null   object        \n",
      " 2   Type              7032 non-null   object        \n",
      " 3   PaperlessBilling  7032 non-null   object        \n",
      " 4   PaymentMethod     7032 non-null   object        \n",
      " 5   MonthlyCharges    7032 non-null   float64       \n",
      " 6   TotalCharges      7032 non-null   float64       \n",
      " 7   BeginDate_new     7032 non-null   datetime64[ns]\n",
      "dtypes: datetime64[ns](1), float64(2), object(5)\n",
      "memory usage: 494.4+ KB\n"
     ]
    }
   ],
   "source": [
    "contract.info()"
   ]
  },
  {
   "cell_type": "markdown",
   "metadata": {
    "id": "65ctXgbjO-3M"
   },
   "source": [
    "### Проверка на дубликаты"
   ]
  },
  {
   "cell_type": "markdown",
   "metadata": {
    "id": "alV44nqzPMui"
   },
   "source": [
    "📝 Проверим по полю `customerID`, данный признак, по идее, должен быть уникальным"
   ]
  },
  {
   "cell_type": "code",
   "execution_count": 15,
   "metadata": {
    "colab": {
     "base_uri": "https://localhost:8080/"
    },
    "id": "NKdB8MG9RRqR",
    "outputId": "c898427d-5036-40fb-aec4-e3081a7df0aa"
   },
   "outputs": [
    {
     "name": "stdout",
     "output_type": "stream",
     "text": [
      "Все значения по признаку customerID уникальны\n"
     ]
    }
   ],
   "source": [
    "if len(contract['customerID'].unique()) == len(contract):\n",
    "  print(\"Все значения по признаку customerID уникальны\")"
   ]
  },
  {
   "cell_type": "markdown",
   "metadata": {
    "id": "eiqBJK3vSAh_"
   },
   "source": [
    "### 📍 Выводы\n",
    "- Обработали пропуски\n",
    "- Преобразовали данные в нужные типы\n",
    "- Проверили дубликаты\n"
   ]
  },
  {
   "cell_type": "markdown",
   "metadata": {
    "id": "V-V_fGqXSAUX"
   },
   "source": [
    "\n",
    "\n",
    "---\n",
    "\n",
    "\n",
    "\n",
    "---\n",
    "\n",
    "\n",
    "## Исследовательский анализ данных и подготовка данных"
   ]
  },
  {
   "cell_type": "markdown",
   "metadata": {
    "id": "cStutaPMSXRc"
   },
   "source": [
    "### Оценка полезности признаков\n",
    "\n"
   ]
  },
  {
   "cell_type": "markdown",
   "metadata": {
    "id": "LDwuhHjuSrvf"
   },
   "source": [
    "__Датафрейм `contract`__ <br>\n"
   ]
  },
  {
   "cell_type": "markdown",
   "metadata": {
    "id": "ae8Mya8KS3a-"
   },
   "source": [
    "|#  | Column            | Описание действий   \n",
    "|---|  ------           | --------------       \n",
    "| 0 |  customerID       | Данный признак нам нужен для соединения таблиц, отбросим его позже\n",
    "| 1 |  🎯EndDate          | 🎯Это целевой признак, преобразуем его следующим образом: `no` в `0`, что значит клиент не ушел, остальные в `1`\n",
    "| 2 |  Type             | Преобразуем методом OHE\n",
    "| 3 |  PaperlessBilling | Преобразуем методом OHE\n",
    "| 4 |  PaymentMethod    | Преобразуем методом OHE\n",
    "| 5 |  MonthlyCharges   | Оставим\n",
    "| 6 |  TotalCharges     | Оставим\n",
    "| 7 |  BeginDate_new    | Удалим"
   ]
  },
  {
   "cell_type": "markdown",
   "metadata": {
    "id": "wHamt_BxVb-d"
   },
   "source": [
    "__Датафрейм `personal`__ <br>"
   ]
  },
  {
   "cell_type": "markdown",
   "metadata": {
    "id": "9dNAnpccVtIJ"
   },
   "source": [
    "|#  | Column            | Описание действий   \n",
    "|---|  ------           | --------------       \n",
    "| 0 |  customerID       | Данный признак нам нужен для соединения таблиц\n",
    "|1  |gender             | Преобразуем методом OHE\n",
    "|2  |SeniorCitizen      | Оставим как есть\n",
    "|3  |Partner            | Преобразуем методом OHE\n",
    "|4  |Dependents         | Преобразуем методом OHE"
   ]
  },
  {
   "cell_type": "markdown",
   "metadata": {
    "id": "cLvmlo2bVcg8"
   },
   "source": [
    "__Датафрейм `internet`__ <br>"
   ]
  },
  {
   "cell_type": "markdown",
   "metadata": {
    "id": "OpELR2DGVts3"
   },
   "source": [
    "|#  | Column            | Описание действий   \n",
    "|---|  ------           | --------------       \n",
    "| 0 |  customerID       | Данный признак нам нужен для соединения таблиц\n",
    "|1  | InternetService   | Преобразуем методом OHE\n",
    "|2  | OnlineSecurity    | Преобразуем методом OHE\n",
    "|3  | OnlineBackup      | Преобразуем методом OHE\n",
    "|4  | DeviceProtection  | Преобразуем методом OHE\n",
    "|5  | TechSupport       | Преобразуем методом OHE\n",
    "|6  | StreamingTV       | Преобразуем методом OHE\n",
    "|7  | StreamingMovies   | Преобразуем методом OHE"
   ]
  },
  {
   "cell_type": "markdown",
   "metadata": {
    "id": "Ds3pjDq3Vc9v"
   },
   "source": [
    "__Датафрейм `phone`__ <br>"
   ]
  },
  {
   "cell_type": "markdown",
   "metadata": {
    "id": "cYt3ScI5VuQ2"
   },
   "source": [
    "|#  | Column            | Описание действий   \n",
    "|---|  ------           | --------------       \n",
    "| 0 |  customerID       | Данный признак нам нужен для соединения таблиц\n",
    "| 1 |  MultipleLines    | Преобразуем методом OHE"
   ]
  },
  {
   "cell_type": "markdown",
   "metadata": {
    "id": "_0nyFDDFcZjI"
   },
   "source": [
    "📝 Соединим все датафреймы в 1 и посмотрим общую информацию:"
   ]
  },
  {
   "cell_type": "code",
   "execution_count": 16,
   "metadata": {
    "colab": {
     "base_uri": "https://localhost:8080/",
     "height": 715
    },
    "id": "TlOVEFPkcjfc",
    "outputId": "8d3f50a5-cd85-49ab-8e3f-99adcccf3eb6"
   },
   "outputs": [
    {
     "name": "stdout",
     "output_type": "stream",
     "text": [
      "Пропущенные значения по признакам:\n",
      "EndDate                0\n",
      "Type                   0\n",
      "PaperlessBilling       0\n",
      "PaymentMethod          0\n",
      "MonthlyCharges         0\n",
      "TotalCharges           0\n",
      "BeginDate_new          0\n",
      "gender                 0\n",
      "SeniorCitizen          0\n",
      "Partner                0\n",
      "Dependents             0\n",
      "InternetService     1520\n",
      "OnlineSecurity      1520\n",
      "OnlineBackup        1520\n",
      "DeviceProtection    1520\n",
      "TechSupport         1520\n",
      "StreamingTV         1520\n",
      "StreamingMovies     1520\n",
      "MultipleLines        680\n",
      "dtype: int64\n"
     ]
    },
    {
     "data": {
      "image/png": "[encoded data removed]",
      "text/plain": [
       "<Figure size 720x360 with 1 Axes>"
      ]
     },
     "metadata": {},
     "output_type": "display_data"
    }
   ],
   "source": [
    "df = contract.merge(personal, on='customerID', how='left')\n",
    "df = df.merge(internet, on='customerID', how='left')\n",
    "df = df.merge(phone, on='customerID', how='left')\n",
    "df = df.drop('customerID', axis=1)\n",
    "missing_values(df)"
   ]
  },
  {
   "cell_type": "markdown",
   "metadata": {
    "id": "jtkJFYP4fogY"
   },
   "source": [
    "📝Как мы видим образовались пропуски в данных, они появились так как кто-то из клиентов не пользуется интернетом или напротив, мобильной связью. <br>\n",
    "📝Так как данные клинеты не непользуются той или иной услугой (возможности ведения параллельных линий во время звонка), а в целом не оплачивают интернет или моб. связь, то считаю целесообразным заполнить пропуски `No`. И добавить признак `PhoneUsed`, где будет 1 если есть в списке и 0 если не было. <br>\n",
    "📝Так как `InternetService` - сам факт предоставления доступа в интернет, просто заполним `No`"
   ]
  },
  {
   "cell_type": "code",
   "execution_count": 17,
   "metadata": {
    "id": "dHGzFq4avR0f"
   },
   "outputs": [],
   "source": [
    "df['MultipleLines'].fillna('2a2', inplace=True)"
   ]
  },
  {
   "cell_type": "code",
   "execution_count": 18,
   "metadata": {
    "id": "63VeP1oLh72R"
   },
   "outputs": [],
   "source": [
    "def used(data):\n",
    "  if data == '2a2':\n",
    "    return 0\n",
    "  else:\n",
    "    return 1\n",
    "\n",
    "df['PhoneUsed'] = df['MultipleLines'].apply(used)"
   ]
  },
  {
   "cell_type": "code",
   "execution_count": 19,
   "metadata": {
    "id": "fEQy3CoVtwLp"
   },
   "outputs": [],
   "source": [
    "df['MultipleLines'] = df.MultipleLines.apply(lambda x: 'No' if x == '2a2' else x)\n",
    "df.fillna('No', inplace=True)"
   ]
  },
  {
   "cell_type": "code",
   "execution_count": 20,
   "metadata": {
    "id": "jRoIM6cqSyNQ"
   },
   "outputs": [],
   "source": [
    "# df = df.drop('BeginDate_new', axis=1)"
   ]
  },
  {
   "cell_type": "code",
   "execution_count": 21,
   "metadata": {
    "id": "9Bf3O2ZpXvaj"
   },
   "outputs": [],
   "source": [
    "def target_encoder(data):\n",
    "  if data == 'No':\n",
    "    return 0\n",
    "  else:\n",
    "    return 1\n",
    "\n",
    "df['user_left'] = df['EndDate'].apply(target_encoder)"
   ]
  },
  {
   "cell_type": "code",
   "execution_count": 22,
   "metadata": {},
   "outputs": [],
   "source": [
    "df['EndDate'] = df.EndDate.apply(lambda x: '2020-02-01 00:00:00' if x == 'No' else x)\n",
    "df['EndDate'] = pd.to_datetime(df['EndDate'], format='%Y-%m-%d')"
   ]
  },
  {
   "cell_type": "markdown",
   "metadata": {
    "id": "uror-wV_lQ8g"
   },
   "source": [
    "### Статистический аналих данных"
   ]
  },
  {
   "cell_type": "markdown",
   "metadata": {
    "id": "RKXNfCbZn9ac"
   },
   "source": [
    "#### Анализ `contract.MonthlyCharges`"
   ]
  },
  {
   "cell_type": "code",
   "execution_count": 23,
   "metadata": {
    "colab": {
     "base_uri": "https://localhost:8080/",
     "height": 312
    },
    "id": "MVZFjfcPYkAC",
    "outputId": "192a9d14-6bae-4c5d-d49c-3e2bed0e601c"
   },
   "outputs": [
    {
     "data": {
      "text/plain": [
       "Text(0.5, 1.0, 'Ежемесячные траты')"
      ]
     },
     "execution_count": 23,
     "metadata": {},
     "output_type": "execute_result"
    },
    {
     "data": {
      "image/png": "[encoded data removed]",
      "text/plain": [
       "<Figure size 720x360 with 1 Axes>"
      ]
     },
     "metadata": {},
     "output_type": "display_data"
    }
   ],
   "source": [
    "sns.distplot(df['MonthlyCharges'], kde=False, bins=30)\n",
    "plt.title('Ежемесячные траты')"
   ]
  },
  {
   "cell_type": "markdown",
   "metadata": {
    "id": "nBqGWBw5qDLu"
   },
   "source": [
    "📝 Как видно из гистограммы, наибольший пик по кол-ву пользователей находится в зоне \\~20 у.е. в месяц, также можем выделить еще 2 большие группы, это те, кто тратят 45\\~60 у.е. в месяц, и больше \\~70. <br>\n",
    "Построим боксплот, чтобы обработать выбросы"
   ]
  },
  {
   "cell_type": "code",
   "execution_count": 24,
   "metadata": {
    "colab": {
     "base_uri": "https://localhost:8080/",
     "height": 296
    },
    "id": "u2TGJYZ6rQiH",
    "outputId": "e3e37d95-ef5c-4782-950e-95cd27711bd4"
   },
   "outputs": [
    {
     "data": {
      "text/plain": [
       "<AxesSubplot:xlabel='MonthlyCharges'>"
      ]
     },
     "execution_count": 24,
     "metadata": {},
     "output_type": "execute_result"
    },
    {
     "data": {
      "image/png": "[encoded data removed]",
      "text/plain": [
       "<Figure size 720x360 with 1 Axes>"
      ]
     },
     "metadata": {},
     "output_type": "display_data"
    }
   ],
   "source": [
    "sns.boxplot(df['MonthlyCharges'])"
   ]
  },
  {
   "cell_type": "markdown",
   "metadata": {
    "id": "CwAbN4NV5A9L"
   },
   "source": [
    "📝Выбросов нет"
   ]
  },
  {
   "cell_type": "markdown",
   "metadata": {
    "id": "n94BBmlQpMmN"
   },
   "source": [
    "#### Анализ `contract.TotalCharges`"
   ]
  },
  {
   "cell_type": "code",
   "execution_count": 25,
   "metadata": {
    "colab": {
     "base_uri": "https://localhost:8080/",
     "height": 312
    },
    "id": "9xEyWRU6paTC",
    "outputId": "efd22bb4-d7f6-4ff4-ba42-b07ada81ea54"
   },
   "outputs": [
    {
     "data": {
      "text/plain": [
       "Text(0.5, 1.0, 'Всего потрачено денег на услуги')"
      ]
     },
     "execution_count": 25,
     "metadata": {},
     "output_type": "execute_result"
    },
    {
     "data": {
      "image/png": "[encoded data removed]",
      "text/plain": [
       "<Figure size 720x360 with 1 Axes>"
      ]
     },
     "metadata": {},
     "output_type": "display_data"
    }
   ],
   "source": [
    "sns.distplot(df['TotalCharges'], kde=False, bins=20)\n",
    "plt.title('Всего потрачено денег на услуги')"
   ]
  },
  {
   "cell_type": "markdown",
   "metadata": {
    "id": "n3U7ubeO4BZk"
   },
   "source": [
    "📝На графике мы видим нисходящую тенденцию т.е. то есть люди в основном не тратили относительно большие суммы на услуги, и чем общая сумма больше, тем меньше людей попадают в данную категорию плательщиков"
   ]
  },
  {
   "cell_type": "code",
   "execution_count": 26,
   "metadata": {
    "colab": {
     "base_uri": "https://localhost:8080/",
     "height": 296
    },
    "id": "5ypdEBxJrn3M",
    "outputId": "e7db0585-2cf7-4d7b-a41e-665514398db0"
   },
   "outputs": [
    {
     "data": {
      "text/plain": [
       "<AxesSubplot:xlabel='TotalCharges'>"
      ]
     },
     "execution_count": 26,
     "metadata": {},
     "output_type": "execute_result"
    },
    {
     "data": {
      "image/png": "[encoded data removed]",
      "text/plain": [
       "<Figure size 720x360 with 1 Axes>"
      ]
     },
     "metadata": {},
     "output_type": "display_data"
    }
   ],
   "source": [
    "sns.boxplot(df['TotalCharges'])"
   ]
  },
  {
   "cell_type": "markdown",
   "metadata": {
    "id": "FjFerNy95DGp"
   },
   "source": [
    "📝Выбросов нет"
   ]
  },
  {
   "cell_type": "markdown",
   "metadata": {
    "id": "1atVBdp6l0ee"
   },
   "source": [
    "**OneHotEncoding**"
   ]
  },
  {
   "cell_type": "code",
   "execution_count": 27,
   "metadata": {
    "id": "ihu6NchMlc3s"
   },
   "outputs": [],
   "source": [
    "df_ohe = pd.get_dummies(df, drop_first=True)\n",
    "df_ohe['InternetService_Yes'] = df_ohe['InternetService_Fiber optic'].apply(lambda x: 1 if x == 1 else x)\n",
    "df_ohe['InternetService_Yes'] = df_ohe['InternetService_No'].apply(lambda x: 1 if x == 0 else 0)\n",
    "df_ohe.drop('InternetService_No', axis=1, inplace=True)"
   ]
  },
  {
   "cell_type": "markdown",
   "metadata": {},
   "source": [
    "#### Генерация признаков"
   ]
  },
  {
   "cell_type": "markdown",
   "metadata": {},
   "source": [
    "__Время с компанией__ <br>\n",
    "📝 Сколько клиент с компанией. Так как у клиентов все даты от 1-го числа, можно посчитать кол-во месяцев в качестве клиента"
   ]
  },
  {
   "cell_type": "code",
   "execution_count": 28,
   "metadata": {},
   "outputs": [],
   "source": [
    "df_ohe['Is_Client'] = (df_ohe['EndDate'] - df_ohe['BeginDate_new']).dt.days // 30\n",
    "df_ohe.drop('EndDate', inplace=True, axis=1)\n",
    "df_ohe.drop('BeginDate_new', inplace=True, axis=1)"
   ]
  },
  {
   "cell_type": "markdown",
   "metadata": {},
   "source": [
    "__По количеству подключенных услуг для и-нета__ <br>\n",
    "📝 Попробуем посмотреть, имеет ли значение, какое общее кол-во услуг для инетрнета имеет клиент <br>\n",
    "Признаки интернет сервисов:\n",
    "`InternetService `,\n",
    "`OnlineSecurity  `,\n",
    "`OnlineBackup    `,\n",
    "`DeviceProtection`,\n",
    "`TechSupport     `,\n",
    "`StreamingTV     `,\n",
    "`StreamingMovies `"
   ]
  },
  {
   "cell_type": "code",
   "execution_count": 29,
   "metadata": {},
   "outputs": [],
   "source": [
    "df_ohe['count_int_ser'] = df_ohe[df_ohe[['InternetService_Yes',\n",
    "                                         'OnlineSecurity_Yes', \n",
    "                                         'OnlineBackup_Yes', \n",
    "                                         'DeviceProtection_Yes',\n",
    "                                         'TechSupport_Yes',\n",
    "                                         'StreamingTV_Yes',\n",
    "                                         'StreamingMovies_Yes']] == 1].sum(axis=1)\n",
    "df_ohe['count_int_ser'] = df_ohe['count_int_ser'].astype('int64')"
   ]
  },
  {
   "cell_type": "code",
   "execution_count": 30,
   "metadata": {},
   "outputs": [
    {
     "data": {
      "text/plain": [
       "Text(0.5, 0, 'Кол-во подключенных услуг')"
      ]
     },
     "execution_count": 30,
     "metadata": {},
     "output_type": "execute_result"
    },
    {
     "data": {
      "image/png": "[encoded data removed]",
      "text/plain": [
       "<Figure size 720x360 with 1 Axes>"
      ]
     },
     "metadata": {},
     "output_type": "display_data"
    }
   ],
   "source": [
    "x = df_ohe[df_ohe['user_left'] == 1].groupby(by='count_int_ser').count()['user_left']\n",
    "y = df_ohe[df_ohe['user_left'] == 0].groupby(by='count_int_ser').count()['user_left']\n",
    "y.plot.bar()\n",
    "x.plot.bar(color='r')\n",
    "plt.legend(['Клиент не ушел', 'Клиент ушел'])\n",
    "plt.title('Количество интернет-услуг по статусу клиента')\n",
    "plt.xlabel('Кол-во подключенных услуг')"
   ]
  },
  {
   "cell_type": "markdown",
   "metadata": {},
   "source": [
    "Видим, что некая зависимость есть: <br>\n",
    "- Люди, которые не использую интернет вообще, чаще остаются с компанией\n",
    "- Люди, которые подключили интренет без доп услуг (1 подключенная услуга), часто уходят\n",
    "- Чем больше услуг подключено, тем меньше отток"
   ]
  },
  {
   "cell_type": "code",
   "execution_count": 31,
   "metadata": {},
   "outputs": [],
   "source": [
    "df_ohe.drop('Partner_Yes', inplace=True, axis=1)\n",
    "df_ohe.drop('gender_Male', inplace=True, axis=1)\n",
    "df_ohe.drop('Dependents_Yes', inplace=True, axis=1)"
   ]
  },
  {
   "cell_type": "markdown",
   "metadata": {},
   "source": [
    "---"
   ]
  },
  {
   "cell_type": "markdown",
   "metadata": {
    "id": "Pg9A8LqosKir"
   },
   "source": [
    "#### Корреляция колличественных признаков"
   ]
  },
  {
   "cell_type": "code",
   "execution_count": 32,
   "metadata": {
    "colab": {
     "base_uri": "https://localhost:8080/",
     "height": 817
    },
    "id": "teBo6heLsOvh",
    "outputId": "137104d4-04ed-4657-c255-1fb1bc3e7f8b"
   },
   "outputs": [
    {
     "data": {
      "text/plain": [
       "Text(0.5, 1.0, 'Тепловая карта корреляции по Пирсону')"
      ]
     },
     "execution_count": 32,
     "metadata": {},
     "output_type": "execute_result"
    },
    {
     "data": {
      "image/png": "[encoded data removed]",
      "text/plain": [
       "<Figure size 1440x720 with 2 Axes>"
      ]
     },
     "metadata": {},
     "output_type": "display_data"
    }
   ],
   "source": [
    "numeric = ['MonthlyCharges', 'Is_Client', 'count_int_ser', 'TotalCharges']\n",
    "\n",
    "plt.figure(figsize=(20, 10))\n",
    "sns.heatmap(df_ohe[numeric].corr(),\n",
    "            cmap='coolwarm',\n",
    "            vmin=-1, vmax=1,\n",
    "            annot=True)\n",
    "plt.title('Тепловая карта корреляции по Пирсону')"
   ]
  },
  {
   "cell_type": "code",
   "execution_count": 33,
   "metadata": {},
   "outputs": [],
   "source": [
    "df_ohe.drop('TotalCharges', axis=1, inplace=True)\n",
    "numeric.remove('TotalCharges')"
   ]
  },
  {
   "cell_type": "markdown",
   "metadata": {
    "id": "gWkXS08y0blZ"
   },
   "source": [
    "#### Разбиение на выборки\n",
    "📝 Данные будем разбивать на три выборки: <br>\n",
    "- обучающую выборку - 60%\n",
    "- валидационную выборку - 20%\n",
    "- тестовую выборку - 20%"
   ]
  },
  {
   "cell_type": "code",
   "execution_count": 34,
   "metadata": {
    "colab": {
     "base_uri": "https://localhost:8080/"
    },
    "id": "pNWWpDm51P41",
    "outputId": "3dbade7e-ba51-4f88-94fc-17b5043734bd"
   },
   "outputs": [
    {
     "name": "stdout",
     "output_type": "stream",
     "text": [
      "Общий размер df: (7032, 21)\n",
      "Размер обучающая выборки: (4219, 21)\n",
      "Размер валидационной выборки: (1407, 21)\n",
      "Размер тестовой выборки: (1406, 21)\n"
     ]
    }
   ],
   "source": [
    "df_train, df_others = train_test_split(df_ohe, test_size=0.4, random_state=RND)\n",
    "df_test, df_valid = train_test_split(df_others, test_size=0.5, random_state=RND)\n",
    "print('Общий размер df:', df_ohe.shape)\n",
    "print('Размер обучающая выборки:', df_train.shape)\n",
    "print('Размер валидационной выборки:', df_valid.shape)\n",
    "print('Размер тестовой выборки:', df_test.shape)"
   ]
  },
  {
   "cell_type": "markdown",
   "metadata": {
    "id": "L9HlMwdZn0Dh"
   },
   "source": [
    "#### Сбалансированность классов"
   ]
  },
  {
   "cell_type": "code",
   "execution_count": 35,
   "metadata": {
    "colab": {
     "base_uri": "https://localhost:8080/",
     "height": 313
    },
    "id": "XMuX7zA3YjIi",
    "outputId": "f9885f1f-f2d5-44bd-cb59-53325e009d12"
   },
   "outputs": [
    {
     "data": {
      "text/plain": [
       "Text(0.5, 1.0, 'Соотношение ушедших к оставшимся')"
      ]
     },
     "execution_count": 35,
     "metadata": {},
     "output_type": "execute_result"
    },
    {
     "data": {
      "image/png": "[encoded data removed]",
      "text/plain": [
       "<Figure size 720x360 with 1 Axes>"
      ]
     },
     "metadata": {},
     "output_type": "display_data"
    }
   ],
   "source": [
    "sns.countplot(x='user_left', data=df_train)\n",
    "plt.title('Соотношение ушедших к оставшимся')"
   ]
  },
  {
   "cell_type": "markdown",
   "metadata": {
    "id": "7NQ9_EqEmzCa"
   },
   "source": [
    "📝Как видно из гистограммы, количество ушедших людей меньше. Сбалансируем классы"
   ]
  },
  {
   "cell_type": "code",
   "execution_count": 36,
   "metadata": {
    "colab": {
     "base_uri": "https://localhost:8080/",
     "height": 313
    },
    "id": "EHGppHWqiqNh",
    "outputId": "7aaf9362-b081-4ab8-94fb-acca959cb1a1",
    "scrolled": false
   },
   "outputs": [
    {
     "data": {
      "text/plain": [
       "Text(0.5, 1.0, 'Соотношение ушедших к оставшимся')"
      ]
     },
     "execution_count": 36,
     "metadata": {},
     "output_type": "execute_result"
    },
    {
     "data": {
      "image/png": "[encoded data removed]",
      "text/plain": [
       "<Figure size 720x360 with 1 Axes>"
      ]
     },
     "metadata": {},
     "output_type": "display_data"
    }
   ],
   "source": [
    "zeros = df_train[df_train['user_left'] == 0]\n",
    "ones = df_train[df_train['user_left'] == 1]\n",
    "\n",
    "repead = 3\n",
    "df_train = pd.concat([zeros] + [ones] * repead)\n",
    "sns.countplot(x='user_left', data=df_train)\n",
    "plt.title('Соотношение ушедших к оставшимся')"
   ]
  },
  {
   "cell_type": "markdown",
   "metadata": {
    "id": "iVOLLvcK1eCN"
   },
   "source": [
    "📝 Разобъем по переменным признаки и целевые признаки"
   ]
  },
  {
   "cell_type": "code",
   "execution_count": 37,
   "metadata": {
    "id": "fSsEn-851iCC"
   },
   "outputs": [],
   "source": [
    "#   Обучающая выборка\n",
    "features_train = df_train.drop(['user_left'], axis=1)\n",
    "target_train = df_train['user_left']\n",
    "\n",
    "#   Валидационная выборка\n",
    "features_valid = df_valid.drop(['user_left'], axis=1)\n",
    "target_valid = df_valid['user_left']\n",
    "\n",
    "#   Тестовая выборка\n",
    "features_test = df_test.drop(['user_left'], axis=1)\n",
    "target_test = df_test['user_left']"
   ]
  },
  {
   "cell_type": "markdown",
   "metadata": {
    "id": "5oEoGIC9z2GF"
   },
   "source": [
    "#### Масштабирование признаков\n",
    "📝 Произведем масштабирование численных признаков датафрейма"
   ]
  },
  {
   "cell_type": "code",
   "execution_count": 38,
   "metadata": {
    "id": "_x2L6f4_rln4"
   },
   "outputs": [],
   "source": [
    "scaler = StandardScaler()\n",
    "scaler.fit(features_train[numeric])\n",
    "features_train[numeric] = scaler.transform(features_train[numeric])\n",
    "features_valid[numeric] = scaler.transform(features_valid[numeric])\n",
    "features_test[numeric] = scaler.transform(features_test[numeric])"
   ]
  },
  {
   "cell_type": "markdown",
   "metadata": {
    "id": "BoVelG2UBVya"
   },
   "source": [
    "### 📍 Выводы\n",
    "- Оценили полезносит признаков, отбросили неинтересные нам для обучения\n",
    "- Провели статистический анализ данных, выбросов не обнаружили\n",
    "- Сбалансировали классы, так как целевые признаки были не сбалансированны по количеству\n",
    "- Закодировали категориальные признаки\n",
    "- Посмотрели корреляцию признаков между собой\n",
    "- Разбили на выборки\n",
    "- Отмасштабировали признаки"
   ]
  },
  {
   "cell_type": "markdown",
   "metadata": {
    "id": "svcdCeC218rO"
   },
   "source": [
    "\n",
    "\n",
    "---\n",
    "\n",
    "\n",
    "\n",
    "---\n",
    "\n",
    "\n",
    "## Обучение моделей lightGBM"
   ]
  },
  {
   "cell_type": "markdown",
   "metadata": {
    "id": "Ras44r6E26Qc"
   },
   "source": [
    "### Приведем категориальные признаки\n",
    "📝 так как данная модель чувствительна к категориальным признакам"
   ]
  },
  {
   "cell_type": "code",
   "execution_count": 39,
   "metadata": {
    "id": "dXCnGCwF06zb"
   },
   "outputs": [],
   "source": [
    "categorial = list(features_train.columns)\n",
    "categorial.remove('MonthlyCharges')\n",
    "# categorial.remove('TotalCharges')\n",
    "categorial.remove('Is_Client')\n",
    "categorial.remove('count_int_ser')\n",
    "\n",
    "features_train[categorial] = features_train[categorial].astype('category')\n",
    "features_valid[categorial] = features_valid[categorial].astype('category')\n",
    "features_test[categorial] = features_test[categorial].astype('category')\n"
   ]
  },
  {
   "cell_type": "markdown",
   "metadata": {
    "id": "D62TW-Gt5g2s"
   },
   "source": [
    "### Обучение модели\n",
    "📝Обучение будем производить с подбором гиперпараметров: \n",
    "- `max_depth` в промежутке [14, 16] с шагом 1,\n",
    "- `n_estimators` в промежутке [400, 430] с шагом 1"
   ]
  },
  {
   "cell_type": "code",
   "execution_count": 40,
   "metadata": {
    "colab": {
     "base_uri": "https://localhost:8080/"
    },
    "id": "3Bfn9Vfv8JlY",
    "outputId": "8bee0457-54b5-448e-ea8b-4285b13f2b47"
   },
   "outputs": [
    {
     "name": "stderr",
     "output_type": "stream",
     "text": [
      "100%|████████████████████████████████████████████████████████████████████████████████████| 8/8 [00:22<00:00,  2.77s/it]\n"
     ]
    }
   ],
   "source": [
    "depth_list = []\n",
    "est_list = []\n",
    "result_list = []\n",
    "\n",
    "for est in tqdm(range(100, 250, 20)):\n",
    "    for depth in range(1, 25, 2):\n",
    "        lgbm = lightgbm.LGBMClassifier(silent=True, \n",
    "                                       categorical_feature=categorial,\n",
    "                                       max_depth=depth,\n",
    "                                       n_estimators=est,\n",
    "                                       class_weight='balanced')\n",
    "        lgbm.fit(features_train, target_train)\n",
    "        predictions_proba = lgbm.predict_proba(features_valid)[:, 1]\n",
    "        depth_list.append(depth)\n",
    "        est_list.append(est)\n",
    "        result_list.append(roc_auc_score(target_valid, predictions_proba))\n"
   ]
  },
  {
   "cell_type": "code",
   "execution_count": 41,
   "metadata": {
    "colab": {
     "base_uri": "https://localhost:8080/",
     "height": 204
    },
    "id": "K7AfiWch6Nrk",
    "outputId": "26c0dab3-00b1-4d0f-a247-d2cf13e4c346"
   },
   "outputs": [
    {
     "data": {
      "text/html": [
       "<div>\n",
       "<style scoped>\n",
       "    .dataframe tbody tr th:only-of-type {\n",
       "        vertical-align: middle;\n",
       "    }\n",
       "\n",
       "    .dataframe tbody tr th {\n",
       "        vertical-align: top;\n",
       "    }\n",
       "\n",
       "    .dataframe thead th {\n",
       "        text-align: right;\n",
       "    }\n",
       "</style>\n",
       "<table border=\"1\" class=\"dataframe\">\n",
       "  <thead>\n",
       "    <tr style=\"text-align: right;\">\n",
       "      <th></th>\n",
       "      <th>max_depth</th>\n",
       "      <th>n_estimators</th>\n",
       "      <th>roc</th>\n",
       "    </tr>\n",
       "  </thead>\n",
       "  <tbody>\n",
       "    <tr>\n",
       "      <th>48</th>\n",
       "      <td>1</td>\n",
       "      <td>180</td>\n",
       "      <td>0.839166</td>\n",
       "    </tr>\n",
       "    <tr>\n",
       "      <th>84</th>\n",
       "      <td>1</td>\n",
       "      <td>240</td>\n",
       "      <td>0.839075</td>\n",
       "    </tr>\n",
       "    <tr>\n",
       "      <th>72</th>\n",
       "      <td>1</td>\n",
       "      <td>220</td>\n",
       "      <td>0.839001</td>\n",
       "    </tr>\n",
       "    <tr>\n",
       "      <th>36</th>\n",
       "      <td>1</td>\n",
       "      <td>160</td>\n",
       "      <td>0.838659</td>\n",
       "    </tr>\n",
       "    <tr>\n",
       "      <th>60</th>\n",
       "      <td>1</td>\n",
       "      <td>200</td>\n",
       "      <td>0.838562</td>\n",
       "    </tr>\n",
       "  </tbody>\n",
       "</table>\n",
       "</div>"
      ],
      "text/plain": [
       "    max_depth  n_estimators       roc\n",
       "48          1           180  0.839166\n",
       "84          1           240  0.839075\n",
       "72          1           220  0.839001\n",
       "36          1           160  0.838659\n",
       "60          1           200  0.838562"
      ]
     },
     "metadata": {},
     "output_type": "display_data"
    }
   ],
   "source": [
    "results = pd.DataFrame({\n",
    "    'max_depth': depth_list,\n",
    "    'n_estimators': est_list,\n",
    "    'roc': result_list\n",
    "})\n",
    "display(results.sort_values(by='roc', ascending=False).head())"
   ]
  },
  {
   "cell_type": "markdown",
   "metadata": {
    "id": "IPTCuFWx7sVl"
   },
   "source": [
    "📝Таким образом, на валидационной выборке, лучшим результатом оказалась модель с гиперпараметрами:\n",
    "- `max_depth` = 1\n",
    "- `n_estimators` = 180"
   ]
  },
  {
   "cell_type": "markdown",
   "metadata": {
    "id": "dIC82YHq8Ag2"
   },
   "source": [
    "### Тестирование модели"
   ]
  },
  {
   "cell_type": "code",
   "execution_count": 42,
   "metadata": {
    "colab": {
     "base_uri": "https://localhost:8080/"
    },
    "id": "owPQnPZs8xS-",
    "outputId": "0e161dd7-60d1-49ec-fc4e-68954be7725e"
   },
   "outputs": [
    {
     "data": {
      "text/plain": [
       "LGBMClassifier(categorical_feature=['SeniorCitizen', 'PhoneUsed',\n",
       "                                    'Type_One year', 'Type_Two year',\n",
       "                                    'PaperlessBilling_Yes',\n",
       "                                    'PaymentMethod_Credit card (automatic)',\n",
       "                                    'PaymentMethod_Electronic check',\n",
       "                                    'PaymentMethod_Mailed check',\n",
       "                                    'InternetService_Fiber optic',\n",
       "                                    'OnlineSecurity_Yes', 'OnlineBackup_Yes',\n",
       "                                    'DeviceProtection_Yes', 'TechSupport_Yes',\n",
       "                                    'StreamingTV_Yes', 'StreamingMovies_Yes',\n",
       "                                    'MultipleLines_Yes',\n",
       "                                    'InternetService_Yes'],\n",
       "               max_depth=1, n_estimators=180)"
      ]
     },
     "execution_count": 42,
     "metadata": {},
     "output_type": "execute_result"
    }
   ],
   "source": [
    "depth =1\n",
    "est = 180\n",
    "lgbm = lightgbm.LGBMClassifier(silent=True, \n",
    "                                   categorical_feature=categorial,\n",
    "                                   max_depth=depth,\n",
    "                                   n_estimators=est)\n",
    "lgbm.fit(features_train, target_train)"
   ]
  },
  {
   "cell_type": "code",
   "execution_count": 43,
   "metadata": {
    "colab": {
     "base_uri": "https://localhost:8080/"
    },
    "id": "E9Xfod589kmg",
    "outputId": "35aec1b6-d6c4-4969-fbac-9dc1659232c4"
   },
   "outputs": [
    {
     "name": "stdout",
     "output_type": "stream",
     "text": [
      "📌==================================================📌\n",
      "max_depth = 1\n",
      "n_estimators = 180\n",
      "Метрика roc_auc = 0.8572819803970848\n",
      "📌==================================================📌\n"
     ]
    }
   ],
   "source": [
    "print('📌==================================================📌')\n",
    "\n",
    "test_predictions = lgbm.predict_proba(features_test)[:, 1]\n",
    "test_roc_auc = roc_auc_score(target_test, test_predictions)\n",
    "print('max_depth = {}\\nn_estimators = {}\\nМетрика roc_auc = {}'.format(depth, est, test_roc_auc))\n",
    "print('📌==================================================📌')"
   ]
  },
  {
   "cell_type": "code",
   "execution_count": 44,
   "metadata": {
    "colab": {
     "base_uri": "https://localhost:8080/",
     "height": 312
    },
    "id": "2CTQGpA68mAw",
    "outputId": "35b836c9-c3ad-4252-d16b-f9722ca5571d"
   },
   "outputs": [
    {
     "data": {
      "text/plain": [
       "<Figure size 720x360 with 0 Axes>"
      ]
     },
     "metadata": {},
     "output_type": "display_data"
    },
    {
     "data": {
      "image/png": "[encoded data removed]",
      "text/plain": [
       "<Figure size 720x360 with 1 Axes>"
      ]
     },
     "metadata": {},
     "output_type": "display_data"
    }
   ],
   "source": [
    "probabilities_test = lgbm.predict_proba(features_test)\n",
    "probabilities_one_test = probabilities_test[:, 1]\n",
    "\n",
    "fpr, tpr, thresholds = roc_curve(target_test, probabilities_one_test) \n",
    "\n",
    "plt.figure()\n",
    "\n",
    "plt.figure()\n",
    "plt.plot(fpr, tpr)\n",
    "plt.fill_between(fpr, tpr, color='#2dbad2', alpha=0.1)\n",
    "plt.plot([0, 1], [0, 1], linestyle='--')\n",
    "plt.xlim([0.0, 1.0])\n",
    "plt.ylim([0.0, 1.0])\n",
    "plt.xlabel('False Positive Rate')\n",
    "plt.ylabel('True Positive Rate')\n",
    "plt.title('ROC-кривая')\n",
    "plt.grid()\n",
    "plt.show() "
   ]
  },
  {
   "cell_type": "markdown",
   "metadata": {
    "id": "Zu-25LfC9089"
   },
   "source": [
    "✅ Построенная нами модель достаточно хорошо себя показала в __AUC-ROC = 0.8572819803970848__."
   ]
  },
  {
   "cell_type": "markdown",
   "metadata": {},
   "source": [
    "<a id=\"a2\"></a>\n",
    "### Определение важности факторов"
   ]
  },
  {
   "cell_type": "markdown",
   "metadata": {},
   "source": [
    "📝 Так как мы будем использовать для обучения __LightGBM__, воспользуемся `lightgbm.plot_importance()`"
   ]
  },
  {
   "cell_type": "code",
   "execution_count": 45,
   "metadata": {
    "scrolled": false
   },
   "outputs": [
    {
     "data": {
      "text/plain": [
       "<AxesSubplot:title={'center':'Feature importance'}, xlabel='Feature importance', ylabel='Features'>"
      ]
     },
     "execution_count": 45,
     "metadata": {},
     "output_type": "execute_result"
    },
    {
     "data": {
      "image/png": "[encoded data removed]",
      "text/plain": [
       "<Figure size 1080x720 with 1 Axes>"
      ]
     },
     "metadata": {},
     "output_type": "display_data"
    }
   ],
   "source": [
    "lightgbm.plot_importance(lgbm,\n",
    "                         figsize=(15, 10))"
   ]
  },
  {
   "cell_type": "markdown",
   "metadata": {},
   "source": [
    "💡 Основные сведения беруться из затрат клиентов на услуги =)"
   ]
  },
  {
   "cell_type": "markdown",
   "metadata": {
    "id": "y5OycFoP-EwN"
   },
   "source": [
    "## 🏁 Выводы\n",
    "__Цель проекта достигнута.__ Удалось построить такую модель метрика AUC-ROC которой на тестовой выборке =  0.8572819803970848. (max_depth = 1, n_estimators = 180). <br>\n",
    "_Для этого было сделано следующее:_\n",
    "- осуществлена предобработка и подготовка данных (кодирование категориальных признаков, разбивка DF на выборки (обучающая, валидационная, тестовая) и признаки/целевые признаки и масштабирование колличественных данных)\n",
    "- проведено исследование данных\n",
    "- проведено увеличение выборки методом upsampling\n",
    "- проведено масштабирование количественных данных\n",
    "- подбраны гиперпараметры для модели классификации LightGBM\n",
    "- построена ROC-кривая"
   ]
  }
 ],
 "metadata": {
  "ExecuteTimeLog": [
   {
    "duration": 48096,
    "start_time": "2021-07-02T16:57:57.014Z"
   },
   {
    "duration": 5,
    "start_time": "2021-07-02T16:58:45.113Z"
   },
   {
    "duration": 1864,
    "start_time": "2021-07-02T16:59:11.831Z"
   },
   {
    "duration": 417,
    "start_time": "2021-07-02T16:59:43.497Z"
   },
   {
    "duration": 47,
    "start_time": "2021-07-02T16:59:46.740Z"
   },
   {
    "duration": 17,
    "start_time": "2021-07-02T16:59:47.553Z"
   },
   {
    "duration": 19,
    "start_time": "2021-07-02T16:59:56.150Z"
   },
   {
    "duration": 22,
    "start_time": "2021-07-02T16:59:56.853Z"
   },
   {
    "duration": 16,
    "start_time": "2021-07-02T16:59:57.426Z"
   },
   {
    "duration": 12,
    "start_time": "2021-07-02T17:02:39.136Z"
   },
   {
    "duration": 7,
    "start_time": "2021-07-02T17:03:48.622Z"
   },
   {
    "duration": 25,
    "start_time": "2021-07-02T17:03:49.616Z"
   },
   {
    "duration": 11,
    "start_time": "2021-07-02T17:04:22.384Z"
   },
   {
    "duration": 6,
    "start_time": "2021-07-02T17:04:24.464Z"
   },
   {
    "duration": 11,
    "start_time": "2021-07-02T17:04:25.024Z"
   },
   {
    "duration": 6,
    "start_time": "2021-07-02T17:04:30.520Z"
   },
   {
    "duration": 904,
    "start_time": "2021-07-02T17:05:32.490Z"
   },
   {
    "duration": 5,
    "start_time": "2021-07-02T17:05:34.344Z"
   },
   {
    "duration": 9,
    "start_time": "2021-07-02T17:05:34.520Z"
   },
   {
    "duration": 18,
    "start_time": "2021-07-02T17:05:34.867Z"
   },
   {
    "duration": 7,
    "start_time": "2021-07-02T17:05:35.057Z"
   },
   {
    "duration": 12,
    "start_time": "2021-07-02T17:05:35.633Z"
   },
   {
    "duration": 346,
    "start_time": "2021-07-02T17:05:37.089Z"
   },
   {
    "duration": 259,
    "start_time": "2021-07-02T17:05:37.440Z"
   },
   {
    "duration": 430,
    "start_time": "2021-07-02T17:05:38.159Z"
   },
   {
    "duration": 247,
    "start_time": "2021-07-02T17:05:38.593Z"
   },
   {
    "duration": 239,
    "start_time": "2021-07-02T17:05:39.079Z"
   },
   {
    "duration": 242,
    "start_time": "2021-07-02T17:05:39.507Z"
   },
   {
    "duration": 50,
    "start_time": "2021-07-02T17:05:40.135Z"
   },
   {
    "duration": 3705,
    "start_time": "2021-07-02T17:05:40.664Z"
   },
   {
    "duration": 17,
    "start_time": "2021-07-02T17:05:44.372Z"
   },
   {
    "duration": 10,
    "start_time": "2021-07-02T17:05:44.392Z"
   },
   {
    "duration": 70,
    "start_time": "2021-07-02T17:05:44.405Z"
   },
   {
    "duration": 38,
    "start_time": "2021-07-02T17:07:53.415Z"
   },
   {
    "duration": 90,
    "start_time": "2021-07-02T17:16:44.266Z"
   },
   {
    "duration": 4,
    "start_time": "2021-07-02T17:16:56.893Z"
   },
   {
    "duration": 11675,
    "start_time": "2021-07-02T17:16:57.650Z"
   },
   {
    "duration": 15264,
    "start_time": "2021-07-02T17:17:18.205Z"
   },
   {
    "duration": 287,
    "start_time": "2021-07-02T17:17:33.472Z"
   },
   {
    "duration": 571,
    "start_time": "2021-07-02T17:17:33.762Z"
   },
   {
    "duration": 1624,
    "start_time": "2021-07-02T17:31:41.764Z"
   },
   {
    "duration": 5,
    "start_time": "2021-07-02T17:31:43.391Z"
   },
   {
    "duration": 121,
    "start_time": "2021-07-02T17:31:47.012Z"
   },
   {
    "duration": 57,
    "start_time": "2021-07-02T17:31:51.593Z"
   },
   {
    "duration": 21,
    "start_time": "2021-07-02T17:31:54.219Z"
   },
   {
    "duration": 25,
    "start_time": "2021-07-02T17:31:56.026Z"
   },
   {
    "duration": 40,
    "start_time": "2021-07-02T17:32:00.683Z"
   },
   {
    "duration": 24,
    "start_time": "2021-07-02T17:32:02.219Z"
   },
   {
    "duration": 12,
    "start_time": "2021-07-02T17:32:03.924Z"
   },
   {
    "duration": 10,
    "start_time": "2021-07-02T17:32:06.610Z"
   },
   {
    "duration": 32,
    "start_time": "2021-07-02T17:32:06.786Z"
   },
   {
    "duration": 1622,
    "start_time": "2021-07-02T17:32:14.772Z"
   },
   {
    "duration": 8,
    "start_time": "2021-07-02T17:32:16.396Z"
   },
   {
    "duration": 114,
    "start_time": "2021-07-02T17:32:16.412Z"
   },
   {
    "duration": 43,
    "start_time": "2021-07-02T17:32:16.529Z"
   },
   {
    "duration": 37,
    "start_time": "2021-07-02T17:32:16.574Z"
   },
   {
    "duration": 25,
    "start_time": "2021-07-02T17:32:16.615Z"
   },
   {
    "duration": 23,
    "start_time": "2021-07-02T17:32:16.642Z"
   },
   {
    "duration": 24,
    "start_time": "2021-07-02T17:32:16.705Z"
   },
   {
    "duration": 14,
    "start_time": "2021-07-02T17:32:16.733Z"
   },
   {
    "duration": 9,
    "start_time": "2021-07-02T17:32:16.749Z"
   },
   {
    "duration": 71,
    "start_time": "2021-07-02T17:32:16.760Z"
   },
   {
    "duration": 10,
    "start_time": "2021-07-02T17:32:16.833Z"
   },
   {
    "duration": 13,
    "start_time": "2021-07-02T17:32:16.846Z"
   },
   {
    "duration": 13,
    "start_time": "2021-07-02T17:32:16.861Z"
   },
   {
    "duration": 31,
    "start_time": "2021-07-02T17:32:16.877Z"
   },
   {
    "duration": 1132,
    "start_time": "2021-07-02T17:32:16.911Z"
   },
   {
    "duration": 5,
    "start_time": "2021-07-02T17:32:18.045Z"
   },
   {
    "duration": 11,
    "start_time": "2021-07-02T17:32:18.053Z"
   },
   {
    "duration": 53,
    "start_time": "2021-07-02T17:32:18.066Z"
   },
   {
    "duration": 7,
    "start_time": "2021-07-02T17:32:18.122Z"
   },
   {
    "duration": 18,
    "start_time": "2021-07-02T17:32:18.132Z"
   },
   {
    "duration": 37,
    "start_time": "2021-07-02T17:32:18.153Z"
   },
   {
    "duration": 516,
    "start_time": "2021-07-02T17:32:18.204Z"
   },
   {
    "duration": 283,
    "start_time": "2021-07-02T17:32:18.724Z"
   },
   {
    "duration": 410,
    "start_time": "2021-07-02T17:32:19.010Z"
   },
   {
    "duration": 272,
    "start_time": "2021-07-02T17:32:19.423Z"
   },
   {
    "duration": 355,
    "start_time": "2021-07-02T17:32:19.701Z"
   },
   {
    "duration": 292,
    "start_time": "2021-07-02T17:32:20.059Z"
   },
   {
    "duration": 68,
    "start_time": "2021-07-02T17:32:20.353Z"
   },
   {
    "duration": 4053,
    "start_time": "2021-07-02T17:32:20.424Z"
   },
   {
    "duration": 41,
    "start_time": "2021-07-02T17:32:24.479Z"
   },
   {
    "duration": 11,
    "start_time": "2021-07-02T17:32:24.524Z"
   },
   {
    "duration": 22,
    "start_time": "2021-07-02T17:32:24.538Z"
   },
   {
    "duration": 120,
    "start_time": "2021-07-02T17:32:24.563Z"
   },
   {
    "duration": 25,
    "start_time": "2021-07-02T17:32:24.686Z"
   },
   {
    "duration": 875138,
    "start_time": "2021-07-02T17:32:24.714Z"
   },
   {
    "duration": -28,
    "start_time": "2021-07-02T17:46:59.883Z"
   },
   {
    "duration": -36,
    "start_time": "2021-07-02T17:46:59.893Z"
   },
   {
    "duration": -39,
    "start_time": "2021-07-02T17:46:59.897Z"
   },
   {
    "duration": -39,
    "start_time": "2021-07-02T17:46:59.899Z"
   },
   {
    "duration": -42,
    "start_time": "2021-07-02T17:46:59.903Z"
   },
   {
    "duration": 454,
    "start_time": "2021-07-02T17:47:05.261Z"
   },
   {
    "duration": 37,
    "start_time": "2021-07-02T17:47:12.790Z"
   },
   {
    "duration": 5,
    "start_time": "2021-07-02T17:47:27.023Z"
   },
   {
    "duration": 19,
    "start_time": "2021-07-02T17:47:31.229Z"
   },
   {
    "duration": 12,
    "start_time": "2021-07-02T17:47:33.214Z"
   },
   {
    "duration": 22,
    "start_time": "2021-07-02T17:47:36.678Z"
   }
  ],
  "colab": {
   "collapsed_sections": [],
   "name": "2 Telecom.ipynb",
   "provenance": [],
   "toc_visible": true
  },
  "kernelspec": {
   "display_name": "Python 3",
   "language": "python",
   "name": "python3"
  },
  "language_info": {
   "codemirror_mode": {
    "name": "ipython",
    "version": 3
   },
   "file_extension": ".py",
   "mimetype": "text/x-python",
   "name": "python",
   "nbconvert_exporter": "python",
   "pygments_lexer": "ipython3",
   "version": "3.8.5"
  },
  "toc": {
   "base_numbering": 1,
   "nav_menu": {},
   "number_sections": true,
   "sideBar": true,
   "skip_h1_title": true,
   "title_cell": "Table of Contents",
   "title_sidebar": "Contents",
   "toc_cell": false,
   "toc_position": {
    "height": "calc(100% - 180px)",
    "left": "10px",
    "top": "150px",
    "width": "366.391px"
   },
   "toc_section_display": true,
   "toc_window_display": false
  }
 },
 "nbformat": 4,
 "nbformat_minor": 1
}
